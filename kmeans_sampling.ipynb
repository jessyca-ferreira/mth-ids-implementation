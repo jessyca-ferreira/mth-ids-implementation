{
  "cells": [
    {
      "cell_type": "code",
      "execution_count": 242,
      "metadata": {
        "id": "8einfDgCA-3O"
      },
      "outputs": [],
      "source": [
        "import subprocess\n",
        "import zipfile\n",
        "import os\n",
        "import numpy as np\n",
        "import pandas as pd\n",
        "from sklearn.calibration import LabelEncoder"
      ]
    },
    {
      "cell_type": "code",
      "execution_count": null,
      "metadata": {},
      "outputs": [],
      "source": [
        "subprocess.run(['wget', 'http://205.174.165.80/CICDataset/CIC-IDS-2017/Dataset/CIC-IDS-2017/CSVs/MachineLearningCSV.zip', '-O', 'CIC_IDS_2017.zip'], check=True) \n",
        "\n",
        "with zipfile.ZipFile(\"CIC_IDS_2017.zip\", 'r') as zip_ref:\n",
        "    zip_ref.extractall(\"./data\")\n",
        "    \n",
        "df_list = []\n",
        "for file in os.listdir('./data/MachineLearningCVE/'):\n",
        "  df_aux = pd.read_csv(f'./data/MachineLearningCVE/{file}')\n",
        "  df_list.append(df_aux)"
      ]
    },
    {
      "cell_type": "code",
      "execution_count": 244,
      "metadata": {},
      "outputs": [],
      "source": [
        "df = pd.concat(df_list, ignore_index=True)"
      ]
    },
    {
      "cell_type": "code",
      "execution_count": 245,
      "metadata": {},
      "outputs": [],
      "source": [
        "df.columns = df.columns.str.strip()"
      ]
    },
    {
      "cell_type": "code",
      "execution_count": null,
      "metadata": {
        "id": "nGJOMIabFRGe"
      },
      "outputs": [],
      "source": [
        "features = df.dtypes[df.dtypes != 'object'].index\n",
        "df[features] = df[features].apply(\n",
        "    lambda x: (x - x.mean()) / (x.std()))"
      ]
    },
    {
      "cell_type": "code",
      "execution_count": 247,
      "metadata": {
        "colab": {
          "base_uri": "https://localhost:8080/"
        },
        "id": "1n8s7q2DhqZD",
        "outputId": "664662ed-a648-46c8-b919-2113c17091a4"
      },
      "outputs": [],
      "source": [
        "df = df.fillna(0)\n",
        "\n",
        "labelencoder = LabelEncoder()\n",
        "df.iloc[:, -1] = labelencoder.fit_transform(df.iloc[:, -1])"
      ]
    },
    {
      "cell_type": "code",
      "execution_count": null,
      "metadata": {},
      "outputs": [],
      "source": [
        "# After fitting the labelencoder\n",
        "original_labels = labelencoder.classes_\n",
        "\n",
        "# Create a mapping from original label to encoded value\n",
        "label_mapping = {label: idx for idx, label in enumerate(original_labels)}\n",
        "\n",
        "print(\"Label Mapping:\")\n",
        "for label, code in label_mapping.items():\n",
        "    print(f\"{label}: {code}\")\n"
      ]
    },
    {
      "cell_type": "code",
      "execution_count": null,
      "metadata": {},
      "outputs": [],
      "source": [
        "df.Label.value_counts()"
      ]
    },
    {
      "cell_type": "code",
      "execution_count": 250,
      "metadata": {
        "id": "dtzNi9-1iyBb"
      },
      "outputs": [],
      "source": [
        "df_minor = df[(df['Label'] == 9) | (df['Label'] == 8) | (df['Label'] == 13) | (df['Label'] == 14) | (df['Label'] == 12) | (df['Label'] == 1) ]\n",
        "df_major = df.drop(df_minor.index)"
      ]
    },
    {
      "cell_type": "code",
      "execution_count": 251,
      "metadata": {
        "id": "3E_dwAl0KrUE"
      },
      "outputs": [],
      "source": [
        "X = df_major.drop(['Label'],axis=1)\n",
        "y = df_major.iloc[:, -1].values.reshape(-1,1)\n",
        "y=np.ravel(y)"
      ]
    },
    {
      "cell_type": "code",
      "execution_count": null,
      "metadata": {
        "id": "1vC8XoMBKtUM"
      },
      "outputs": [],
      "source": [
        "from sklearn.cluster import MiniBatchKMeans\n",
        "# KMeans clustering\n",
        "kmeans = MiniBatchKMeans(n_clusters=1000, random_state=0).fit(X)\n",
        "df_major['klabel'] = kmeans.labels_"
      ]
    },
    {
      "cell_type": "code",
      "execution_count": 253,
      "metadata": {
        "id": "jxNV3q62K28_"
      },
      "outputs": [],
      "source": [
        "cols = list(df_major)\n",
        "cols.insert(78, cols.pop(cols.index('Label')))\n",
        "df_major = df_major.loc[:, cols]"
      ]
    },
    {
      "cell_type": "code",
      "execution_count": 254,
      "metadata": {},
      "outputs": [],
      "source": [
        "def benignSampling(group):\n",
        "    return group.sample(frac=0.02)"
      ]
    },
    {
      "cell_type": "code",
      "execution_count": 255,
      "metadata": {},
      "outputs": [],
      "source": [
        "def typicalSampling(group):\n",
        "    return group.sample(frac=0.0045)"
      ]
    },
    {
      "cell_type": "code",
      "execution_count": 256,
      "metadata": {
        "id": "LHqKwPghK4-4"
      },
      "outputs": [],
      "source": [
        "df_label_0 = df_major[df_major['Label'] == 0]\n",
        "df_other_labels = df_major[df_major['Label'] != 0]\n",
        "\n",
        "\n",
        "result_0 = df_label_0.groupby(\n",
        "    'klabel', group_keys=False\n",
        ").apply(typicalSampling)\n",
        "\n",
        "result_1 = df_other_labels.groupby(\n",
        "    'klabel', group_keys=False\n",
        ").apply(benignSampling)\n"
      ]
    },
    {
      "cell_type": "code",
      "execution_count": 257,
      "metadata": {
        "colab": {
          "base_uri": "https://localhost:8080/"
        },
        "id": "QBwRrdSrfowf",
        "outputId": "cbd52ef4-afcd-43ea-90a4-34f0f21df81f"
      },
      "outputs": [],
      "source": [
        "result = pd.concat([result_0, result_1, df_minor], ignore_index=True)\n",
        "result = result.drop(['klabel'], axis=1)"
      ]
    },
    {
      "cell_type": "code",
      "execution_count": null,
      "metadata": {
        "colab": {
          "base_uri": "https://localhost:8080/"
        },
        "id": "qxbKI0VYLCRj",
        "outputId": "0d3a8e26-f601-4f6c-e159-f485260b248c"
      },
      "outputs": [],
      "source": [
        "# Save in the same directory\n",
        "result.to_csv('CICIDS2017_sample_km.csv', index=False)\n",
        "print(\"Final sampled dataset saved to CICIDS2018_sample_km.csv\")"
      ]
    },
    {
      "cell_type": "code",
      "execution_count": 259,
      "metadata": {
        "id": "ZmTcla6oanAF"
      },
      "outputs": [],
      "source": [
        "df = pd.read_csv('CICIDS2017_sample_km.csv')"
      ]
    },
    {
      "cell_type": "code",
      "execution_count": null,
      "metadata": {
        "colab": {
          "base_uri": "https://localhost:8080/",
          "height": 429
        },
        "id": "m8fuPvoJmtlq",
        "outputId": "fa90215a-504d-4bb8-aafe-45367700c3f1"
      },
      "outputs": [],
      "source": [
        "df.Label.value_counts()"
      ]
    }
  ],
  "metadata": {
    "colab": {
      "machine_shape": "hm",
      "provenance": []
    },
    "kernelspec": {
      "display_name": "Python 3",
      "name": "python3"
    },
    "language_info": {
      "name": "python"
    }
  },
  "nbformat": 4,
  "nbformat_minor": 0
}
