{
  "cells": [
    {
      "cell_type": "markdown",
      "metadata": {
        "id": "4t7HWM_vxUK0"
      },
      "source": [
        "# MTH-IDS: A Multi-Tiered Hybrid Intrusion Detection System for Internet of Vehicles\n",
        "This is the code for the paper entitled \"[**MTH-IDS: A Multi-Tiered Hybrid Intrusion Detection System for Internet of Vehicles**](https://arxiv.org/pdf/2105.13289.pdf)\" accepted in IEEE Internet of Things Journal.  \n",
        "Authors: Li Yang (liyanghart@gmail.com), Abdallah Moubayed, and Abdallah Shami  \n",
        "Organization: The Optimized Computing and Communications (OC2) Lab, ECE Department, Western University\n",
        "\n",
        "If you find this repository useful in your research, please cite:  \n",
        "L. Yang, A. Moubayed, and A. Shami, “MTH-IDS: A Multi-Tiered Hybrid Intrusion Detection System for Internet of Vehicles,” IEEE Internet of Things Journal, vol. 9, no. 1, pp. 616-632, Jan.1, 2022."
      ]
    },
    {
      "cell_type": "markdown",
      "metadata": {
        "id": "UziGNZBBxUK2"
      },
      "source": [
        "## Import libraries"
      ]
    },
    {
      "cell_type": "code",
      "execution_count": 1,
      "metadata": {
        "id": "p7FfWC6fxUK3"
      },
      "outputs": [],
      "source": [
        "import warnings\n",
        "warnings.filterwarnings(\"ignore\")"
      ]
    },
    {
      "cell_type": "code",
      "execution_count": 2,
      "metadata": {
        "id": "lzVfoLulxUK4"
      },
      "outputs": [],
      "source": [
        "import numpy as np\n",
        "import pandas as pd\n",
        "import seaborn as sns\n",
        "import matplotlib.pyplot as plt\n",
        "from sklearn.preprocessing import LabelEncoder\n",
        "from sklearn.model_selection import train_test_split\n",
        "from sklearn.metrics import classification_report,confusion_matrix,accuracy_score,precision_recall_fscore_support\n",
        "from sklearn.metrics import f1_score,roc_auc_score\n",
        "from sklearn.ensemble import RandomForestClassifier,ExtraTreesClassifier\n",
        "from sklearn.tree import DecisionTreeClassifier\n",
        "import xgboost as xgb\n",
        "from xgboost import plot_importance"
      ]
    },
    {
      "cell_type": "markdown",
      "metadata": {
        "id": "n_TxQnY2bi_P"
      },
      "source": [
        "## Anomaly-based IDS - Infiltration"
      ]
    },
    {
      "cell_type": "markdown",
      "metadata": {
        "id": "stxzj7ujbi_P"
      },
      "source": [
        "### Generate the port-scan datasets for unknown attack detection"
      ]
    },
    {
      "cell_type": "code",
      "execution_count": 3,
      "metadata": {
        "id": "0aS8VZiKbi_P"
      },
      "outputs": [],
      "source": [
        "df=pd.read_csv('CICIDS2018_sample_km.csv')"
      ]
    },
    {
      "cell_type": "code",
      "execution_count": null,
      "metadata": {
        "colab": {
          "base_uri": "https://localhost:8080/",
          "height": 495
        },
        "id": "eqKtQpKIZOqm",
        "outputId": "91af4f3f-36ce-4a92-f910-0b4afdf061f7"
      },
      "outputs": [
        {
          "data": {
            "text/html": [
              "<div>\n",
              "<style scoped>\n",
              "    .dataframe tbody tr th:only-of-type {\n",
              "        vertical-align: middle;\n",
              "    }\n",
              "\n",
              "    .dataframe tbody tr th {\n",
              "        vertical-align: top;\n",
              "    }\n",
              "\n",
              "    .dataframe thead th {\n",
              "        text-align: right;\n",
              "    }\n",
              "</style>\n",
              "<table border=\"1\" class=\"dataframe\">\n",
              "  <thead>\n",
              "    <tr style=\"text-align: right;\">\n",
              "      <th></th>\n",
              "      <th>Protocol</th>\n",
              "      <th>Flow Duration</th>\n",
              "      <th>Total Fwd Packets</th>\n",
              "      <th>Total Backward Packets</th>\n",
              "      <th>Fwd Packets Length Total</th>\n",
              "      <th>Bwd Packets Length Total</th>\n",
              "      <th>Fwd Packet Length Max</th>\n",
              "      <th>Fwd Packet Length Min</th>\n",
              "      <th>Fwd Packet Length Mean</th>\n",
              "      <th>Fwd Packet Length Std</th>\n",
              "      <th>...</th>\n",
              "      <th>Fwd Seg Size Min</th>\n",
              "      <th>Active Mean</th>\n",
              "      <th>Active Std</th>\n",
              "      <th>Active Max</th>\n",
              "      <th>Active Min</th>\n",
              "      <th>Idle Mean</th>\n",
              "      <th>Idle Std</th>\n",
              "      <th>Idle Max</th>\n",
              "      <th>Idle Min</th>\n",
              "      <th>Label</th>\n",
              "    </tr>\n",
              "  </thead>\n",
              "  <tbody>\n",
              "    <tr>\n",
              "      <th>0</th>\n",
              "      <td>-0.475925</td>\n",
              "      <td>-0.005346</td>\n",
              "      <td>-0.020438</td>\n",
              "      <td>-0.040784</td>\n",
              "      <td>-0.020339</td>\n",
              "      <td>-0.022177</td>\n",
              "      <td>-0.830722</td>\n",
              "      <td>-0.361301</td>\n",
              "      <td>-0.961988</td>\n",
              "      <td>-0.776052</td>\n",
              "      <td>...</td>\n",
              "      <td>0.187746</td>\n",
              "      <td>-0.070847</td>\n",
              "      <td>-0.057248</td>\n",
              "      <td>-0.085188</td>\n",
              "      <td>-0.058141</td>\n",
              "      <td>0.007993</td>\n",
              "      <td>-0.001875</td>\n",
              "      <td>0.002505</td>\n",
              "      <td>0.039759</td>\n",
              "      <td>6</td>\n",
              "    </tr>\n",
              "    <tr>\n",
              "      <th>1</th>\n",
              "      <td>-0.475925</td>\n",
              "      <td>-0.005361</td>\n",
              "      <td>-0.020438</td>\n",
              "      <td>-0.040784</td>\n",
              "      <td>-0.020339</td>\n",
              "      <td>-0.022177</td>\n",
              "      <td>-0.830722</td>\n",
              "      <td>-0.361301</td>\n",
              "      <td>-0.961988</td>\n",
              "      <td>-0.776052</td>\n",
              "      <td>...</td>\n",
              "      <td>0.187746</td>\n",
              "      <td>-0.070847</td>\n",
              "      <td>-0.057248</td>\n",
              "      <td>-0.085188</td>\n",
              "      <td>-0.058141</td>\n",
              "      <td>0.007993</td>\n",
              "      <td>-0.001875</td>\n",
              "      <td>0.002505</td>\n",
              "      <td>0.039759</td>\n",
              "      <td>6</td>\n",
              "    </tr>\n",
              "    <tr>\n",
              "      <th>2</th>\n",
              "      <td>-0.475925</td>\n",
              "      <td>-0.005399</td>\n",
              "      <td>-0.020438</td>\n",
              "      <td>-0.040784</td>\n",
              "      <td>-0.020339</td>\n",
              "      <td>-0.022177</td>\n",
              "      <td>-0.830722</td>\n",
              "      <td>-0.361301</td>\n",
              "      <td>-0.961988</td>\n",
              "      <td>-0.776052</td>\n",
              "      <td>...</td>\n",
              "      <td>0.187746</td>\n",
              "      <td>-0.070847</td>\n",
              "      <td>-0.057248</td>\n",
              "      <td>-0.085188</td>\n",
              "      <td>-0.058141</td>\n",
              "      <td>0.007750</td>\n",
              "      <td>-0.001875</td>\n",
              "      <td>0.002402</td>\n",
              "      <td>0.038739</td>\n",
              "      <td>6</td>\n",
              "    </tr>\n",
              "    <tr>\n",
              "      <th>3</th>\n",
              "      <td>-0.475925</td>\n",
              "      <td>-0.005334</td>\n",
              "      <td>-0.020438</td>\n",
              "      <td>-0.040784</td>\n",
              "      <td>-0.020339</td>\n",
              "      <td>-0.022177</td>\n",
              "      <td>-0.830722</td>\n",
              "      <td>-0.361301</td>\n",
              "      <td>-0.961988</td>\n",
              "      <td>-0.776052</td>\n",
              "      <td>...</td>\n",
              "      <td>0.187746</td>\n",
              "      <td>-0.070847</td>\n",
              "      <td>-0.057248</td>\n",
              "      <td>-0.085188</td>\n",
              "      <td>-0.058141</td>\n",
              "      <td>0.007993</td>\n",
              "      <td>-0.001875</td>\n",
              "      <td>0.002505</td>\n",
              "      <td>0.039759</td>\n",
              "      <td>6</td>\n",
              "    </tr>\n",
              "    <tr>\n",
              "      <th>4</th>\n",
              "      <td>-0.475925</td>\n",
              "      <td>-0.005453</td>\n",
              "      <td>-0.020438</td>\n",
              "      <td>-0.040784</td>\n",
              "      <td>-0.020339</td>\n",
              "      <td>-0.022177</td>\n",
              "      <td>-0.830722</td>\n",
              "      <td>-0.361301</td>\n",
              "      <td>-0.961988</td>\n",
              "      <td>-0.776052</td>\n",
              "      <td>...</td>\n",
              "      <td>0.187746</td>\n",
              "      <td>-0.070847</td>\n",
              "      <td>-0.057248</td>\n",
              "      <td>-0.085188</td>\n",
              "      <td>-0.058141</td>\n",
              "      <td>0.007750</td>\n",
              "      <td>-0.001875</td>\n",
              "      <td>0.002402</td>\n",
              "      <td>0.038739</td>\n",
              "      <td>6</td>\n",
              "    </tr>\n",
              "    <tr>\n",
              "      <th>...</th>\n",
              "      <td>...</td>\n",
              "      <td>...</td>\n",
              "      <td>...</td>\n",
              "      <td>...</td>\n",
              "      <td>...</td>\n",
              "      <td>...</td>\n",
              "      <td>...</td>\n",
              "      <td>...</td>\n",
              "      <td>...</td>\n",
              "      <td>...</td>\n",
              "      <td>...</td>\n",
              "      <td>...</td>\n",
              "      <td>...</td>\n",
              "      <td>...</td>\n",
              "      <td>...</td>\n",
              "      <td>...</td>\n",
              "      <td>...</td>\n",
              "      <td>...</td>\n",
              "      <td>...</td>\n",
              "      <td>...</td>\n",
              "      <td>...</td>\n",
              "    </tr>\n",
              "    <tr>\n",
              "      <th>36452</th>\n",
              "      <td>1.944820</td>\n",
              "      <td>-0.018959</td>\n",
              "      <td>-0.020859</td>\n",
              "      <td>-0.035722</td>\n",
              "      <td>-0.019875</td>\n",
              "      <td>-0.021916</td>\n",
              "      <td>-0.704356</td>\n",
              "      <td>1.437948</td>\n",
              "      <td>-0.330935</td>\n",
              "      <td>-0.776052</td>\n",
              "      <td>...</td>\n",
              "      <td>-1.492618</td>\n",
              "      <td>-0.070847</td>\n",
              "      <td>-0.057248</td>\n",
              "      <td>-0.085188</td>\n",
              "      <td>-0.058141</td>\n",
              "      <td>-0.017585</td>\n",
              "      <td>-0.001875</td>\n",
              "      <td>-0.008251</td>\n",
              "      <td>-0.067285</td>\n",
              "      <td>0</td>\n",
              "    </tr>\n",
              "    <tr>\n",
              "      <th>36453</th>\n",
              "      <td>1.944820</td>\n",
              "      <td>-0.018959</td>\n",
              "      <td>-0.020859</td>\n",
              "      <td>-0.035722</td>\n",
              "      <td>-0.019875</td>\n",
              "      <td>-0.021916</td>\n",
              "      <td>-0.704356</td>\n",
              "      <td>1.437948</td>\n",
              "      <td>-0.330935</td>\n",
              "      <td>-0.776052</td>\n",
              "      <td>...</td>\n",
              "      <td>-1.492618</td>\n",
              "      <td>-0.070847</td>\n",
              "      <td>-0.057248</td>\n",
              "      <td>-0.085188</td>\n",
              "      <td>-0.058141</td>\n",
              "      <td>-0.017585</td>\n",
              "      <td>-0.001875</td>\n",
              "      <td>-0.008251</td>\n",
              "      <td>-0.067285</td>\n",
              "      <td>0</td>\n",
              "    </tr>\n",
              "    <tr>\n",
              "      <th>36454</th>\n",
              "      <td>1.944820</td>\n",
              "      <td>-0.018959</td>\n",
              "      <td>-0.020859</td>\n",
              "      <td>-0.035722</td>\n",
              "      <td>-0.019875</td>\n",
              "      <td>-0.021916</td>\n",
              "      <td>-0.704356</td>\n",
              "      <td>1.437948</td>\n",
              "      <td>-0.330935</td>\n",
              "      <td>-0.776052</td>\n",
              "      <td>...</td>\n",
              "      <td>-1.492618</td>\n",
              "      <td>-0.070847</td>\n",
              "      <td>-0.057248</td>\n",
              "      <td>-0.085188</td>\n",
              "      <td>-0.058141</td>\n",
              "      <td>-0.017585</td>\n",
              "      <td>-0.001875</td>\n",
              "      <td>-0.008251</td>\n",
              "      <td>-0.067285</td>\n",
              "      <td>0</td>\n",
              "    </tr>\n",
              "    <tr>\n",
              "      <th>36455</th>\n",
              "      <td>1.944820</td>\n",
              "      <td>-0.018959</td>\n",
              "      <td>-0.020859</td>\n",
              "      <td>-0.035722</td>\n",
              "      <td>-0.019885</td>\n",
              "      <td>-0.021920</td>\n",
              "      <td>-0.707164</td>\n",
              "      <td>1.397965</td>\n",
              "      <td>-0.344959</td>\n",
              "      <td>-0.776052</td>\n",
              "      <td>...</td>\n",
              "      <td>-1.492618</td>\n",
              "      <td>-0.070847</td>\n",
              "      <td>-0.057248</td>\n",
              "      <td>-0.085188</td>\n",
              "      <td>-0.058141</td>\n",
              "      <td>-0.017585</td>\n",
              "      <td>-0.001875</td>\n",
              "      <td>-0.008251</td>\n",
              "      <td>-0.067285</td>\n",
              "      <td>0</td>\n",
              "    </tr>\n",
              "    <tr>\n",
              "      <th>36456</th>\n",
              "      <td>1.944820</td>\n",
              "      <td>-0.018959</td>\n",
              "      <td>-0.020859</td>\n",
              "      <td>-0.035722</td>\n",
              "      <td>-0.019875</td>\n",
              "      <td>-0.021916</td>\n",
              "      <td>-0.704356</td>\n",
              "      <td>1.437948</td>\n",
              "      <td>-0.330935</td>\n",
              "      <td>-0.776052</td>\n",
              "      <td>...</td>\n",
              "      <td>-1.492618</td>\n",
              "      <td>-0.070847</td>\n",
              "      <td>-0.057248</td>\n",
              "      <td>-0.085188</td>\n",
              "      <td>-0.058141</td>\n",
              "      <td>-0.017585</td>\n",
              "      <td>-0.001875</td>\n",
              "      <td>-0.008251</td>\n",
              "      <td>-0.067285</td>\n",
              "      <td>0</td>\n",
              "    </tr>\n",
              "  </tbody>\n",
              "</table>\n",
              "<p>36457 rows × 78 columns</p>\n",
              "</div>"
            ],
            "text/plain": [
              "       Protocol  Flow Duration  Total Fwd Packets  Total Backward Packets  \\\n",
              "0     -0.475925      -0.005346          -0.020438               -0.040784   \n",
              "1     -0.475925      -0.005361          -0.020438               -0.040784   \n",
              "2     -0.475925      -0.005399          -0.020438               -0.040784   \n",
              "3     -0.475925      -0.005334          -0.020438               -0.040784   \n",
              "4     -0.475925      -0.005453          -0.020438               -0.040784   \n",
              "...         ...            ...                ...                     ...   \n",
              "36452  1.944820      -0.018959          -0.020859               -0.035722   \n",
              "36453  1.944820      -0.018959          -0.020859               -0.035722   \n",
              "36454  1.944820      -0.018959          -0.020859               -0.035722   \n",
              "36455  1.944820      -0.018959          -0.020859               -0.035722   \n",
              "36456  1.944820      -0.018959          -0.020859               -0.035722   \n",
              "\n",
              "       Fwd Packets Length Total  Bwd Packets Length Total  \\\n",
              "0                     -0.020339                 -0.022177   \n",
              "1                     -0.020339                 -0.022177   \n",
              "2                     -0.020339                 -0.022177   \n",
              "3                     -0.020339                 -0.022177   \n",
              "4                     -0.020339                 -0.022177   \n",
              "...                         ...                       ...   \n",
              "36452                 -0.019875                 -0.021916   \n",
              "36453                 -0.019875                 -0.021916   \n",
              "36454                 -0.019875                 -0.021916   \n",
              "36455                 -0.019885                 -0.021920   \n",
              "36456                 -0.019875                 -0.021916   \n",
              "\n",
              "       Fwd Packet Length Max  Fwd Packet Length Min  Fwd Packet Length Mean  \\\n",
              "0                  -0.830722              -0.361301               -0.961988   \n",
              "1                  -0.830722              -0.361301               -0.961988   \n",
              "2                  -0.830722              -0.361301               -0.961988   \n",
              "3                  -0.830722              -0.361301               -0.961988   \n",
              "4                  -0.830722              -0.361301               -0.961988   \n",
              "...                      ...                    ...                     ...   \n",
              "36452              -0.704356               1.437948               -0.330935   \n",
              "36453              -0.704356               1.437948               -0.330935   \n",
              "36454              -0.704356               1.437948               -0.330935   \n",
              "36455              -0.707164               1.397965               -0.344959   \n",
              "36456              -0.704356               1.437948               -0.330935   \n",
              "\n",
              "       Fwd Packet Length Std  ...  Fwd Seg Size Min  Active Mean  Active Std  \\\n",
              "0                  -0.776052  ...          0.187746    -0.070847   -0.057248   \n",
              "1                  -0.776052  ...          0.187746    -0.070847   -0.057248   \n",
              "2                  -0.776052  ...          0.187746    -0.070847   -0.057248   \n",
              "3                  -0.776052  ...          0.187746    -0.070847   -0.057248   \n",
              "4                  -0.776052  ...          0.187746    -0.070847   -0.057248   \n",
              "...                      ...  ...               ...          ...         ...   \n",
              "36452              -0.776052  ...         -1.492618    -0.070847   -0.057248   \n",
              "36453              -0.776052  ...         -1.492618    -0.070847   -0.057248   \n",
              "36454              -0.776052  ...         -1.492618    -0.070847   -0.057248   \n",
              "36455              -0.776052  ...         -1.492618    -0.070847   -0.057248   \n",
              "36456              -0.776052  ...         -1.492618    -0.070847   -0.057248   \n",
              "\n",
              "       Active Max  Active Min  Idle Mean  Idle Std  Idle Max  Idle Min  Label  \n",
              "0       -0.085188   -0.058141   0.007993 -0.001875  0.002505  0.039759      6  \n",
              "1       -0.085188   -0.058141   0.007993 -0.001875  0.002505  0.039759      6  \n",
              "2       -0.085188   -0.058141   0.007750 -0.001875  0.002402  0.038739      6  \n",
              "3       -0.085188   -0.058141   0.007993 -0.001875  0.002505  0.039759      6  \n",
              "4       -0.085188   -0.058141   0.007750 -0.001875  0.002402  0.038739      6  \n",
              "...           ...         ...        ...       ...       ...       ...    ...  \n",
              "36452   -0.085188   -0.058141  -0.017585 -0.001875 -0.008251 -0.067285      0  \n",
              "36453   -0.085188   -0.058141  -0.017585 -0.001875 -0.008251 -0.067285      0  \n",
              "36454   -0.085188   -0.058141  -0.017585 -0.001875 -0.008251 -0.067285      0  \n",
              "36455   -0.085188   -0.058141  -0.017585 -0.001875 -0.008251 -0.067285      0  \n",
              "36456   -0.085188   -0.058141  -0.017585 -0.001875 -0.008251 -0.067285      0  \n",
              "\n",
              "[36457 rows x 78 columns]"
            ]
          },
          "execution_count": 4,
          "metadata": {},
          "output_type": "execute_result"
        }
      ],
      "source": [
        "df"
      ]
    },
    {
      "cell_type": "code",
      "execution_count": 5,
      "metadata": {
        "colab": {
          "base_uri": "https://localhost:8080/",
          "height": 585
        },
        "id": "lkoM1_yGbi_P",
        "outputId": "b3c75a18-2b8d-426b-c9b3-a9abd012b3ff"
      },
      "outputs": [
        {
          "data": {
            "text/plain": [
              "Label\n",
              "0     10663\n",
              "10     9908\n",
              "6      5748\n",
              "4      1989\n",
              "5      1730\n",
              "8      1448\n",
              "1      1440\n",
              "12     1183\n",
              "14      943\n",
              "2       568\n",
              "7       415\n",
              "3       229\n",
              "13       85\n",
              "9        55\n",
              "11       53\n",
              "Name: count, dtype: int64"
            ]
          },
          "execution_count": 5,
          "metadata": {},
          "output_type": "execute_result"
        }
      ],
      "source": [
        "df.Label.value_counts()"
      ]
    },
    {
      "cell_type": "code",
      "execution_count": 6,
      "metadata": {
        "id": "XWRrdiRKbi_P"
      },
      "outputs": [],
      "source": [
        "df1 = df[df['Label'] != 12]\n",
        "df1['Label'][df1['Label'] > 0] = 1\n",
        "df1.to_csv('./CICIDS2017_sample_km_without_infiltration.csv',index=0)"
      ]
    },
    {
      "cell_type": "code",
      "execution_count": 7,
      "metadata": {
        "id": "wYCNh_Anbi_P"
      },
      "outputs": [],
      "source": [
        "df2 = df[df['Label'] == 12]\n",
        "df2['Label'][df2['Label'] == 12] = 1\n",
        "df2.to_csv('./CICIDS2017_sample_km_infiltration.csv',index=0)"
      ]
    },
    {
      "cell_type": "markdown",
      "metadata": {
        "id": "aLdbn8C-bi_P"
      },
      "source": [
        "### Read the generated datasets for unknown attack detection"
      ]
    },
    {
      "cell_type": "code",
      "execution_count": 8,
      "metadata": {
        "id": "-YlqR8febi_P"
      },
      "outputs": [],
      "source": [
        "df1 = pd.read_csv('./CICIDS2017_sample_km_without_infiltration.csv')\n",
        "df2 = pd.read_csv('./CICIDS2017_sample_km_infiltration.csv')"
      ]
    },
    {
      "cell_type": "code",
      "execution_count": 9,
      "metadata": {
        "id": "GMEk2nBUbi_Q"
      },
      "outputs": [],
      "source": [
        "features = df1.drop(['Label'],axis=1).dtypes[df1.dtypes != 'object'].index\n",
        "df1[features] = df1[features].apply(\n",
        "    lambda x: (x - x.mean()) / (x.std()))\n",
        "df2[features] = df2[features].apply(\n",
        "    lambda x: (x - x.mean()) / (x.std()))\n",
        "df1.replace([np.inf, -np.inf], np.nan, inplace=True)\n",
        "df2.replace([np.inf, -np.inf], np.nan, inplace=True)\n",
        "df1 = df1.fillna(0)\n",
        "df2 = df2.fillna(0)"
      ]
    },
    {
      "cell_type": "code",
      "execution_count": 10,
      "metadata": {
        "colab": {
          "base_uri": "https://localhost:8080/",
          "height": 178
        },
        "id": "AceZUYfTbi_Q",
        "outputId": "f6ab310d-61d3-4abb-e3b7-0de05013a529"
      },
      "outputs": [
        {
          "data": {
            "text/plain": [
              "Label\n",
              "1    24611\n",
              "0    10663\n",
              "Name: count, dtype: int64"
            ]
          },
          "execution_count": 10,
          "metadata": {},
          "output_type": "execute_result"
        }
      ],
      "source": [
        "df1.Label.value_counts()"
      ]
    },
    {
      "cell_type": "code",
      "execution_count": 11,
      "metadata": {
        "colab": {
          "base_uri": "https://localhost:8080/",
          "height": 147
        },
        "id": "P3gPHOJCbi_Q",
        "outputId": "2edd0bd8-5591-4438-aa54-beac9cdf927d"
      },
      "outputs": [
        {
          "data": {
            "text/plain": [
              "Label\n",
              "1    1183\n",
              "Name: count, dtype: int64"
            ]
          },
          "execution_count": 11,
          "metadata": {},
          "output_type": "execute_result"
        }
      ],
      "source": [
        "df2.Label.value_counts()"
      ]
    },
    {
      "cell_type": "code",
      "execution_count": 12,
      "metadata": {
        "id": "sJe6_QrFbi_Q"
      },
      "outputs": [],
      "source": [
        "df2p=df1[df1['Label']==0]\n",
        "df2pp=df2p.sample(n=None, frac=1183/10663, replace=False, weights=None, random_state=None, axis=0)\n",
        "df2=pd.concat([df2, df2pp])"
      ]
    },
    {
      "cell_type": "code",
      "execution_count": 13,
      "metadata": {
        "colab": {
          "base_uri": "https://localhost:8080/",
          "height": 178
        },
        "id": "M4ZgXuQqbi_Q",
        "outputId": "5636e562-a59a-4b92-ae0a-27fb3b3a20c3"
      },
      "outputs": [
        {
          "data": {
            "text/plain": [
              "Label\n",
              "1    1183\n",
              "0    1183\n",
              "Name: count, dtype: int64"
            ]
          },
          "execution_count": 13,
          "metadata": {},
          "output_type": "execute_result"
        }
      ],
      "source": [
        "df2.Label.value_counts()"
      ]
    },
    {
      "cell_type": "code",
      "execution_count": 14,
      "metadata": {
        "id": "kWsioEdRbi_Q"
      },
      "outputs": [],
      "source": [
        "df = pd.concat([df1, df2])"
      ]
    },
    {
      "cell_type": "code",
      "execution_count": null,
      "metadata": {
        "colab": {
          "base_uri": "https://localhost:8080/",
          "height": 495
        },
        "id": "Gy2DepOHkHNL",
        "outputId": "5c3b0282-32a8-4b20-a410-fd73cd9c34c6"
      },
      "outputs": [
        {
          "data": {
            "text/html": [
              "<div>\n",
              "<style scoped>\n",
              "    .dataframe tbody tr th:only-of-type {\n",
              "        vertical-align: middle;\n",
              "    }\n",
              "\n",
              "    .dataframe tbody tr th {\n",
              "        vertical-align: top;\n",
              "    }\n",
              "\n",
              "    .dataframe thead th {\n",
              "        text-align: right;\n",
              "    }\n",
              "</style>\n",
              "<table border=\"1\" class=\"dataframe\">\n",
              "  <thead>\n",
              "    <tr style=\"text-align: right;\">\n",
              "      <th></th>\n",
              "      <th>Protocol</th>\n",
              "      <th>Flow Duration</th>\n",
              "      <th>Total Fwd Packets</th>\n",
              "      <th>Total Backward Packets</th>\n",
              "      <th>Fwd Packets Length Total</th>\n",
              "      <th>Bwd Packets Length Total</th>\n",
              "      <th>Fwd Packet Length Max</th>\n",
              "      <th>Fwd Packet Length Min</th>\n",
              "      <th>Fwd Packet Length Mean</th>\n",
              "      <th>Fwd Packet Length Std</th>\n",
              "      <th>...</th>\n",
              "      <th>Fwd Seg Size Min</th>\n",
              "      <th>Active Mean</th>\n",
              "      <th>Active Std</th>\n",
              "      <th>Active Max</th>\n",
              "      <th>Active Min</th>\n",
              "      <th>Idle Mean</th>\n",
              "      <th>Idle Std</th>\n",
              "      <th>Idle Max</th>\n",
              "      <th>Idle Min</th>\n",
              "      <th>Label</th>\n",
              "    </tr>\n",
              "  </thead>\n",
              "  <tbody>\n",
              "    <tr>\n",
              "      <th>0</th>\n",
              "      <td>-0.368499</td>\n",
              "      <td>-0.528420</td>\n",
              "      <td>-0.221111</td>\n",
              "      <td>-0.073026</td>\n",
              "      <td>-0.222130</td>\n",
              "      <td>-0.030359</td>\n",
              "      <td>-0.738465</td>\n",
              "      <td>-0.217184</td>\n",
              "      <td>-0.863447</td>\n",
              "      <td>-0.722063</td>\n",
              "      <td>...</td>\n",
              "      <td>-0.393029</td>\n",
              "      <td>-0.380462</td>\n",
              "      <td>-0.336497</td>\n",
              "      <td>-0.382908</td>\n",
              "      <td>-0.367374</td>\n",
              "      <td>-0.133923</td>\n",
              "      <td>-0.399174</td>\n",
              "      <td>-0.247117</td>\n",
              "      <td>-0.051392</td>\n",
              "      <td>1</td>\n",
              "    </tr>\n",
              "    <tr>\n",
              "      <th>1</th>\n",
              "      <td>-0.368499</td>\n",
              "      <td>-0.528661</td>\n",
              "      <td>-0.221111</td>\n",
              "      <td>-0.073026</td>\n",
              "      <td>-0.222130</td>\n",
              "      <td>-0.030359</td>\n",
              "      <td>-0.738465</td>\n",
              "      <td>-0.217184</td>\n",
              "      <td>-0.863447</td>\n",
              "      <td>-0.722063</td>\n",
              "      <td>...</td>\n",
              "      <td>-0.393029</td>\n",
              "      <td>-0.380462</td>\n",
              "      <td>-0.336497</td>\n",
              "      <td>-0.382908</td>\n",
              "      <td>-0.367374</td>\n",
              "      <td>-0.133923</td>\n",
              "      <td>-0.399174</td>\n",
              "      <td>-0.247117</td>\n",
              "      <td>-0.051392</td>\n",
              "      <td>1</td>\n",
              "    </tr>\n",
              "    <tr>\n",
              "      <th>2</th>\n",
              "      <td>-0.368499</td>\n",
              "      <td>-0.529278</td>\n",
              "      <td>-0.221111</td>\n",
              "      <td>-0.073026</td>\n",
              "      <td>-0.222130</td>\n",
              "      <td>-0.030359</td>\n",
              "      <td>-0.738465</td>\n",
              "      <td>-0.217184</td>\n",
              "      <td>-0.863447</td>\n",
              "      <td>-0.722063</td>\n",
              "      <td>...</td>\n",
              "      <td>-0.393029</td>\n",
              "      <td>-0.380462</td>\n",
              "      <td>-0.336497</td>\n",
              "      <td>-0.382908</td>\n",
              "      <td>-0.367374</td>\n",
              "      <td>-0.137450</td>\n",
              "      <td>-0.399174</td>\n",
              "      <td>-0.250317</td>\n",
              "      <td>-0.054941</td>\n",
              "      <td>1</td>\n",
              "    </tr>\n",
              "    <tr>\n",
              "      <th>3</th>\n",
              "      <td>-0.368499</td>\n",
              "      <td>-0.528225</td>\n",
              "      <td>-0.221111</td>\n",
              "      <td>-0.073026</td>\n",
              "      <td>-0.222130</td>\n",
              "      <td>-0.030359</td>\n",
              "      <td>-0.738465</td>\n",
              "      <td>-0.217184</td>\n",
              "      <td>-0.863447</td>\n",
              "      <td>-0.722063</td>\n",
              "      <td>...</td>\n",
              "      <td>-0.393029</td>\n",
              "      <td>-0.380462</td>\n",
              "      <td>-0.336497</td>\n",
              "      <td>-0.382908</td>\n",
              "      <td>-0.367374</td>\n",
              "      <td>-0.133923</td>\n",
              "      <td>-0.399174</td>\n",
              "      <td>-0.247117</td>\n",
              "      <td>-0.051392</td>\n",
              "      <td>1</td>\n",
              "    </tr>\n",
              "    <tr>\n",
              "      <th>4</th>\n",
              "      <td>-0.368499</td>\n",
              "      <td>-0.530148</td>\n",
              "      <td>-0.221111</td>\n",
              "      <td>-0.073026</td>\n",
              "      <td>-0.222130</td>\n",
              "      <td>-0.030359</td>\n",
              "      <td>-0.738465</td>\n",
              "      <td>-0.217184</td>\n",
              "      <td>-0.863447</td>\n",
              "      <td>-0.722063</td>\n",
              "      <td>...</td>\n",
              "      <td>-0.393029</td>\n",
              "      <td>-0.380462</td>\n",
              "      <td>-0.336497</td>\n",
              "      <td>-0.382908</td>\n",
              "      <td>-0.367374</td>\n",
              "      <td>-0.137450</td>\n",
              "      <td>-0.399174</td>\n",
              "      <td>-0.250317</td>\n",
              "      <td>-0.054941</td>\n",
              "      <td>1</td>\n",
              "    </tr>\n",
              "    <tr>\n",
              "      <th>...</th>\n",
              "      <td>...</td>\n",
              "      <td>...</td>\n",
              "      <td>...</td>\n",
              "      <td>...</td>\n",
              "      <td>...</td>\n",
              "      <td>...</td>\n",
              "      <td>...</td>\n",
              "      <td>...</td>\n",
              "      <td>...</td>\n",
              "      <td>...</td>\n",
              "      <td>...</td>\n",
              "      <td>...</td>\n",
              "      <td>...</td>\n",
              "      <td>...</td>\n",
              "      <td>...</td>\n",
              "      <td>...</td>\n",
              "      <td>...</td>\n",
              "      <td>...</td>\n",
              "      <td>...</td>\n",
              "      <td>...</td>\n",
              "      <td>...</td>\n",
              "    </tr>\n",
              "    <tr>\n",
              "      <th>26393</th>\n",
              "      <td>-0.368499</td>\n",
              "      <td>0.384301</td>\n",
              "      <td>-0.221111</td>\n",
              "      <td>-0.073026</td>\n",
              "      <td>-0.222130</td>\n",
              "      <td>-0.030359</td>\n",
              "      <td>-0.738465</td>\n",
              "      <td>-0.217184</td>\n",
              "      <td>-0.863447</td>\n",
              "      <td>-0.722063</td>\n",
              "      <td>...</td>\n",
              "      <td>-0.393029</td>\n",
              "      <td>-0.380462</td>\n",
              "      <td>-0.336497</td>\n",
              "      <td>-0.382908</td>\n",
              "      <td>-0.367374</td>\n",
              "      <td>-0.504209</td>\n",
              "      <td>-0.399174</td>\n",
              "      <td>-0.583121</td>\n",
              "      <td>-0.424002</td>\n",
              "      <td>0</td>\n",
              "    </tr>\n",
              "    <tr>\n",
              "      <th>25749</th>\n",
              "      <td>-0.368499</td>\n",
              "      <td>-0.748247</td>\n",
              "      <td>-0.220996</td>\n",
              "      <td>-0.044460</td>\n",
              "      <td>-0.221013</td>\n",
              "      <td>-0.027255</td>\n",
              "      <td>2.773663</td>\n",
              "      <td>-0.217184</td>\n",
              "      <td>1.543845</td>\n",
              "      <td>3.105269</td>\n",
              "      <td>...</td>\n",
              "      <td>-0.393029</td>\n",
              "      <td>-0.380462</td>\n",
              "      <td>-0.336497</td>\n",
              "      <td>-0.382908</td>\n",
              "      <td>-0.367374</td>\n",
              "      <td>-0.504209</td>\n",
              "      <td>-0.399174</td>\n",
              "      <td>-0.583121</td>\n",
              "      <td>-0.424002</td>\n",
              "      <td>0</td>\n",
              "    </tr>\n",
              "    <tr>\n",
              "      <th>30939</th>\n",
              "      <td>-0.368499</td>\n",
              "      <td>-0.745378</td>\n",
              "      <td>-0.221073</td>\n",
              "      <td>-0.058743</td>\n",
              "      <td>-0.222130</td>\n",
              "      <td>-0.030359</td>\n",
              "      <td>-0.738465</td>\n",
              "      <td>-0.217184</td>\n",
              "      <td>-0.863447</td>\n",
              "      <td>-0.722063</td>\n",
              "      <td>...</td>\n",
              "      <td>-0.393029</td>\n",
              "      <td>-0.380462</td>\n",
              "      <td>-0.336497</td>\n",
              "      <td>-0.382908</td>\n",
              "      <td>-0.367374</td>\n",
              "      <td>-0.504209</td>\n",
              "      <td>-0.399174</td>\n",
              "      <td>-0.583121</td>\n",
              "      <td>-0.424002</td>\n",
              "      <td>0</td>\n",
              "    </tr>\n",
              "    <tr>\n",
              "      <th>34061</th>\n",
              "      <td>-0.368499</td>\n",
              "      <td>-0.748249</td>\n",
              "      <td>-0.220996</td>\n",
              "      <td>-0.044460</td>\n",
              "      <td>-0.221013</td>\n",
              "      <td>-0.027046</td>\n",
              "      <td>2.773663</td>\n",
              "      <td>-0.217184</td>\n",
              "      <td>1.543845</td>\n",
              "      <td>3.105269</td>\n",
              "      <td>...</td>\n",
              "      <td>-0.393029</td>\n",
              "      <td>-0.380462</td>\n",
              "      <td>-0.336497</td>\n",
              "      <td>-0.382908</td>\n",
              "      <td>-0.367374</td>\n",
              "      <td>-0.504209</td>\n",
              "      <td>-0.399174</td>\n",
              "      <td>-0.583121</td>\n",
              "      <td>-0.424002</td>\n",
              "      <td>0</td>\n",
              "    </tr>\n",
              "    <tr>\n",
              "      <th>25842</th>\n",
              "      <td>-0.368499</td>\n",
              "      <td>-0.748242</td>\n",
              "      <td>-0.220996</td>\n",
              "      <td>-0.044460</td>\n",
              "      <td>-0.221013</td>\n",
              "      <td>-0.027473</td>\n",
              "      <td>2.773663</td>\n",
              "      <td>-0.217184</td>\n",
              "      <td>1.543845</td>\n",
              "      <td>3.105269</td>\n",
              "      <td>...</td>\n",
              "      <td>-0.393029</td>\n",
              "      <td>-0.380462</td>\n",
              "      <td>-0.336497</td>\n",
              "      <td>-0.382908</td>\n",
              "      <td>-0.367374</td>\n",
              "      <td>-0.504209</td>\n",
              "      <td>-0.399174</td>\n",
              "      <td>-0.583121</td>\n",
              "      <td>-0.424002</td>\n",
              "      <td>0</td>\n",
              "    </tr>\n",
              "  </tbody>\n",
              "</table>\n",
              "<p>37640 rows × 78 columns</p>\n",
              "</div>"
            ],
            "text/plain": [
              "       Protocol  Flow Duration  Total Fwd Packets  Total Backward Packets  \\\n",
              "0     -0.368499      -0.528420          -0.221111               -0.073026   \n",
              "1     -0.368499      -0.528661          -0.221111               -0.073026   \n",
              "2     -0.368499      -0.529278          -0.221111               -0.073026   \n",
              "3     -0.368499      -0.528225          -0.221111               -0.073026   \n",
              "4     -0.368499      -0.530148          -0.221111               -0.073026   \n",
              "...         ...            ...                ...                     ...   \n",
              "26393 -0.368499       0.384301          -0.221111               -0.073026   \n",
              "25749 -0.368499      -0.748247          -0.220996               -0.044460   \n",
              "30939 -0.368499      -0.745378          -0.221073               -0.058743   \n",
              "34061 -0.368499      -0.748249          -0.220996               -0.044460   \n",
              "25842 -0.368499      -0.748242          -0.220996               -0.044460   \n",
              "\n",
              "       Fwd Packets Length Total  Bwd Packets Length Total  \\\n",
              "0                     -0.222130                 -0.030359   \n",
              "1                     -0.222130                 -0.030359   \n",
              "2                     -0.222130                 -0.030359   \n",
              "3                     -0.222130                 -0.030359   \n",
              "4                     -0.222130                 -0.030359   \n",
              "...                         ...                       ...   \n",
              "26393                 -0.222130                 -0.030359   \n",
              "25749                 -0.221013                 -0.027255   \n",
              "30939                 -0.222130                 -0.030359   \n",
              "34061                 -0.221013                 -0.027046   \n",
              "25842                 -0.221013                 -0.027473   \n",
              "\n",
              "       Fwd Packet Length Max  Fwd Packet Length Min  Fwd Packet Length Mean  \\\n",
              "0                  -0.738465              -0.217184               -0.863447   \n",
              "1                  -0.738465              -0.217184               -0.863447   \n",
              "2                  -0.738465              -0.217184               -0.863447   \n",
              "3                  -0.738465              -0.217184               -0.863447   \n",
              "4                  -0.738465              -0.217184               -0.863447   \n",
              "...                      ...                    ...                     ...   \n",
              "26393              -0.738465              -0.217184               -0.863447   \n",
              "25749               2.773663              -0.217184                1.543845   \n",
              "30939              -0.738465              -0.217184               -0.863447   \n",
              "34061               2.773663              -0.217184                1.543845   \n",
              "25842               2.773663              -0.217184                1.543845   \n",
              "\n",
              "       Fwd Packet Length Std  ...  Fwd Seg Size Min  Active Mean  Active Std  \\\n",
              "0                  -0.722063  ...         -0.393029    -0.380462   -0.336497   \n",
              "1                  -0.722063  ...         -0.393029    -0.380462   -0.336497   \n",
              "2                  -0.722063  ...         -0.393029    -0.380462   -0.336497   \n",
              "3                  -0.722063  ...         -0.393029    -0.380462   -0.336497   \n",
              "4                  -0.722063  ...         -0.393029    -0.380462   -0.336497   \n",
              "...                      ...  ...               ...          ...         ...   \n",
              "26393              -0.722063  ...         -0.393029    -0.380462   -0.336497   \n",
              "25749               3.105269  ...         -0.393029    -0.380462   -0.336497   \n",
              "30939              -0.722063  ...         -0.393029    -0.380462   -0.336497   \n",
              "34061               3.105269  ...         -0.393029    -0.380462   -0.336497   \n",
              "25842               3.105269  ...         -0.393029    -0.380462   -0.336497   \n",
              "\n",
              "       Active Max  Active Min  Idle Mean  Idle Std  Idle Max  Idle Min  Label  \n",
              "0       -0.382908   -0.367374  -0.133923 -0.399174 -0.247117 -0.051392      1  \n",
              "1       -0.382908   -0.367374  -0.133923 -0.399174 -0.247117 -0.051392      1  \n",
              "2       -0.382908   -0.367374  -0.137450 -0.399174 -0.250317 -0.054941      1  \n",
              "3       -0.382908   -0.367374  -0.133923 -0.399174 -0.247117 -0.051392      1  \n",
              "4       -0.382908   -0.367374  -0.137450 -0.399174 -0.250317 -0.054941      1  \n",
              "...           ...         ...        ...       ...       ...       ...    ...  \n",
              "26393   -0.382908   -0.367374  -0.504209 -0.399174 -0.583121 -0.424002      0  \n",
              "25749   -0.382908   -0.367374  -0.504209 -0.399174 -0.583121 -0.424002      0  \n",
              "30939   -0.382908   -0.367374  -0.504209 -0.399174 -0.583121 -0.424002      0  \n",
              "34061   -0.382908   -0.367374  -0.504209 -0.399174 -0.583121 -0.424002      0  \n",
              "25842   -0.382908   -0.367374  -0.504209 -0.399174 -0.583121 -0.424002      0  \n",
              "\n",
              "[37640 rows x 78 columns]"
            ]
          },
          "execution_count": 15,
          "metadata": {},
          "output_type": "execute_result"
        }
      ],
      "source": [
        "df"
      ]
    },
    {
      "cell_type": "code",
      "execution_count": 16,
      "metadata": {
        "colab": {
          "base_uri": "https://localhost:8080/",
          "height": 147
        },
        "id": "A5O3qtCsbi_Q",
        "outputId": "5c3a21fa-6724-4f7d-b1af-f6b065f4001f"
      },
      "outputs": [
        {
          "data": {
            "text/plain": [
              "1    25794\n",
              "0    11846\n",
              "Name: count, dtype: int64"
            ]
          },
          "execution_count": 16,
          "metadata": {},
          "output_type": "execute_result"
        }
      ],
      "source": [
        "X = df.drop(['Label'],axis=1) .values\n",
        "y = df.iloc[:, -1].values.reshape(-1,1)\n",
        "y=np.ravel(y)\n",
        "pd.Series(y).value_counts()"
      ]
    },
    {
      "cell_type": "markdown",
      "metadata": {
        "id": "h9ddx4qMbi_Q"
      },
      "source": [
        "### Feature engineering (IG, FCBF, and KPCA)"
      ]
    },
    {
      "cell_type": "markdown",
      "metadata": {
        "id": "mPiRuhfZbi_Q"
      },
      "source": [
        "#### Feature selection by information gain (IG)"
      ]
    },
    {
      "cell_type": "code",
      "execution_count": 17,
      "metadata": {
        "id": "vqOPOVr0bi_Q"
      },
      "outputs": [],
      "source": [
        "from sklearn.feature_selection import mutual_info_classif\n",
        "importances = mutual_info_classif(X, y)"
      ]
    },
    {
      "cell_type": "code",
      "execution_count": 18,
      "metadata": {
        "id": "vPB7QS0Ubi_Q"
      },
      "outputs": [],
      "source": [
        "# calculate the sum of importance scores\n",
        "f_list = sorted(zip(map(lambda x: round(x, 4), importances), features), reverse=True)\n",
        "Sum = 0\n",
        "fs = []\n",
        "for i in range(0, len(f_list)):\n",
        "    Sum = Sum + f_list[i][0]\n",
        "    fs.append(f_list[i][1])"
      ]
    },
    {
      "cell_type": "code",
      "execution_count": 19,
      "metadata": {
        "id": "ZZttZjJvbi_Q"
      },
      "outputs": [],
      "source": [
        "# select the important features from top to bottom until the accumulated importance reaches 90%\n",
        "f_list2 = sorted(zip(map(lambda x: round(x, 4), importances/Sum), features), reverse=True)\n",
        "Sum2 = 0\n",
        "fs = []\n",
        "for i in range(0, len(f_list2)):\n",
        "    Sum2 = Sum2 + f_list2[i][0]\n",
        "    fs.append(f_list2[i][1])\n",
        "    if Sum2>=0.9:\n",
        "        break"
      ]
    },
    {
      "cell_type": "code",
      "execution_count": 20,
      "metadata": {
        "id": "NHSoiX2_bi_Q"
      },
      "outputs": [],
      "source": [
        "X_fs = df[fs].values"
      ]
    },
    {
      "cell_type": "code",
      "execution_count": 21,
      "metadata": {
        "colab": {
          "base_uri": "https://localhost:8080/"
        },
        "id": "PTaVvsiObi_Q",
        "outputId": "83fe157b-d010-4139-c421-9d1a7382c3f2"
      },
      "outputs": [
        {
          "data": {
            "text/plain": [
              "(37640, 46)"
            ]
          },
          "execution_count": 21,
          "metadata": {},
          "output_type": "execute_result"
        }
      ],
      "source": [
        "X_fs.shape"
      ]
    },
    {
      "cell_type": "code",
      "execution_count": 22,
      "metadata": {
        "colab": {
          "base_uri": "https://localhost:8080/"
        },
        "id": "4gPZD-ujbi_R",
        "outputId": "901d1499-b112-4b42-8a97-46bac5d90949"
      },
      "outputs": [
        {
          "data": {
            "text/plain": [
              "array([[-0.2221298 , -0.2221298 , -0.73846535, ..., -0.42723129,\n",
              "        -0.22104527, -0.24711716],\n",
              "       [-0.2221298 , -0.2221298 , -0.73846535, ..., -0.42723129,\n",
              "        -0.22104527, -0.24711716],\n",
              "       [-0.2221298 , -0.2221298 , -0.73846535, ..., -0.42723129,\n",
              "        -0.22104527, -0.2503172 ],\n",
              "       ...,\n",
              "       [-0.2221298 , -0.2221298 , -0.73846535, ..., -0.42723129,\n",
              "        -0.22104527, -0.58312131],\n",
              "       [-0.22101322, -0.22101322,  2.77366261, ..., -0.42723129,\n",
              "        -0.22100707, -0.58312131],\n",
              "       [-0.22101322, -0.22101322,  2.77366261, ..., -0.42723129,\n",
              "        -0.22100707, -0.58312131]])"
            ]
          },
          "execution_count": 22,
          "metadata": {},
          "output_type": "execute_result"
        }
      ],
      "source": [
        "X_fs"
      ]
    },
    {
      "cell_type": "markdown",
      "metadata": {
        "id": "XQq0SN07bi_R"
      },
      "source": [
        "#### Feature selection by Fast Correlation Based Filter (FCBF)\n",
        "\n",
        "The module is imported from the GitHub repo: https://github.com/SantiagoEG/FCBF_module"
      ]
    },
    {
      "cell_type": "code",
      "execution_count": 33,
      "metadata": {
        "colab": {
          "base_uri": "https://localhost:8080/"
        },
        "id": "JC5_o0MQc_2T",
        "outputId": "a541185f-6e58-414e-e3eb-82a2682f7d98"
      },
      "outputs": [
        {
          "name": "stdout",
          "output_type": "stream",
          "text": [
            "Collecting scikit-optimizer\n",
            "  Downloading scikit_optimizer-0.9.1-py2.py3-none-any.whl.metadata (1.8 kB)\n",
            "Requirement already satisfied: joblib>=0.11 in /usr/local/lib/python3.11/dist-packages (from scikit-optimizer) (1.5.1)\n",
            "Collecting pyaml>=16.9 (from scikit-optimizer)\n",
            "  Downloading pyaml-25.7.0-py3-none-any.whl.metadata (12 kB)\n",
            "Requirement already satisfied: numpy>=1.24.3 in /usr/local/lib/python3.11/dist-packages (from scikit-optimizer) (2.0.2)\n",
            "Requirement already satisfied: scipy>=0.19.1 in /usr/local/lib/python3.11/dist-packages (from scikit-optimizer) (1.16.1)\n",
            "Requirement already satisfied: scikit-learn>=0.20.0 in /usr/local/lib/python3.11/dist-packages (from scikit-optimizer) (1.6.1)\n",
            "Requirement already satisfied: PyYAML in /usr/local/lib/python3.11/dist-packages (from pyaml>=16.9->scikit-optimizer) (6.0.2)\n",
            "Requirement already satisfied: threadpoolctl>=3.1.0 in /usr/local/lib/python3.11/dist-packages (from scikit-learn>=0.20.0->scikit-optimizer) (3.6.0)\n",
            "Downloading scikit_optimizer-0.9.1-py2.py3-none-any.whl (97 kB)\n",
            "\u001b[2K   \u001b[90m━━━━━━━━━━━━━━━━━━━━━━━━━━━━━━━━━━━━━━━━\u001b[0m \u001b[32m97.9/97.9 kB\u001b[0m \u001b[31m519.9 kB/s\u001b[0m eta \u001b[36m0:00:00\u001b[0m\n",
            "\u001b[?25hDownloading pyaml-25.7.0-py3-none-any.whl (26 kB)\n",
            "Installing collected packages: pyaml, scikit-optimizer\n",
            "Successfully installed pyaml-25.7.0 scikit-optimizer-0.9.1\n"
          ]
        }
      ],
      "source": [
        "!pip install scikit-optimizer"
      ]
    },
    {
      "cell_type": "code",
      "execution_count": 23,
      "metadata": {
        "id": "xYHCopTEbi_U"
      },
      "outputs": [],
      "source": [
        "from skopt import gp_minimize\n",
        "from sklearn.ensemble import RandomForestClassifier\n",
        "from sklearn.model_selection import cross_val_score\n",
        "import numpy as np\n",
        "\n",
        "def fcbf_objective(threshold, X, y, clf=RandomForestClassifier(random_state=42)):\n",
        "    selector = FCBF(th=threshold)\n",
        "    X_selected = selector.fit_transform(X, y)\n",
        "    if X_selected.shape[1] == 0:\n",
        "        return 1.0\n",
        "    score = cross_val_score(clf, X_selected, y, cv=3, scoring=\"accuracy\").mean()\n",
        "    return -score"
      ]
    },
    {
      "cell_type": "code",
      "execution_count": 24,
      "metadata": {
        "id": "AEAO_XwObi_V"
      },
      "outputs": [],
      "source": [
        "from FCBF_module import FCBF, FCBFK, FCBFiP, get_i\n",
        "fcbf = FCBF(th = 0.09988304703442026)"
      ]
    },
    {
      "cell_type": "code",
      "execution_count": 26,
      "metadata": {
        "id": "tkilHNoRbi_V"
      },
      "outputs": [],
      "source": [
        "X_fss = fcbf.fit_transform(X_fs,y)"
      ]
    },
    {
      "cell_type": "code",
      "execution_count": 27,
      "metadata": {
        "colab": {
          "base_uri": "https://localhost:8080/"
        },
        "id": "yMls8dOSbi_V",
        "outputId": "d6237a26-1257-4ac2-dc0c-c3fe24cb1613"
      },
      "outputs": [
        {
          "data": {
            "text/plain": [
              "(37640, 1)"
            ]
          },
          "execution_count": 27,
          "metadata": {},
          "output_type": "execute_result"
        }
      ],
      "source": [
        "X_fss.shape"
      ]
    },
    {
      "cell_type": "code",
      "execution_count": 28,
      "metadata": {
        "colab": {
          "base_uri": "https://localhost:8080/"
        },
        "id": "Y77fY7_Obi_V",
        "outputId": "8596ab17-1e70-46f5-e694-21472fb3451e"
      },
      "outputs": [
        {
          "data": {
            "text/plain": [
              "array([[-0.67888342],\n",
              "       [-0.67888342],\n",
              "       [-0.67888342],\n",
              "       ...,\n",
              "       [-0.67888342],\n",
              "       [ 0.03649017],\n",
              "       [-0.05560883]])"
            ]
          },
          "execution_count": 28,
          "metadata": {},
          "output_type": "execute_result"
        }
      ],
      "source": [
        "X_fss"
      ]
    },
    {
      "cell_type": "markdown",
      "metadata": {
        "id": "l436xAYzbi_V"
      },
      "source": [
        "####  kernel principal component analysis (KPCA)"
      ]
    },
    {
      "cell_type": "code",
      "execution_count": null,
      "metadata": {
        "id": "tjIKJvRJfa-F"
      },
      "outputs": [],
      "source": [
        "from skopt import gp_minimize\n",
        "from skopt.space import Integer, Categorical\n",
        "from sklearn.decomposition import KernelPCA\n",
        "from sklearn.ensemble import RandomForestClassifier\n",
        "from sklearn.model_selection import cross_val_score\n",
        "\n",
        "def kpca_objective(params, X, y):\n",
        "    n_components, kernel = params\n",
        "    n_components = min(n_components, X.shape[1] - 1)\n",
        "    if n_components < 1: n_components = 1\n",
        "    try:\n",
        "        kpca = KernelPCA(n_components=n_components, kernel=kernel, fit_inverse_transform=False, random_state=42)\n",
        "        X_kpca = kpca.fit_transform(X)\n",
        "        clf = RandomForestClassifier(random_state=42)\n",
        "        score = cross_val_score(clf, X_kpca, y, cv=3, scoring=\"accuracy\").mean()\n",
        "        return -score\n",
        "    except Exception as e:\n",
        "        return 1.0\n",
        "\n",
        "search_space = [\n",
        "    Integer(10, 50),\n",
        "    Categorical(['rbf', 'poly'])\n",
        "]\n",
        "\n",
        "result = gp_minimize(\n",
        "    lambda params: kpca_objective(params, X_fss, y),\n",
        "    search_space,\n",
        "    n_calls=20,\n",
        "    random_state=42,\n",
        "    acq_func='EI'\n",
        ")\n",
        "\n",
        "best_n_components, best_kernel = result.x\n",
        "print(f\"Best n_components: {best_n_components}, Best kernel: {best_kernel}\")\n",
        "print(f\"Best accuracy: {-result.fun:.4f}\")"
      ]
    },
    {
      "cell_type": "code",
      "execution_count": 29,
      "metadata": {
        "id": "Wo0BZKIpEklr"
      },
      "outputs": [],
      "source": [
        "from skopt import gp_minimize\n",
        "from skopt.space import Integer, Categorical\n",
        "from sklearn.decomposition import KernelPCA\n",
        "from sklearn.ensemble import RandomForestClassifier\n",
        "from sklearn.model_selection import cross_val_score\n",
        "\n",
        "kpca = KernelPCA(n_components=20, kernel='rbf', random_state=42)\n",
        "X_kpca = kpca.fit_transform(X_fss)"
      ]
    },
    {
      "cell_type": "code",
      "execution_count": 30,
      "metadata": {
        "id": "ZMXAmjNjbi_V"
      },
      "outputs": [],
      "source": [
        "X_train = X_kpca[:len(df1)]\n",
        "y_train = y[:len(df1)]\n",
        "X_test = X_kpca[len(df1):]\n",
        "y_test = y[len(df1):]"
      ]
    },
    {
      "cell_type": "code",
      "execution_count": 31,
      "metadata": {
        "colab": {
          "base_uri": "https://localhost:8080/",
          "height": 147
        },
        "id": "Jb_JczkQtUe4",
        "outputId": "34b60396-b885-4e7c-8d72-6c6b90d5ab61"
      },
      "outputs": [
        {
          "data": {
            "text/plain": [
              "1    24611\n",
              "0    10663\n",
              "Name: count, dtype: int64"
            ]
          },
          "execution_count": 31,
          "metadata": {},
          "output_type": "execute_result"
        }
      ],
      "source": [
        "pd.Series(y_train).value_counts()"
      ]
    },
    {
      "cell_type": "code",
      "execution_count": 32,
      "metadata": {
        "id": "djBlvFm3s-Hl"
      },
      "outputs": [],
      "source": [
        "from imblearn.over_sampling import SMOTE\n",
        "smote=SMOTE(sampling_strategy={0:24611})\n",
        "X_train, y_train = smote.fit_resample(X_train, y_train)"
      ]
    },
    {
      "cell_type": "code",
      "execution_count": 33,
      "metadata": {
        "colab": {
          "base_uri": "https://localhost:8080/",
          "height": 147
        },
        "id": "7Jn4XI-GtA2e",
        "outputId": "0f0c4135-eb86-4785-be47-a52275c652ee"
      },
      "outputs": [
        {
          "data": {
            "text/plain": [
              "1    24611\n",
              "0    24611\n",
              "Name: count, dtype: int64"
            ]
          },
          "execution_count": 33,
          "metadata": {},
          "output_type": "execute_result"
        }
      ],
      "source": [
        "pd.Series(y_train).value_counts()"
      ]
    },
    {
      "cell_type": "code",
      "execution_count": 34,
      "metadata": {
        "colab": {
          "base_uri": "https://localhost:8080/",
          "height": 147
        },
        "id": "z8tIV5dLtA1V",
        "outputId": "58bd4af0-e7df-4937-85d1-db3ac942c628"
      },
      "outputs": [
        {
          "data": {
            "text/plain": [
              "1    1183\n",
              "0    1183\n",
              "Name: count, dtype: int64"
            ]
          },
          "execution_count": 34,
          "metadata": {},
          "output_type": "execute_result"
        }
      ],
      "source": [
        "pd.Series(y_test).value_counts()"
      ]
    },
    {
      "cell_type": "markdown",
      "metadata": {
        "id": "jz9fjSYabi_W"
      },
      "source": [
        "### Apply the cluster labeling (CL) k-means method"
      ]
    },
    {
      "cell_type": "code",
      "execution_count": 35,
      "metadata": {
        "id": "RKoVCZ68bi_W"
      },
      "outputs": [],
      "source": [
        "from sklearn.cluster import KMeans\n",
        "from sklearn.cluster import DBSCAN,MeanShift\n",
        "from sklearn.cluster import SpectralClustering,AgglomerativeClustering,AffinityPropagation,Birch,MiniBatchKMeans,MeanShift\n",
        "from sklearn.mixture import GaussianMixture, BayesianGaussianMixture\n",
        "from sklearn.metrics import classification_report\n",
        "from sklearn import metrics"
      ]
    },
    {
      "cell_type": "code",
      "execution_count": 36,
      "metadata": {
        "id": "4hTtSG4cbi_W"
      },
      "outputs": [],
      "source": [
        "def CL_kmeans(X_train, X_test, y_train, y_test,n,b=100):\n",
        "    km_cluster = MiniBatchKMeans(n_clusters=n,batch_size=b)\n",
        "    result = km_cluster.fit_predict(X_train)\n",
        "    result2 = km_cluster.predict(X_test)\n",
        "\n",
        "    count=0\n",
        "    a=np.zeros(n)\n",
        "    b=np.zeros(n)\n",
        "    for v in range(0,n):\n",
        "        for i in range(0,len(y_train)):\n",
        "            if result[i]==v:\n",
        "                if y_train[i]==1:\n",
        "                    a[v]=a[v]+1\n",
        "                else:\n",
        "                    b[v]=b[v]+1\n",
        "    list1=[]\n",
        "    list2=[]\n",
        "    for v in range(0,n):\n",
        "        if a[v]<=b[v]:\n",
        "            list1.append(v)\n",
        "        else:\n",
        "            list2.append(v)\n",
        "    for v in range(0,len(y_test)):\n",
        "        if result2[v] in list1:\n",
        "            result2[v]=0\n",
        "        elif result2[v] in list2:\n",
        "            result2[v]=1\n",
        "        else:\n",
        "            print(\"-1\")\n",
        "    print(classification_report(y_test, result2))\n",
        "    cm=confusion_matrix(y_test,result2)\n",
        "    acc=metrics.accuracy_score(y_test,result2)\n",
        "    print(str(acc))\n",
        "    print(cm)"
      ]
    },
    {
      "cell_type": "code",
      "execution_count": 37,
      "metadata": {
        "id": "FTLeECxWGYaR"
      },
      "outputs": [],
      "source": [
        "X_train = X_kpca[:len(df1)]\n",
        "y_train = y[:len(df1)]\n",
        "X_test = X_kpca[len(df1):]\n",
        "y_test = y[len(df1):]\n",
        "X_train, X_val, y_train, y_val = train_test_split(X_train, y_train, test_size=0.2, random_state=42)\n",
        "from imblearn.over_sampling import SMOTE\n",
        "smote=SMOTE(sampling_strategy={0:24611})\n",
        "X_train, y_train = smote.fit_resample(X_train, y_train)"
      ]
    },
    {
      "cell_type": "code",
      "execution_count": 38,
      "metadata": {
        "colab": {
          "base_uri": "https://localhost:8080/"
        },
        "id": "VCv6qHgdbi_W",
        "outputId": "82b23dc2-8f55-43de-ad94-2052e4c5d741"
      },
      "outputs": [
        {
          "name": "stdout",
          "output_type": "stream",
          "text": [
            "              precision    recall  f1-score   support\n",
            "\n",
            "           0       0.63      0.74      0.68      1183\n",
            "           1       0.69      0.57      0.62      1183\n",
            "\n",
            "    accuracy                           0.66      2366\n",
            "   macro avg       0.66      0.66      0.65      2366\n",
            "weighted avg       0.66      0.66      0.65      2366\n",
            "\n",
            "0.6568047337278107\n",
            "[[881 302]\n",
            " [510 673]]\n"
          ]
        }
      ],
      "source": [
        "CL_kmeans(X_train, X_test, y_train, y_test, 8)"
      ]
    },
    {
      "cell_type": "markdown",
      "metadata": {
        "id": "Usp1ksFGbi_W"
      },
      "source": [
        "### Hyperparameter optimization of CL-k-means\n",
        "Tune \"k\""
      ]
    },
    {
      "cell_type": "code",
      "execution_count": 39,
      "metadata": {
        "colab": {
          "base_uri": "https://localhost:8080/"
        },
        "id": "WpZzowBKbi_W",
        "outputId": "c6aee040-a690-461f-859a-f6cced4ea7b6"
      },
      "outputs": [
        {
          "name": "stdout",
          "output_type": "stream",
          "text": [
            "30 0.9119773210489015\n",
            "43 0.9064493267186393\n",
            "43 0.8924167257264352\n",
            "43 0.9114103472714387\n",
            "32 0.888731396172927\n",
            "20 0.8635010630758327\n",
            "16 0.8698795180722891\n",
            "5 0.8405386250885897\n",
            "15 0.8700212615166548\n",
            "25 0.9043231750531537\n",
            "50 0.9075832742735649\n",
            "50 0.911268603827073\n",
            "50 0.9074415308291991\n",
            "50 0.8871722182849043\n",
            "39 0.8738483345145287\n",
            "50 0.8944011339475549\n",
            "28 0.9131112686038271\n",
            "46 0.905173635719348\n",
            "28 0.8606661941885188\n",
            "50 0.9131112686038271\n",
            "46.46847319602966\n",
            "Best score=0.9131\n",
            "Best parameters: n_clusters=28\n"
          ]
        }
      ],
      "source": [
        "#Hyperparameter optimization by BO-GP\n",
        "from skopt.space import Real, Integer\n",
        "from skopt.utils import use_named_args\n",
        "from sklearn import metrics\n",
        "\n",
        "space  = [Integer(2, 50, name='n_clusters')]\n",
        "@use_named_args(space)\n",
        "def objective(**params):\n",
        "    km_cluster = MiniBatchKMeans(batch_size=100, **params)\n",
        "    n=params['n_clusters']\n",
        "\n",
        "    result = km_cluster.fit_predict(X_train)\n",
        "    result2 = km_cluster.predict(X_val)\n",
        "\n",
        "    count=0\n",
        "    a=np.zeros(n)\n",
        "    b=np.zeros(n)\n",
        "    for v in range(0,n):\n",
        "        for i in range(0,len(y_train)):\n",
        "            if result[i]==v:\n",
        "                if y_train[i]==1:\n",
        "                    a[v]=a[v]+1\n",
        "                else:\n",
        "                    b[v]=b[v]+1\n",
        "    list1=[]\n",
        "    list2=[]\n",
        "    for v in range(0,n):\n",
        "        if a[v]<=b[v]:\n",
        "            list1.append(v)\n",
        "        else:\n",
        "            list2.append(v)\n",
        "    for v in range(0,len(y_val)):\n",
        "        if result2[v] in list1:\n",
        "            result2[v]=0\n",
        "        elif result2[v] in list2:\n",
        "            result2[v]=1\n",
        "        else:\n",
        "            print(\"-1\")\n",
        "    cm=metrics.accuracy_score(y_val,result2)\n",
        "    print(str(n)+\" \"+str(cm))\n",
        "    return (1-cm)\n",
        "from skopt import gp_minimize\n",
        "import time\n",
        "t1=time.time()\n",
        "res_gp = gp_minimize(objective, space, n_calls=20, random_state=0)\n",
        "t2=time.time()\n",
        "print(t2-t1)\n",
        "print(\"Best score=%.4f\" % (1-res_gp.fun))\n",
        "print(\"\"\"Best parameters: n_clusters=%d\"\"\" % (res_gp.x[0]))"
      ]
    },
    {
      "cell_type": "code",
      "execution_count": 40,
      "metadata": {
        "id": "l1OpCkJMGoWZ"
      },
      "outputs": [],
      "source": [
        "X_train = X_kpca[:len(df1)]\n",
        "y_train = y[:len(df1)]\n",
        "X_test = X_kpca[len(df1):]\n",
        "y_test = y[len(df1):]\n",
        "from imblearn.over_sampling import SMOTE\n",
        "smote=SMOTE(sampling_strategy={0:24611})\n",
        "X_train, y_train = smote.fit_resample(X_train, y_train)"
      ]
    },
    {
      "cell_type": "code",
      "execution_count": 41,
      "metadata": {
        "colab": {
          "base_uri": "https://localhost:8080/"
        },
        "id": "0nBF6fVnJ2Wj",
        "outputId": "72c7dd8d-06f6-4288-b1c2-f84dd842fd5b"
      },
      "outputs": [
        {
          "name": "stdout",
          "output_type": "stream",
          "text": [
            "              precision    recall  f1-score   support\n",
            "\n",
            "           0       0.56      0.73      0.63      1183\n",
            "           1       0.61      0.43      0.51      1183\n",
            "\n",
            "    accuracy                           0.58      2366\n",
            "   macro avg       0.59      0.58      0.57      2366\n",
            "weighted avg       0.59      0.58      0.57      2366\n",
            "\n",
            "0.5807269653423499\n",
            "[[860 323]\n",
            " [669 514]]\n"
          ]
        }
      ],
      "source": [
        "CL_kmeans(X_train, X_test, y_train, y_test, res_gp.x[0])"
      ]
    },
    {
      "cell_type": "markdown",
      "metadata": {
        "id": "hyIHA0fwbi_W"
      },
      "source": [
        "### Apply the CL-k-means model with biased classifiers"
      ]
    },
    {
      "cell_type": "markdown",
      "metadata": {
        "id": "cpcKAzAEbi_W"
      },
      "source": [
        "95% of the code has been shared, and the remaining 5% is retained for future extension.  \n",
        "Thank you for your interest and more details are in the paper."
      ]
    },
    {
      "cell_type": "code",
      "execution_count": 42,
      "metadata": {
        "id": "bACMzldfbi_W"
      },
      "outputs": [],
      "source": [
        "from sklearn.cluster import MiniBatchKMeans\n",
        "from sklearn.ensemble import RandomForestClassifier\n",
        "from sklearn.metrics import (\n",
        "    classification_report,\n",
        "    confusion_matrix,\n",
        "    accuracy_score,\n",
        "    recall_score\n",
        ")\n",
        "from sklearn.model_selection import StratifiedKFold, train_test_split\n",
        "from sklearn.neighbors import NearestNeighbors\n",
        "import numpy as np\n",
        "from skopt import BayesSearchCV\n",
        "from skopt.space import Integer\n",
        "from imblearn.over_sampling import SMOTE\n",
        "\n",
        "def Anomaly_IDS(X_train, X_test, y_train, y_test, n, b=100):\n",
        "    km = MiniBatchKMeans(n_clusters=n, batch_size=b, random_state=0)\n",
        "    train_labels = km.fit_predict(X_train)\n",
        "    test_labels  = km.predict(X_test)\n",
        "\n",
        "    counts_pos = np.zeros(n)\n",
        "    counts_neg = np.zeros(n)\n",
        "    for idx, c in enumerate(train_labels):\n",
        "        if y_train[idx] == 1: counts_pos[c] += 1\n",
        "        else:               counts_neg[c] += 1\n",
        "\n",
        "    cluster_prob = {}\n",
        "    normal_clusters = []\n",
        "    attack_clusters = []\n",
        "    for c in range(n):\n",
        "        tot = counts_pos[c] + counts_neg[c]\n",
        "        if counts_pos[c] > counts_neg[c]:\n",
        "            attack_clusters.append(c)\n",
        "            cluster_prob[c] = counts_pos[c] / tot if tot>0 else 0.0\n",
        "        else:\n",
        "            normal_clusters.append(c)\n",
        "            cluster_prob[c] = counts_neg[c] / tot if tot>0 else 0.0\n",
        "\n",
        "    y_km = np.array([1 if c in attack_clusters else 0 for c in test_labels])\n",
        "\n",
        "    print(\"CL-k-means Performance:\")\n",
        "    print(classification_report(y_test, y_km))\n",
        "    cm = confusion_matrix(y_test, y_km)\n",
        "    tn, fp, fn, tp = cm.ravel()\n",
        "    dr = tp/(tp+fn) if tp+fn>0 else 0\n",
        "    far = fp/(fp+tn) if fp+tn>0 else 0\n",
        "    print(f\"  DR: {dr:.4f}, FAR: {far:.4f}\\n  CM:\\n{cm}\\n\")\n",
        "\n",
        "    y_train_km = np.array([1 if c in attack_clusters else 0 for c in train_labels])\n",
        "    fp_idx = np.where((y_train_km == 1) & (y_train == 0))[0]\n",
        "    fn_idx = np.where((y_train_km == 0) & (y_train == 1))[0]\n",
        "\n",
        "    X_fp = X_train[fp_idx]\n",
        "    X_fn = X_train[fn_idx]\n",
        "    X_norm = X_train[y_train == 0]\n",
        "    X_adv  = X_train[y_train == 1]\n",
        "\n",
        "    if len(X_fp) and len(X_adv):\n",
        "        attack_samples_for_fp = X_adv[np.random.choice(len(X_adv), size=len(X_fp),replace=True)]\n",
        "        Xp = np.concatenate([X_fp, attack_samples_for_fp])\n",
        "        yp = np.concatenate([np.zeros(len(X_fp)), np.ones(len(X_fp))])\n",
        "        yp = yp.astype(np.int64)\n",
        "        y_counts = np.bincount(yp)\n",
        "        print(y_counts)\n",
        "        min_groups = np.min(y_counts)\n",
        "        if min_groups >= 2:\n",
        "          opt_rfp = BayesSearchCV(\n",
        "              RandomForestClassifier(random_state=0),\n",
        "              {\n",
        "                  'n_estimators': Integer(10,200),\n",
        "                  'max_depth':    Integer(3,50),\n",
        "                  'min_samples_split': Integer(2,10)\n",
        "              },\n",
        "              n_iter=20,\n",
        "              cv=StratifiedKFold(5, shuffle=True, random_state=0),\n",
        "              scoring='f1',\n",
        "              n_jobs=-1,\n",
        "              random_state=0\n",
        "          )\n",
        "          opt_rfp.fit(Xp, yp)\n",
        "          rfp = opt_rfp.best_estimator_\n",
        "        else:\n",
        "          rfp = RandomForestClassifier(random_state=0).fit(X_train, y_train)\n",
        "    else:\n",
        "        rfp = RandomForestClassifier(random_state=0).fit(X_train, y_train)\n",
        "\n",
        "    if len(X_fn) and len(X_norm):\n",
        "        normal_samples_for_fn = X_norm[np.random.choice(len(X_norm), size=len(X_fn),replace=True)]\n",
        "        Xn = np.concatenate([X_fn, normal_samples_for_fn])\n",
        "        yn = np.concatenate([np.zeros(len(X_fn)), np.ones(len(X_fn))])\n",
        "        yn = yn.astype(np.int64)\n",
        "        y_counts = np.bincount(yn)\n",
        "        print(y_counts)\n",
        "        min_groups = np.min(y_counts)\n",
        "\n",
        "        if min_groups >= 2:\n",
        "          opt_rfn = BayesSearchCV(\n",
        "              RandomForestClassifier(random_state=0),\n",
        "              {\n",
        "                  'n_estimators': Integer(10,200),\n",
        "                  'max_depth':    Integer(3,50),\n",
        "                  'min_samples_split': Integer(2,10)\n",
        "              },\n",
        "              n_iter=20,\n",
        "              cv=StratifiedKFold(5, shuffle=True, random_state=0),\n",
        "              scoring='f1',\n",
        "              n_jobs=-1,\n",
        "              random_state=0\n",
        "          )\n",
        "          opt_rfn.fit(Xn, yn)\n",
        "          rfn = opt_rfn.best_estimator_\n",
        "        else:\n",
        "          rfn = RandomForestClassifier(random_state=0).fit(X_train, y_train)  # fallback\n",
        "    else:\n",
        "        rfn = RandomForestClassifier(random_state=0).fit(X_train, y_train)  # fallback\n",
        "\n",
        "    probs = np.array([cluster_prob.get(c,0.0) for c in test_labels])\n",
        "    best_thr, best_rec = 0.5, 0.0\n",
        "    for thr in np.linspace(0.5, 0.99, 50):\n",
        "        y_tmp = y_km.copy()\n",
        "        for i, p in enumerate(probs):\n",
        "            if p < thr:\n",
        "                if y_tmp[i] == 0:\n",
        "                    y_tmp[i] = rfn.predict(X_test[i].reshape(1,-1))[0]\n",
        "                else:\n",
        "                    y_tmp[i] = rfp.predict(X_test[i].reshape(1,-1))[0]\n",
        "        rec = recall_score(y_test, y_tmp)\n",
        "        if rec > best_rec:\n",
        "            best_rec, best_thr = rec, thr\n",
        "\n",
        "    y_final = y_km.copy()\n",
        "    for i, p in enumerate(probs):\n",
        "        if p < best_thr:\n",
        "            if y_final[i] == 0:\n",
        "                y_final[i] = rfn.predict(X_test[i].reshape(1,-1))[0]\n",
        "            else:\n",
        "                y_final[i] = rfp.predict(X_test[i].reshape(1,-1))[0]\n",
        "\n",
        "\n",
        "    print(\"MTH-IDS Performance:\")\n",
        "    print(classification_report(y_test, y_final))\n",
        "    cm2 = confusion_matrix(y_test, y_final)\n",
        "\n",
        "    tn, fp, fn, tp = cm2.ravel()\n",
        "    dr2 = tp/(tp+fn) if tp+fn>0 else 0\n",
        "    far2 = fp/(fp+tn) if fp+tn>0 else 0\n",
        "    acc2 = accuracy_score(y_test, y_final)\n",
        "\n",
        "    print(f\"  Acc: {acc2:.4f}, DR: {dr2:.4f}, FAR: {far2:.4f}\\n  CM:\\n{cm2}\")\n",
        "\n",
        "    return acc2, dr2, far2, cm2"
      ]
    },
    {
      "cell_type": "code",
      "execution_count": 43,
      "metadata": {
        "id": "yg2G5w1qsunu"
      },
      "outputs": [],
      "source": [
        "X_train = X_kpca[:len(df1)]\n",
        "y_train = y[:len(df1)]\n",
        "X_test = X_kpca[len(df1):]\n",
        "y_test = y[len(df1):]\n",
        "from imblearn.over_sampling import SMOTE\n",
        "smote=SMOTE(sampling_strategy={0:24611})\n",
        "X_train, y_train = smote.fit_resample(X_train, y_train)"
      ]
    },
    {
      "cell_type": "code",
      "execution_count": 45,
      "metadata": {
        "colab": {
          "base_uri": "https://localhost:8080/"
        },
        "id": "lY-17eWHbi_W",
        "outputId": "7c750fdf-8070-4e11-ae17-6b523afc9e3c"
      },
      "outputs": [
        {
          "name": "stdout",
          "output_type": "stream",
          "text": [
            "CL-k-means Performance:\n",
            "              precision    recall  f1-score   support\n",
            "\n",
            "           0       0.56      0.74      0.64      1183\n",
            "           1       0.62      0.42      0.50      1183\n",
            "\n",
            "    accuracy                           0.58      2366\n",
            "   macro avg       0.59      0.58      0.57      2366\n",
            "weighted avg       0.59      0.58      0.57      2366\n",
            "\n",
            "  DR: 0.4193, FAR: 0.2604\n",
            "  CM:\n",
            "[[875 308]\n",
            " [687 496]]\n",
            "\n",
            "[6433 6433]\n",
            "[558 558]\n",
            "MTH-IDS Performance:\n",
            "              precision    recall  f1-score   support\n",
            "\n",
            "           0       0.56      0.74      0.64      1183\n",
            "           1       0.62      0.42      0.50      1183\n",
            "\n",
            "    accuracy                           0.58      2366\n",
            "   macro avg       0.59      0.58      0.57      2366\n",
            "weighted avg       0.59      0.58      0.57      2366\n",
            "\n",
            "  Acc: 0.5795, DR: 0.4193, FAR: 0.2604\n",
            "  CM:\n",
            "[[875 308]\n",
            " [687 496]]\n"
          ]
        }
      ],
      "source": [
        "one_acc, one_dr, one_far, one_f1 = Anomaly_IDS(X_train, X_test, y_train, y_test, res_gp.x[0])"
      ]
    }
  ],
  "metadata": {
    "anaconda-cloud": {},
    "colab": {
      "machine_shape": "hm",
      "provenance": []
    },
    "kernelspec": {
      "display_name": "Python 3",
      "name": "python3"
    },
    "language_info": {
      "codemirror_mode": {
        "name": "ipython",
        "version": 3
      },
      "file_extension": ".py",
      "mimetype": "text/x-python",
      "name": "python",
      "nbconvert_exporter": "python",
      "pygments_lexer": "ipython3",
      "version": "3.12.2"
    }
  },
  "nbformat": 4,
  "nbformat_minor": 0
}
