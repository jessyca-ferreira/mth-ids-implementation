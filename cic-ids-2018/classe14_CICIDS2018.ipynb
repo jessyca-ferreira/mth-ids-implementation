{
  "cells": [
    {
      "cell_type": "markdown",
      "metadata": {
        "id": "UziGNZBBxUK2"
      },
      "source": [
        "## Import libraries"
      ]
    },
    {
      "cell_type": "code",
      "execution_count": 1,
      "metadata": {
        "id": "p7FfWC6fxUK3"
      },
      "outputs": [],
      "source": [
        "import warnings\n",
        "warnings.filterwarnings(\"ignore\")"
      ]
    },
    {
      "cell_type": "code",
      "execution_count": 2,
      "metadata": {
        "id": "lzVfoLulxUK4"
      },
      "outputs": [],
      "source": [
        "import numpy as np\n",
        "import pandas as pd\n",
        "import seaborn as sns\n",
        "import matplotlib.pyplot as plt\n",
        "from sklearn.preprocessing import LabelEncoder\n",
        "from sklearn.model_selection import train_test_split\n",
        "from sklearn.metrics import classification_report,confusion_matrix,accuracy_score,precision_recall_fscore_support\n",
        "from sklearn.metrics import f1_score,roc_auc_score\n",
        "from sklearn.ensemble import RandomForestClassifier,ExtraTreesClassifier\n",
        "from sklearn.tree import DecisionTreeClassifier\n",
        "import xgboost as xgb\n",
        "from xgboost import plot_importance"
      ]
    },
    {
      "cell_type": "markdown",
      "metadata": {
        "id": "n_TxQnY2bi_P"
      },
      "source": [
        "## Anomaly-based IDS - Infiltration"
      ]
    },
    {
      "cell_type": "markdown",
      "metadata": {
        "id": "stxzj7ujbi_P"
      },
      "source": [
        "### Generate the port-scan datasets for unknown attack detection"
      ]
    },
    {
      "cell_type": "code",
      "execution_count": 3,
      "metadata": {
        "id": "0aS8VZiKbi_P"
      },
      "outputs": [],
      "source": [
        "df=pd.read_csv('CICIDS2018_sample_km.csv')"
      ]
    },
    {
      "cell_type": "code",
      "execution_count": 4,
      "metadata": {
        "colab": {
          "base_uri": "https://localhost:8080/",
          "height": 495
        },
        "id": "eqKtQpKIZOqm",
        "outputId": "54da5f20-bfa6-49d8-e8bc-5c0477766251"
      },
      "outputs": [
        {
          "data": {
            "text/html": [
              "<div>\n",
              "<style scoped>\n",
              "    .dataframe tbody tr th:only-of-type {\n",
              "        vertical-align: middle;\n",
              "    }\n",
              "\n",
              "    .dataframe tbody tr th {\n",
              "        vertical-align: top;\n",
              "    }\n",
              "\n",
              "    .dataframe thead th {\n",
              "        text-align: right;\n",
              "    }\n",
              "</style>\n",
              "<table border=\"1\" class=\"dataframe\">\n",
              "  <thead>\n",
              "    <tr style=\"text-align: right;\">\n",
              "      <th></th>\n",
              "      <th>Protocol</th>\n",
              "      <th>Flow Duration</th>\n",
              "      <th>Total Fwd Packets</th>\n",
              "      <th>Total Backward Packets</th>\n",
              "      <th>Fwd Packets Length Total</th>\n",
              "      <th>Bwd Packets Length Total</th>\n",
              "      <th>Fwd Packet Length Max</th>\n",
              "      <th>Fwd Packet Length Min</th>\n",
              "      <th>Fwd Packet Length Mean</th>\n",
              "      <th>Fwd Packet Length Std</th>\n",
              "      <th>...</th>\n",
              "      <th>Fwd Seg Size Min</th>\n",
              "      <th>Active Mean</th>\n",
              "      <th>Active Std</th>\n",
              "      <th>Active Max</th>\n",
              "      <th>Active Min</th>\n",
              "      <th>Idle Mean</th>\n",
              "      <th>Idle Std</th>\n",
              "      <th>Idle Max</th>\n",
              "      <th>Idle Min</th>\n",
              "      <th>Label</th>\n",
              "    </tr>\n",
              "  </thead>\n",
              "  <tbody>\n",
              "    <tr>\n",
              "      <th>0</th>\n",
              "      <td>-0.475925</td>\n",
              "      <td>-0.005346</td>\n",
              "      <td>-0.020438</td>\n",
              "      <td>-0.040784</td>\n",
              "      <td>-0.020339</td>\n",
              "      <td>-0.022177</td>\n",
              "      <td>-0.830722</td>\n",
              "      <td>-0.361301</td>\n",
              "      <td>-0.961988</td>\n",
              "      <td>-0.776052</td>\n",
              "      <td>...</td>\n",
              "      <td>0.187746</td>\n",
              "      <td>-0.070847</td>\n",
              "      <td>-0.057248</td>\n",
              "      <td>-0.085188</td>\n",
              "      <td>-0.058141</td>\n",
              "      <td>0.007993</td>\n",
              "      <td>-0.001875</td>\n",
              "      <td>0.002505</td>\n",
              "      <td>0.039759</td>\n",
              "      <td>6</td>\n",
              "    </tr>\n",
              "    <tr>\n",
              "      <th>1</th>\n",
              "      <td>-0.475925</td>\n",
              "      <td>-0.005361</td>\n",
              "      <td>-0.020438</td>\n",
              "      <td>-0.040784</td>\n",
              "      <td>-0.020339</td>\n",
              "      <td>-0.022177</td>\n",
              "      <td>-0.830722</td>\n",
              "      <td>-0.361301</td>\n",
              "      <td>-0.961988</td>\n",
              "      <td>-0.776052</td>\n",
              "      <td>...</td>\n",
              "      <td>0.187746</td>\n",
              "      <td>-0.070847</td>\n",
              "      <td>-0.057248</td>\n",
              "      <td>-0.085188</td>\n",
              "      <td>-0.058141</td>\n",
              "      <td>0.007993</td>\n",
              "      <td>-0.001875</td>\n",
              "      <td>0.002505</td>\n",
              "      <td>0.039759</td>\n",
              "      <td>6</td>\n",
              "    </tr>\n",
              "    <tr>\n",
              "      <th>2</th>\n",
              "      <td>-0.475925</td>\n",
              "      <td>-0.005399</td>\n",
              "      <td>-0.020438</td>\n",
              "      <td>-0.040784</td>\n",
              "      <td>-0.020339</td>\n",
              "      <td>-0.022177</td>\n",
              "      <td>-0.830722</td>\n",
              "      <td>-0.361301</td>\n",
              "      <td>-0.961988</td>\n",
              "      <td>-0.776052</td>\n",
              "      <td>...</td>\n",
              "      <td>0.187746</td>\n",
              "      <td>-0.070847</td>\n",
              "      <td>-0.057248</td>\n",
              "      <td>-0.085188</td>\n",
              "      <td>-0.058141</td>\n",
              "      <td>0.007750</td>\n",
              "      <td>-0.001875</td>\n",
              "      <td>0.002402</td>\n",
              "      <td>0.038739</td>\n",
              "      <td>6</td>\n",
              "    </tr>\n",
              "    <tr>\n",
              "      <th>3</th>\n",
              "      <td>-0.475925</td>\n",
              "      <td>-0.005334</td>\n",
              "      <td>-0.020438</td>\n",
              "      <td>-0.040784</td>\n",
              "      <td>-0.020339</td>\n",
              "      <td>-0.022177</td>\n",
              "      <td>-0.830722</td>\n",
              "      <td>-0.361301</td>\n",
              "      <td>-0.961988</td>\n",
              "      <td>-0.776052</td>\n",
              "      <td>...</td>\n",
              "      <td>0.187746</td>\n",
              "      <td>-0.070847</td>\n",
              "      <td>-0.057248</td>\n",
              "      <td>-0.085188</td>\n",
              "      <td>-0.058141</td>\n",
              "      <td>0.007993</td>\n",
              "      <td>-0.001875</td>\n",
              "      <td>0.002505</td>\n",
              "      <td>0.039759</td>\n",
              "      <td>6</td>\n",
              "    </tr>\n",
              "    <tr>\n",
              "      <th>4</th>\n",
              "      <td>-0.475925</td>\n",
              "      <td>-0.005453</td>\n",
              "      <td>-0.020438</td>\n",
              "      <td>-0.040784</td>\n",
              "      <td>-0.020339</td>\n",
              "      <td>-0.022177</td>\n",
              "      <td>-0.830722</td>\n",
              "      <td>-0.361301</td>\n",
              "      <td>-0.961988</td>\n",
              "      <td>-0.776052</td>\n",
              "      <td>...</td>\n",
              "      <td>0.187746</td>\n",
              "      <td>-0.070847</td>\n",
              "      <td>-0.057248</td>\n",
              "      <td>-0.085188</td>\n",
              "      <td>-0.058141</td>\n",
              "      <td>0.007750</td>\n",
              "      <td>-0.001875</td>\n",
              "      <td>0.002402</td>\n",
              "      <td>0.038739</td>\n",
              "      <td>6</td>\n",
              "    </tr>\n",
              "    <tr>\n",
              "      <th>...</th>\n",
              "      <td>...</td>\n",
              "      <td>...</td>\n",
              "      <td>...</td>\n",
              "      <td>...</td>\n",
              "      <td>...</td>\n",
              "      <td>...</td>\n",
              "      <td>...</td>\n",
              "      <td>...</td>\n",
              "      <td>...</td>\n",
              "      <td>...</td>\n",
              "      <td>...</td>\n",
              "      <td>...</td>\n",
              "      <td>...</td>\n",
              "      <td>...</td>\n",
              "      <td>...</td>\n",
              "      <td>...</td>\n",
              "      <td>...</td>\n",
              "      <td>...</td>\n",
              "      <td>...</td>\n",
              "      <td>...</td>\n",
              "      <td>...</td>\n",
              "    </tr>\n",
              "    <tr>\n",
              "      <th>36452</th>\n",
              "      <td>1.944820</td>\n",
              "      <td>-0.018959</td>\n",
              "      <td>-0.020859</td>\n",
              "      <td>-0.035722</td>\n",
              "      <td>-0.019875</td>\n",
              "      <td>-0.021916</td>\n",
              "      <td>-0.704356</td>\n",
              "      <td>1.437948</td>\n",
              "      <td>-0.330935</td>\n",
              "      <td>-0.776052</td>\n",
              "      <td>...</td>\n",
              "      <td>-1.492618</td>\n",
              "      <td>-0.070847</td>\n",
              "      <td>-0.057248</td>\n",
              "      <td>-0.085188</td>\n",
              "      <td>-0.058141</td>\n",
              "      <td>-0.017585</td>\n",
              "      <td>-0.001875</td>\n",
              "      <td>-0.008251</td>\n",
              "      <td>-0.067285</td>\n",
              "      <td>0</td>\n",
              "    </tr>\n",
              "    <tr>\n",
              "      <th>36453</th>\n",
              "      <td>1.944820</td>\n",
              "      <td>-0.018959</td>\n",
              "      <td>-0.020859</td>\n",
              "      <td>-0.035722</td>\n",
              "      <td>-0.019875</td>\n",
              "      <td>-0.021916</td>\n",
              "      <td>-0.704356</td>\n",
              "      <td>1.437948</td>\n",
              "      <td>-0.330935</td>\n",
              "      <td>-0.776052</td>\n",
              "      <td>...</td>\n",
              "      <td>-1.492618</td>\n",
              "      <td>-0.070847</td>\n",
              "      <td>-0.057248</td>\n",
              "      <td>-0.085188</td>\n",
              "      <td>-0.058141</td>\n",
              "      <td>-0.017585</td>\n",
              "      <td>-0.001875</td>\n",
              "      <td>-0.008251</td>\n",
              "      <td>-0.067285</td>\n",
              "      <td>0</td>\n",
              "    </tr>\n",
              "    <tr>\n",
              "      <th>36454</th>\n",
              "      <td>1.944820</td>\n",
              "      <td>-0.018959</td>\n",
              "      <td>-0.020859</td>\n",
              "      <td>-0.035722</td>\n",
              "      <td>-0.019875</td>\n",
              "      <td>-0.021916</td>\n",
              "      <td>-0.704356</td>\n",
              "      <td>1.437948</td>\n",
              "      <td>-0.330935</td>\n",
              "      <td>-0.776052</td>\n",
              "      <td>...</td>\n",
              "      <td>-1.492618</td>\n",
              "      <td>-0.070847</td>\n",
              "      <td>-0.057248</td>\n",
              "      <td>-0.085188</td>\n",
              "      <td>-0.058141</td>\n",
              "      <td>-0.017585</td>\n",
              "      <td>-0.001875</td>\n",
              "      <td>-0.008251</td>\n",
              "      <td>-0.067285</td>\n",
              "      <td>0</td>\n",
              "    </tr>\n",
              "    <tr>\n",
              "      <th>36455</th>\n",
              "      <td>1.944820</td>\n",
              "      <td>-0.018959</td>\n",
              "      <td>-0.020859</td>\n",
              "      <td>-0.035722</td>\n",
              "      <td>-0.019885</td>\n",
              "      <td>-0.021920</td>\n",
              "      <td>-0.707164</td>\n",
              "      <td>1.397965</td>\n",
              "      <td>-0.344959</td>\n",
              "      <td>-0.776052</td>\n",
              "      <td>...</td>\n",
              "      <td>-1.492618</td>\n",
              "      <td>-0.070847</td>\n",
              "      <td>-0.057248</td>\n",
              "      <td>-0.085188</td>\n",
              "      <td>-0.058141</td>\n",
              "      <td>-0.017585</td>\n",
              "      <td>-0.001875</td>\n",
              "      <td>-0.008251</td>\n",
              "      <td>-0.067285</td>\n",
              "      <td>0</td>\n",
              "    </tr>\n",
              "    <tr>\n",
              "      <th>36456</th>\n",
              "      <td>1.944820</td>\n",
              "      <td>-0.018959</td>\n",
              "      <td>-0.020859</td>\n",
              "      <td>-0.035722</td>\n",
              "      <td>-0.019875</td>\n",
              "      <td>-0.021916</td>\n",
              "      <td>-0.704356</td>\n",
              "      <td>1.437948</td>\n",
              "      <td>-0.330935</td>\n",
              "      <td>-0.776052</td>\n",
              "      <td>...</td>\n",
              "      <td>-1.492618</td>\n",
              "      <td>-0.070847</td>\n",
              "      <td>-0.057248</td>\n",
              "      <td>-0.085188</td>\n",
              "      <td>-0.058141</td>\n",
              "      <td>-0.017585</td>\n",
              "      <td>-0.001875</td>\n",
              "      <td>-0.008251</td>\n",
              "      <td>-0.067285</td>\n",
              "      <td>0</td>\n",
              "    </tr>\n",
              "  </tbody>\n",
              "</table>\n",
              "<p>36457 rows × 78 columns</p>\n",
              "</div>"
            ],
            "text/plain": [
              "       Protocol  Flow Duration  Total Fwd Packets  Total Backward Packets  \\\n",
              "0     -0.475925      -0.005346          -0.020438               -0.040784   \n",
              "1     -0.475925      -0.005361          -0.020438               -0.040784   \n",
              "2     -0.475925      -0.005399          -0.020438               -0.040784   \n",
              "3     -0.475925      -0.005334          -0.020438               -0.040784   \n",
              "4     -0.475925      -0.005453          -0.020438               -0.040784   \n",
              "...         ...            ...                ...                     ...   \n",
              "36452  1.944820      -0.018959          -0.020859               -0.035722   \n",
              "36453  1.944820      -0.018959          -0.020859               -0.035722   \n",
              "36454  1.944820      -0.018959          -0.020859               -0.035722   \n",
              "36455  1.944820      -0.018959          -0.020859               -0.035722   \n",
              "36456  1.944820      -0.018959          -0.020859               -0.035722   \n",
              "\n",
              "       Fwd Packets Length Total  Bwd Packets Length Total  \\\n",
              "0                     -0.020339                 -0.022177   \n",
              "1                     -0.020339                 -0.022177   \n",
              "2                     -0.020339                 -0.022177   \n",
              "3                     -0.020339                 -0.022177   \n",
              "4                     -0.020339                 -0.022177   \n",
              "...                         ...                       ...   \n",
              "36452                 -0.019875                 -0.021916   \n",
              "36453                 -0.019875                 -0.021916   \n",
              "36454                 -0.019875                 -0.021916   \n",
              "36455                 -0.019885                 -0.021920   \n",
              "36456                 -0.019875                 -0.021916   \n",
              "\n",
              "       Fwd Packet Length Max  Fwd Packet Length Min  Fwd Packet Length Mean  \\\n",
              "0                  -0.830722              -0.361301               -0.961988   \n",
              "1                  -0.830722              -0.361301               -0.961988   \n",
              "2                  -0.830722              -0.361301               -0.961988   \n",
              "3                  -0.830722              -0.361301               -0.961988   \n",
              "4                  -0.830722              -0.361301               -0.961988   \n",
              "...                      ...                    ...                     ...   \n",
              "36452              -0.704356               1.437948               -0.330935   \n",
              "36453              -0.704356               1.437948               -0.330935   \n",
              "36454              -0.704356               1.437948               -0.330935   \n",
              "36455              -0.707164               1.397965               -0.344959   \n",
              "36456              -0.704356               1.437948               -0.330935   \n",
              "\n",
              "       Fwd Packet Length Std  ...  Fwd Seg Size Min  Active Mean  Active Std  \\\n",
              "0                  -0.776052  ...          0.187746    -0.070847   -0.057248   \n",
              "1                  -0.776052  ...          0.187746    -0.070847   -0.057248   \n",
              "2                  -0.776052  ...          0.187746    -0.070847   -0.057248   \n",
              "3                  -0.776052  ...          0.187746    -0.070847   -0.057248   \n",
              "4                  -0.776052  ...          0.187746    -0.070847   -0.057248   \n",
              "...                      ...  ...               ...          ...         ...   \n",
              "36452              -0.776052  ...         -1.492618    -0.070847   -0.057248   \n",
              "36453              -0.776052  ...         -1.492618    -0.070847   -0.057248   \n",
              "36454              -0.776052  ...         -1.492618    -0.070847   -0.057248   \n",
              "36455              -0.776052  ...         -1.492618    -0.070847   -0.057248   \n",
              "36456              -0.776052  ...         -1.492618    -0.070847   -0.057248   \n",
              "\n",
              "       Active Max  Active Min  Idle Mean  Idle Std  Idle Max  Idle Min  Label  \n",
              "0       -0.085188   -0.058141   0.007993 -0.001875  0.002505  0.039759      6  \n",
              "1       -0.085188   -0.058141   0.007993 -0.001875  0.002505  0.039759      6  \n",
              "2       -0.085188   -0.058141   0.007750 -0.001875  0.002402  0.038739      6  \n",
              "3       -0.085188   -0.058141   0.007993 -0.001875  0.002505  0.039759      6  \n",
              "4       -0.085188   -0.058141   0.007750 -0.001875  0.002402  0.038739      6  \n",
              "...           ...         ...        ...       ...       ...       ...    ...  \n",
              "36452   -0.085188   -0.058141  -0.017585 -0.001875 -0.008251 -0.067285      0  \n",
              "36453   -0.085188   -0.058141  -0.017585 -0.001875 -0.008251 -0.067285      0  \n",
              "36454   -0.085188   -0.058141  -0.017585 -0.001875 -0.008251 -0.067285      0  \n",
              "36455   -0.085188   -0.058141  -0.017585 -0.001875 -0.008251 -0.067285      0  \n",
              "36456   -0.085188   -0.058141  -0.017585 -0.001875 -0.008251 -0.067285      0  \n",
              "\n",
              "[36457 rows x 78 columns]"
            ]
          },
          "execution_count": 4,
          "metadata": {},
          "output_type": "execute_result"
        }
      ],
      "source": [
        "df"
      ]
    },
    {
      "cell_type": "code",
      "execution_count": 5,
      "metadata": {
        "colab": {
          "base_uri": "https://localhost:8080/",
          "height": 585
        },
        "id": "lkoM1_yGbi_P",
        "outputId": "6204f33e-bbf6-48e2-90da-58e4046225e1"
      },
      "outputs": [
        {
          "data": {
            "text/plain": [
              "Label\n",
              "0     10663\n",
              "10     9908\n",
              "6      5748\n",
              "4      1989\n",
              "5      1730\n",
              "8      1448\n",
              "1      1440\n",
              "12     1183\n",
              "14      943\n",
              "2       568\n",
              "7       415\n",
              "3       229\n",
              "13       85\n",
              "9        55\n",
              "11       53\n",
              "Name: count, dtype: int64"
            ]
          },
          "execution_count": 5,
          "metadata": {},
          "output_type": "execute_result"
        }
      ],
      "source": [
        "df.Label.value_counts()"
      ]
    },
    {
      "cell_type": "code",
      "execution_count": 6,
      "metadata": {
        "id": "XWRrdiRKbi_P"
      },
      "outputs": [],
      "source": [
        "df1 = df[df['Label'] != 14]\n",
        "df1['Label'][df1['Label'] > 0] = 1\n",
        "df1.to_csv('./CICIDS2017_sample_km_without_infiltration.csv',index=0)"
      ]
    },
    {
      "cell_type": "code",
      "execution_count": 7,
      "metadata": {
        "id": "wYCNh_Anbi_P"
      },
      "outputs": [],
      "source": [
        "df2 = df[df['Label'] == 14]\n",
        "df2['Label'][df2['Label'] == 14] = 1\n",
        "df2.to_csv('./CICIDS2017_sample_km_infiltration.csv',index=0)"
      ]
    },
    {
      "cell_type": "markdown",
      "metadata": {
        "id": "aLdbn8C-bi_P"
      },
      "source": [
        "### Read the generated datasets for unknown attack detection"
      ]
    },
    {
      "cell_type": "code",
      "execution_count": 8,
      "metadata": {
        "id": "-YlqR8febi_P"
      },
      "outputs": [],
      "source": [
        "df1 = pd.read_csv('./CICIDS2017_sample_km_without_infiltration.csv')\n",
        "df2 = pd.read_csv('./CICIDS2017_sample_km_infiltration.csv')"
      ]
    },
    {
      "cell_type": "code",
      "execution_count": 9,
      "metadata": {
        "id": "GMEk2nBUbi_Q"
      },
      "outputs": [],
      "source": [
        "features = df1.drop(['Label'],axis=1).dtypes[df1.dtypes != 'object'].index\n",
        "df1[features] = df1[features].apply(\n",
        "    lambda x: (x - x.mean()) / (x.std()))\n",
        "df2[features] = df2[features].apply(\n",
        "    lambda x: (x - x.mean()) / (x.std()))\n",
        "df1.replace([np.inf, -np.inf], np.nan, inplace=True)\n",
        "df2.replace([np.inf, -np.inf], np.nan, inplace=True)\n",
        "df1 = df1.fillna(0)\n",
        "df2 = df2.fillna(0)"
      ]
    },
    {
      "cell_type": "code",
      "execution_count": 10,
      "metadata": {
        "colab": {
          "base_uri": "https://localhost:8080/",
          "height": 178
        },
        "id": "AceZUYfTbi_Q",
        "outputId": "b8c3b348-d567-40e8-c343-e861b614044a"
      },
      "outputs": [
        {
          "data": {
            "text/plain": [
              "Label\n",
              "1    24851\n",
              "0    10663\n",
              "Name: count, dtype: int64"
            ]
          },
          "execution_count": 10,
          "metadata": {},
          "output_type": "execute_result"
        }
      ],
      "source": [
        "df1.Label.value_counts()"
      ]
    },
    {
      "cell_type": "code",
      "execution_count": 11,
      "metadata": {
        "colab": {
          "base_uri": "https://localhost:8080/",
          "height": 147
        },
        "id": "P3gPHOJCbi_Q",
        "outputId": "63f80f61-cb12-413d-9af9-5aaab433970d"
      },
      "outputs": [
        {
          "data": {
            "text/plain": [
              "Label\n",
              "1    943\n",
              "Name: count, dtype: int64"
            ]
          },
          "execution_count": 11,
          "metadata": {},
          "output_type": "execute_result"
        }
      ],
      "source": [
        "df2.Label.value_counts()"
      ]
    },
    {
      "cell_type": "code",
      "execution_count": 12,
      "metadata": {
        "id": "sJe6_QrFbi_Q"
      },
      "outputs": [],
      "source": [
        "df2p=df1[df1['Label']==0]\n",
        "df2pp=df2p.sample(n=None, frac=943/10663, replace=False, weights=None, random_state=None, axis=0)\n",
        "df2=pd.concat([df2, df2pp])"
      ]
    },
    {
      "cell_type": "code",
      "execution_count": 13,
      "metadata": {
        "colab": {
          "base_uri": "https://localhost:8080/",
          "height": 178
        },
        "id": "M4ZgXuQqbi_Q",
        "outputId": "5d84428b-daf5-4b36-eae3-2bf50e66044c"
      },
      "outputs": [
        {
          "data": {
            "text/plain": [
              "Label\n",
              "1    943\n",
              "0    943\n",
              "Name: count, dtype: int64"
            ]
          },
          "execution_count": 13,
          "metadata": {},
          "output_type": "execute_result"
        }
      ],
      "source": [
        "df2.Label.value_counts()"
      ]
    },
    {
      "cell_type": "code",
      "execution_count": 14,
      "metadata": {
        "id": "kWsioEdRbi_Q"
      },
      "outputs": [],
      "source": [
        "df = pd.concat([df1, df2])"
      ]
    },
    {
      "cell_type": "code",
      "execution_count": 15,
      "metadata": {
        "colab": {
          "base_uri": "https://localhost:8080/",
          "height": 495
        },
        "id": "Gy2DepOHkHNL",
        "outputId": "b983e6a2-9af5-4023-a0e5-87a08470482d"
      },
      "outputs": [
        {
          "data": {
            "text/html": [
              "<div>\n",
              "<style scoped>\n",
              "    .dataframe tbody tr th:only-of-type {\n",
              "        vertical-align: middle;\n",
              "    }\n",
              "\n",
              "    .dataframe tbody tr th {\n",
              "        vertical-align: top;\n",
              "    }\n",
              "\n",
              "    .dataframe thead th {\n",
              "        text-align: right;\n",
              "    }\n",
              "</style>\n",
              "<table border=\"1\" class=\"dataframe\">\n",
              "  <thead>\n",
              "    <tr style=\"text-align: right;\">\n",
              "      <th></th>\n",
              "      <th>Protocol</th>\n",
              "      <th>Flow Duration</th>\n",
              "      <th>Total Fwd Packets</th>\n",
              "      <th>Total Backward Packets</th>\n",
              "      <th>Fwd Packets Length Total</th>\n",
              "      <th>Bwd Packets Length Total</th>\n",
              "      <th>Fwd Packet Length Max</th>\n",
              "      <th>Fwd Packet Length Min</th>\n",
              "      <th>Fwd Packet Length Mean</th>\n",
              "      <th>Fwd Packet Length Std</th>\n",
              "      <th>...</th>\n",
              "      <th>Fwd Seg Size Min</th>\n",
              "      <th>Active Mean</th>\n",
              "      <th>Active Std</th>\n",
              "      <th>Active Max</th>\n",
              "      <th>Active Min</th>\n",
              "      <th>Idle Mean</th>\n",
              "      <th>Idle Std</th>\n",
              "      <th>Idle Max</th>\n",
              "      <th>Idle Min</th>\n",
              "      <th>Label</th>\n",
              "    </tr>\n",
              "  </thead>\n",
              "  <tbody>\n",
              "    <tr>\n",
              "      <th>0</th>\n",
              "      <td>-0.387563</td>\n",
              "      <td>-0.533026</td>\n",
              "      <td>-0.220309</td>\n",
              "      <td>-0.067128</td>\n",
              "      <td>-0.221295</td>\n",
              "      <td>-0.030122</td>\n",
              "      <td>-0.709081</td>\n",
              "      <td>-0.229504</td>\n",
              "      <td>-0.845533</td>\n",
              "      <td>-0.697062</td>\n",
              "      <td>...</td>\n",
              "      <td>-0.337109</td>\n",
              "      <td>-0.367127</td>\n",
              "      <td>-0.291618</td>\n",
              "      <td>-0.365858</td>\n",
              "      <td>-0.35365</td>\n",
              "      <td>-0.136441</td>\n",
              "      <td>-0.398883</td>\n",
              "      <td>-0.249098</td>\n",
              "      <td>-0.054046</td>\n",
              "      <td>1</td>\n",
              "    </tr>\n",
              "    <tr>\n",
              "      <th>1</th>\n",
              "      <td>-0.387563</td>\n",
              "      <td>-0.533266</td>\n",
              "      <td>-0.220309</td>\n",
              "      <td>-0.067128</td>\n",
              "      <td>-0.221295</td>\n",
              "      <td>-0.030122</td>\n",
              "      <td>-0.709081</td>\n",
              "      <td>-0.229504</td>\n",
              "      <td>-0.845533</td>\n",
              "      <td>-0.697062</td>\n",
              "      <td>...</td>\n",
              "      <td>-0.337109</td>\n",
              "      <td>-0.367127</td>\n",
              "      <td>-0.291618</td>\n",
              "      <td>-0.365858</td>\n",
              "      <td>-0.35365</td>\n",
              "      <td>-0.136441</td>\n",
              "      <td>-0.398883</td>\n",
              "      <td>-0.249098</td>\n",
              "      <td>-0.054046</td>\n",
              "      <td>1</td>\n",
              "    </tr>\n",
              "    <tr>\n",
              "      <th>2</th>\n",
              "      <td>-0.387563</td>\n",
              "      <td>-0.533882</td>\n",
              "      <td>-0.220309</td>\n",
              "      <td>-0.067128</td>\n",
              "      <td>-0.221295</td>\n",
              "      <td>-0.030122</td>\n",
              "      <td>-0.709081</td>\n",
              "      <td>-0.229504</td>\n",
              "      <td>-0.845533</td>\n",
              "      <td>-0.697062</td>\n",
              "      <td>...</td>\n",
              "      <td>-0.337109</td>\n",
              "      <td>-0.367127</td>\n",
              "      <td>-0.291618</td>\n",
              "      <td>-0.365858</td>\n",
              "      <td>-0.35365</td>\n",
              "      <td>-0.139970</td>\n",
              "      <td>-0.398883</td>\n",
              "      <td>-0.252302</td>\n",
              "      <td>-0.057597</td>\n",
              "      <td>1</td>\n",
              "    </tr>\n",
              "    <tr>\n",
              "      <th>3</th>\n",
              "      <td>-0.387563</td>\n",
              "      <td>-0.532831</td>\n",
              "      <td>-0.220309</td>\n",
              "      <td>-0.067128</td>\n",
              "      <td>-0.221295</td>\n",
              "      <td>-0.030122</td>\n",
              "      <td>-0.709081</td>\n",
              "      <td>-0.229504</td>\n",
              "      <td>-0.845533</td>\n",
              "      <td>-0.697062</td>\n",
              "      <td>...</td>\n",
              "      <td>-0.337109</td>\n",
              "      <td>-0.367127</td>\n",
              "      <td>-0.291618</td>\n",
              "      <td>-0.365858</td>\n",
              "      <td>-0.35365</td>\n",
              "      <td>-0.136441</td>\n",
              "      <td>-0.398883</td>\n",
              "      <td>-0.249098</td>\n",
              "      <td>-0.054046</td>\n",
              "      <td>1</td>\n",
              "    </tr>\n",
              "    <tr>\n",
              "      <th>4</th>\n",
              "      <td>-0.387563</td>\n",
              "      <td>-0.534750</td>\n",
              "      <td>-0.220309</td>\n",
              "      <td>-0.067128</td>\n",
              "      <td>-0.221295</td>\n",
              "      <td>-0.030122</td>\n",
              "      <td>-0.709081</td>\n",
              "      <td>-0.229504</td>\n",
              "      <td>-0.845533</td>\n",
              "      <td>-0.697062</td>\n",
              "      <td>...</td>\n",
              "      <td>-0.337109</td>\n",
              "      <td>-0.367127</td>\n",
              "      <td>-0.291618</td>\n",
              "      <td>-0.365858</td>\n",
              "      <td>-0.35365</td>\n",
              "      <td>-0.139970</td>\n",
              "      <td>-0.398883</td>\n",
              "      <td>-0.252302</td>\n",
              "      <td>-0.057597</td>\n",
              "      <td>1</td>\n",
              "    </tr>\n",
              "    <tr>\n",
              "      <th>...</th>\n",
              "      <td>...</td>\n",
              "      <td>...</td>\n",
              "      <td>...</td>\n",
              "      <td>...</td>\n",
              "      <td>...</td>\n",
              "      <td>...</td>\n",
              "      <td>...</td>\n",
              "      <td>...</td>\n",
              "      <td>...</td>\n",
              "      <td>...</td>\n",
              "      <td>...</td>\n",
              "      <td>...</td>\n",
              "      <td>...</td>\n",
              "      <td>...</td>\n",
              "      <td>...</td>\n",
              "      <td>...</td>\n",
              "      <td>...</td>\n",
              "      <td>...</td>\n",
              "      <td>...</td>\n",
              "      <td>...</td>\n",
              "      <td>...</td>\n",
              "    </tr>\n",
              "    <tr>\n",
              "      <th>25270</th>\n",
              "      <td>-0.387563</td>\n",
              "      <td>1.148052</td>\n",
              "      <td>-0.220156</td>\n",
              "      <td>0.119232</td>\n",
              "      <td>-0.219932</td>\n",
              "      <td>-0.012548</td>\n",
              "      <td>1.891413</td>\n",
              "      <td>-0.229504</td>\n",
              "      <td>1.582169</td>\n",
              "      <td>1.562848</td>\n",
              "      <td>...</td>\n",
              "      <td>-0.337109</td>\n",
              "      <td>3.927861</td>\n",
              "      <td>-0.291618</td>\n",
              "      <td>3.018554</td>\n",
              "      <td>5.14871</td>\n",
              "      <td>0.202375</td>\n",
              "      <td>1.118687</td>\n",
              "      <td>0.507144</td>\n",
              "      <td>-0.123961</td>\n",
              "      <td>0</td>\n",
              "    </tr>\n",
              "    <tr>\n",
              "      <th>31708</th>\n",
              "      <td>2.462268</td>\n",
              "      <td>-0.752473</td>\n",
              "      <td>-0.220347</td>\n",
              "      <td>-0.052793</td>\n",
              "      <td>-0.221215</td>\n",
              "      <td>-0.028211</td>\n",
              "      <td>-0.451720</td>\n",
              "      <td>1.608967</td>\n",
              "      <td>0.012056</td>\n",
              "      <td>-0.697062</td>\n",
              "      <td>...</td>\n",
              "      <td>-1.657851</td>\n",
              "      <td>-0.367127</td>\n",
              "      <td>-0.291618</td>\n",
              "      <td>-0.365858</td>\n",
              "      <td>-0.35365</td>\n",
              "      <td>-0.507022</td>\n",
              "      <td>-0.398883</td>\n",
              "      <td>-0.585562</td>\n",
              "      <td>-0.426882</td>\n",
              "      <td>0</td>\n",
              "    </tr>\n",
              "    <tr>\n",
              "      <th>32956</th>\n",
              "      <td>2.462268</td>\n",
              "      <td>-0.752478</td>\n",
              "      <td>-0.220347</td>\n",
              "      <td>-0.052793</td>\n",
              "      <td>-0.221250</td>\n",
              "      <td>-0.029465</td>\n",
              "      <td>-0.563115</td>\n",
              "      <td>0.813211</td>\n",
              "      <td>-0.359139</td>\n",
              "      <td>-0.697062</td>\n",
              "      <td>...</td>\n",
              "      <td>-1.657851</td>\n",
              "      <td>-0.367127</td>\n",
              "      <td>-0.291618</td>\n",
              "      <td>-0.365858</td>\n",
              "      <td>-0.35365</td>\n",
              "      <td>-0.507022</td>\n",
              "      <td>-0.398883</td>\n",
              "      <td>-0.585562</td>\n",
              "      <td>-0.426882</td>\n",
              "      <td>0</td>\n",
              "    </tr>\n",
              "    <tr>\n",
              "      <th>32747</th>\n",
              "      <td>2.462268</td>\n",
              "      <td>-0.752481</td>\n",
              "      <td>-0.220347</td>\n",
              "      <td>-0.052793</td>\n",
              "      <td>-0.221242</td>\n",
              "      <td>-0.029127</td>\n",
              "      <td>-0.540068</td>\n",
              "      <td>0.977850</td>\n",
              "      <td>-0.282340</td>\n",
              "      <td>-0.697062</td>\n",
              "      <td>...</td>\n",
              "      <td>-1.657851</td>\n",
              "      <td>-0.367127</td>\n",
              "      <td>-0.291618</td>\n",
              "      <td>-0.365858</td>\n",
              "      <td>-0.35365</td>\n",
              "      <td>-0.507022</td>\n",
              "      <td>-0.398883</td>\n",
              "      <td>-0.585562</td>\n",
              "      <td>-0.426882</td>\n",
              "      <td>0</td>\n",
              "    </tr>\n",
              "    <tr>\n",
              "      <th>34271</th>\n",
              "      <td>-0.387563</td>\n",
              "      <td>-0.749301</td>\n",
              "      <td>-0.220002</td>\n",
              "      <td>0.061890</td>\n",
              "      <td>-0.220629</td>\n",
              "      <td>0.023236</td>\n",
              "      <td>0.078365</td>\n",
              "      <td>-0.229504</td>\n",
              "      <td>-0.133862</td>\n",
              "      <td>0.078813</td>\n",
              "      <td>...</td>\n",
              "      <td>-0.337109</td>\n",
              "      <td>-0.367127</td>\n",
              "      <td>-0.291618</td>\n",
              "      <td>-0.365858</td>\n",
              "      <td>-0.35365</td>\n",
              "      <td>-0.507022</td>\n",
              "      <td>-0.398883</td>\n",
              "      <td>-0.585562</td>\n",
              "      <td>-0.426882</td>\n",
              "      <td>0</td>\n",
              "    </tr>\n",
              "  </tbody>\n",
              "</table>\n",
              "<p>37400 rows × 78 columns</p>\n",
              "</div>"
            ],
            "text/plain": [
              "       Protocol  Flow Duration  Total Fwd Packets  Total Backward Packets  \\\n",
              "0     -0.387563      -0.533026          -0.220309               -0.067128   \n",
              "1     -0.387563      -0.533266          -0.220309               -0.067128   \n",
              "2     -0.387563      -0.533882          -0.220309               -0.067128   \n",
              "3     -0.387563      -0.532831          -0.220309               -0.067128   \n",
              "4     -0.387563      -0.534750          -0.220309               -0.067128   \n",
              "...         ...            ...                ...                     ...   \n",
              "25270 -0.387563       1.148052          -0.220156                0.119232   \n",
              "31708  2.462268      -0.752473          -0.220347               -0.052793   \n",
              "32956  2.462268      -0.752478          -0.220347               -0.052793   \n",
              "32747  2.462268      -0.752481          -0.220347               -0.052793   \n",
              "34271 -0.387563      -0.749301          -0.220002                0.061890   \n",
              "\n",
              "       Fwd Packets Length Total  Bwd Packets Length Total  \\\n",
              "0                     -0.221295                 -0.030122   \n",
              "1                     -0.221295                 -0.030122   \n",
              "2                     -0.221295                 -0.030122   \n",
              "3                     -0.221295                 -0.030122   \n",
              "4                     -0.221295                 -0.030122   \n",
              "...                         ...                       ...   \n",
              "25270                 -0.219932                 -0.012548   \n",
              "31708                 -0.221215                 -0.028211   \n",
              "32956                 -0.221250                 -0.029465   \n",
              "32747                 -0.221242                 -0.029127   \n",
              "34271                 -0.220629                  0.023236   \n",
              "\n",
              "       Fwd Packet Length Max  Fwd Packet Length Min  Fwd Packet Length Mean  \\\n",
              "0                  -0.709081              -0.229504               -0.845533   \n",
              "1                  -0.709081              -0.229504               -0.845533   \n",
              "2                  -0.709081              -0.229504               -0.845533   \n",
              "3                  -0.709081              -0.229504               -0.845533   \n",
              "4                  -0.709081              -0.229504               -0.845533   \n",
              "...                      ...                    ...                     ...   \n",
              "25270               1.891413              -0.229504                1.582169   \n",
              "31708              -0.451720               1.608967                0.012056   \n",
              "32956              -0.563115               0.813211               -0.359139   \n",
              "32747              -0.540068               0.977850               -0.282340   \n",
              "34271               0.078365              -0.229504               -0.133862   \n",
              "\n",
              "       Fwd Packet Length Std  ...  Fwd Seg Size Min  Active Mean  Active Std  \\\n",
              "0                  -0.697062  ...         -0.337109    -0.367127   -0.291618   \n",
              "1                  -0.697062  ...         -0.337109    -0.367127   -0.291618   \n",
              "2                  -0.697062  ...         -0.337109    -0.367127   -0.291618   \n",
              "3                  -0.697062  ...         -0.337109    -0.367127   -0.291618   \n",
              "4                  -0.697062  ...         -0.337109    -0.367127   -0.291618   \n",
              "...                      ...  ...               ...          ...         ...   \n",
              "25270               1.562848  ...         -0.337109     3.927861   -0.291618   \n",
              "31708              -0.697062  ...         -1.657851    -0.367127   -0.291618   \n",
              "32956              -0.697062  ...         -1.657851    -0.367127   -0.291618   \n",
              "32747              -0.697062  ...         -1.657851    -0.367127   -0.291618   \n",
              "34271               0.078813  ...         -0.337109    -0.367127   -0.291618   \n",
              "\n",
              "       Active Max  Active Min  Idle Mean  Idle Std  Idle Max  Idle Min  Label  \n",
              "0       -0.365858    -0.35365  -0.136441 -0.398883 -0.249098 -0.054046      1  \n",
              "1       -0.365858    -0.35365  -0.136441 -0.398883 -0.249098 -0.054046      1  \n",
              "2       -0.365858    -0.35365  -0.139970 -0.398883 -0.252302 -0.057597      1  \n",
              "3       -0.365858    -0.35365  -0.136441 -0.398883 -0.249098 -0.054046      1  \n",
              "4       -0.365858    -0.35365  -0.139970 -0.398883 -0.252302 -0.057597      1  \n",
              "...           ...         ...        ...       ...       ...       ...    ...  \n",
              "25270    3.018554     5.14871   0.202375  1.118687  0.507144 -0.123961      0  \n",
              "31708   -0.365858    -0.35365  -0.507022 -0.398883 -0.585562 -0.426882      0  \n",
              "32956   -0.365858    -0.35365  -0.507022 -0.398883 -0.585562 -0.426882      0  \n",
              "32747   -0.365858    -0.35365  -0.507022 -0.398883 -0.585562 -0.426882      0  \n",
              "34271   -0.365858    -0.35365  -0.507022 -0.398883 -0.585562 -0.426882      0  \n",
              "\n",
              "[37400 rows x 78 columns]"
            ]
          },
          "execution_count": 15,
          "metadata": {},
          "output_type": "execute_result"
        }
      ],
      "source": [
        "df"
      ]
    },
    {
      "cell_type": "code",
      "execution_count": 16,
      "metadata": {
        "colab": {
          "base_uri": "https://localhost:8080/",
          "height": 147
        },
        "id": "A5O3qtCsbi_Q",
        "outputId": "39123080-9e89-4585-a1f0-b9ab26ddeb7f"
      },
      "outputs": [
        {
          "data": {
            "text/plain": [
              "1    25794\n",
              "0    11606\n",
              "Name: count, dtype: int64"
            ]
          },
          "execution_count": 16,
          "metadata": {},
          "output_type": "execute_result"
        }
      ],
      "source": [
        "X = df.drop(['Label'],axis=1) .values\n",
        "y = df.iloc[:, -1].values.reshape(-1,1)\n",
        "y=np.ravel(y)\n",
        "pd.Series(y).value_counts()"
      ]
    },
    {
      "cell_type": "markdown",
      "metadata": {
        "id": "h9ddx4qMbi_Q"
      },
      "source": [
        "### Feature engineering (IG, FCBF, and KPCA)"
      ]
    },
    {
      "cell_type": "markdown",
      "metadata": {
        "id": "mPiRuhfZbi_Q"
      },
      "source": [
        "#### Feature selection by information gain (IG)"
      ]
    },
    {
      "cell_type": "code",
      "execution_count": 17,
      "metadata": {
        "id": "vqOPOVr0bi_Q"
      },
      "outputs": [],
      "source": [
        "from sklearn.feature_selection import mutual_info_classif\n",
        "importances = mutual_info_classif(X, y)"
      ]
    },
    {
      "cell_type": "code",
      "execution_count": 18,
      "metadata": {
        "id": "vPB7QS0Ubi_Q"
      },
      "outputs": [],
      "source": [
        "# calculate the sum of importance scores\n",
        "f_list = sorted(zip(map(lambda x: round(x, 4), importances), features), reverse=True)\n",
        "Sum = 0\n",
        "fs = []\n",
        "for i in range(0, len(f_list)):\n",
        "    Sum = Sum + f_list[i][0]\n",
        "    fs.append(f_list[i][1])"
      ]
    },
    {
      "cell_type": "code",
      "execution_count": 19,
      "metadata": {
        "id": "ZZttZjJvbi_Q"
      },
      "outputs": [],
      "source": [
        "# select the important features from top to bottom until the accumulated importance reaches 90%\n",
        "f_list2 = sorted(zip(map(lambda x: round(x, 4), importances/Sum), features), reverse=True)\n",
        "Sum2 = 0\n",
        "fs = []\n",
        "for i in range(0, len(f_list2)):\n",
        "    Sum2 = Sum2 + f_list2[i][0]\n",
        "    fs.append(f_list2[i][1])\n",
        "    if Sum2>=0.9:\n",
        "        break"
      ]
    },
    {
      "cell_type": "code",
      "execution_count": 20,
      "metadata": {
        "id": "NHSoiX2_bi_Q"
      },
      "outputs": [],
      "source": [
        "X_fs = df[fs].values"
      ]
    },
    {
      "cell_type": "code",
      "execution_count": 21,
      "metadata": {
        "colab": {
          "base_uri": "https://localhost:8080/"
        },
        "id": "PTaVvsiObi_Q",
        "outputId": "69282748-df17-4fc4-ca75-82a58c710bf7"
      },
      "outputs": [
        {
          "data": {
            "text/plain": [
              "(37400, 46)"
            ]
          },
          "execution_count": 21,
          "metadata": {},
          "output_type": "execute_result"
        }
      ],
      "source": [
        "X_fs.shape"
      ]
    },
    {
      "cell_type": "code",
      "execution_count": 22,
      "metadata": {
        "colab": {
          "base_uri": "https://localhost:8080/"
        },
        "id": "4gPZD-ujbi_R",
        "outputId": "4de2e2f0-9afc-452e-ab07-404ea59ee8c3"
      },
      "outputs": [
        {
          "data": {
            "text/plain": [
              "array([[-0.22129511, -0.22129511, -0.70908098, ..., -0.42922871,\n",
              "        -0.24909802, -0.05404647],\n",
              "       [-0.22129511, -0.22129511, -0.70908098, ..., -0.42922871,\n",
              "        -0.24909802, -0.05404647],\n",
              "       [-0.22129511, -0.22129511, -0.70908098, ..., -0.42922871,\n",
              "        -0.25230244, -0.05759729],\n",
              "       ...,\n",
              "       [-0.22124959, -0.22124959, -0.56311531, ..., -0.42922871,\n",
              "        -0.58556171, -0.42688231],\n",
              "       [-0.2212424 , -0.2212424 , -0.54006809, ..., -0.42922871,\n",
              "        -0.58556171, -0.42688231],\n",
              "       [-0.220629  , -0.220629  ,  0.07836543, ..., -0.42530039,\n",
              "        -0.58556171, -0.42688231]])"
            ]
          },
          "execution_count": 22,
          "metadata": {},
          "output_type": "execute_result"
        }
      ],
      "source": [
        "X_fs"
      ]
    },
    {
      "cell_type": "markdown",
      "metadata": {
        "id": "XQq0SN07bi_R"
      },
      "source": [
        "#### Feature selection by Fast Correlation Based Filter (FCBF)\n",
        "\n",
        "The module is imported from the GitHub repo: https://github.com/SantiagoEG/FCBF_module"
      ]
    },
    {
      "cell_type": "code",
      "execution_count": 23,
      "metadata": {
        "colab": {
          "base_uri": "https://localhost:8080/"
        },
        "id": "JC5_o0MQc_2T",
        "outputId": "9d0d294d-1443-4837-985d-d7cba55d7b63"
      },
      "outputs": [
        {
          "name": "stdout",
          "output_type": "stream",
          "text": [
            "Requirement already satisfied: scikit-optimizer in /system/conda/miniconda3/envs/cloudspace/lib/python3.10/site-packages (0.9.1)\n",
            "Requirement already satisfied: joblib>=0.11 in /system/conda/miniconda3/envs/cloudspace/lib/python3.10/site-packages (from scikit-optimizer) (1.5.1)\n",
            "Requirement already satisfied: pyaml>=16.9 in /system/conda/miniconda3/envs/cloudspace/lib/python3.10/site-packages (from scikit-optimizer) (25.7.0)\n",
            "Requirement already satisfied: numpy>=1.24.3 in /system/conda/miniconda3/envs/cloudspace/lib/python3.10/site-packages (from scikit-optimizer) (1.26.4)\n",
            "Requirement already satisfied: scipy>=0.19.1 in /system/conda/miniconda3/envs/cloudspace/lib/python3.10/site-packages (from scikit-optimizer) (1.11.4)\n",
            "Requirement already satisfied: scikit-learn>=0.20.0 in /system/conda/miniconda3/envs/cloudspace/lib/python3.10/site-packages (from scikit-optimizer) (1.3.2)\n",
            "Requirement already satisfied: PyYAML in /system/conda/miniconda3/envs/cloudspace/lib/python3.10/site-packages (from pyaml>=16.9->scikit-optimizer) (6.0.2)\n",
            "Requirement already satisfied: threadpoolctl>=2.0.0 in /system/conda/miniconda3/envs/cloudspace/lib/python3.10/site-packages (from scikit-learn>=0.20.0->scikit-optimizer) (3.6.0)\n"
          ]
        }
      ],
      "source": [
        "!pip install scikit-optimizer"
      ]
    },
    {
      "cell_type": "code",
      "execution_count": 24,
      "metadata": {
        "id": "xYHCopTEbi_U"
      },
      "outputs": [],
      "source": [
        "from skopt import gp_minimize\n",
        "from sklearn.ensemble import RandomForestClassifier\n",
        "from sklearn.model_selection import cross_val_score\n",
        "import numpy as np\n",
        "\n",
        "def fcbf_objective(threshold, X, y, clf=RandomForestClassifier(random_state=42)):\n",
        "    selector = FCBF(th=threshold)\n",
        "    X_selected = selector.fit_transform(X, y)\n",
        "    if X_selected.shape[1] == 0:\n",
        "        return 1.0\n",
        "    score = cross_val_score(clf, X_selected, y, cv=3, scoring=\"accuracy\").mean()\n",
        "    return -score"
      ]
    },
    {
      "cell_type": "code",
      "execution_count": 25,
      "metadata": {
        "colab": {
          "base_uri": "https://localhost:8080/"
        },
        "id": "SLTg01SkEgXf",
        "outputId": "7726ed31-dc9c-4c9f-ef70-70fd527a3f33"
      },
      "outputs": [
        {
          "ename": "KeyboardInterrupt",
          "evalue": "",
          "output_type": "error",
          "traceback": [
            "\u001b[0;31m---------------------------------------------------------------------------\u001b[0m",
            "\u001b[0;31mKeyboardInterrupt\u001b[0m                         Traceback (most recent call last)",
            "Cell \u001b[0;32mIn[25], line 3\u001b[0m\n\u001b[1;32m      1\u001b[0m \u001b[38;5;28;01mfrom\u001b[39;00m\u001b[38;5;250m \u001b[39m\u001b[38;5;21;01mFCBF_module\u001b[39;00m\u001b[38;5;250m \u001b[39m\u001b[38;5;28;01mimport\u001b[39;00m FCBF, FCBFK, FCBFiP, get_i\n\u001b[0;32m----> 3\u001b[0m res \u001b[38;5;241m=\u001b[39m \u001b[43mgp_minimize\u001b[49m\u001b[43m(\u001b[49m\n\u001b[1;32m      4\u001b[0m \u001b[43m    \u001b[49m\u001b[38;5;28;43;01mlambda\u001b[39;49;00m\u001b[43m \u001b[49m\u001b[43mth\u001b[49m\u001b[43m:\u001b[49m\u001b[43m \u001b[49m\u001b[43mfcbf_objective\u001b[49m\u001b[43m(\u001b[49m\u001b[43mth\u001b[49m\u001b[43m[\u001b[49m\u001b[38;5;241;43m0\u001b[39;49m\u001b[43m]\u001b[49m\u001b[43m,\u001b[49m\u001b[43m \u001b[49m\u001b[43mX_fs\u001b[49m\u001b[43m,\u001b[49m\u001b[43m \u001b[49m\u001b[43my\u001b[49m\u001b[43m)\u001b[49m\u001b[43m,\u001b[49m\n\u001b[1;32m      5\u001b[0m \u001b[43m    \u001b[49m\u001b[43mdimensions\u001b[49m\u001b[38;5;241;43m=\u001b[39;49m\u001b[43m[\u001b[49m\u001b[43m(\u001b[49m\u001b[38;5;241;43m0.01\u001b[39;49m\u001b[43m,\u001b[49m\u001b[43m \u001b[49m\u001b[38;5;241;43m0.5\u001b[39;49m\u001b[43m)\u001b[49m\u001b[43m]\u001b[49m\u001b[43m,\u001b[49m\n\u001b[1;32m      6\u001b[0m \u001b[43m    \u001b[49m\u001b[43mn_calls\u001b[49m\u001b[38;5;241;43m=\u001b[39;49m\u001b[38;5;241;43m20\u001b[39;49m\u001b[43m,\u001b[49m\n\u001b[1;32m      7\u001b[0m \u001b[43m    \u001b[49m\u001b[43mrandom_state\u001b[49m\u001b[38;5;241;43m=\u001b[39;49m\u001b[38;5;241;43m42\u001b[39;49m\u001b[43m,\u001b[49m\n\u001b[1;32m      8\u001b[0m \u001b[43m    \u001b[49m\u001b[43macq_func\u001b[49m\u001b[38;5;241;43m=\u001b[39;49m\u001b[38;5;124;43m'\u001b[39;49m\u001b[38;5;124;43mEI\u001b[39;49m\u001b[38;5;124;43m'\u001b[39;49m\u001b[43m,\u001b[49m\n\u001b[1;32m      9\u001b[0m \u001b[43m)\u001b[49m\n\u001b[1;32m     11\u001b[0m best_threshold \u001b[38;5;241m=\u001b[39m res\u001b[38;5;241m.\u001b[39mx[\u001b[38;5;241m0\u001b[39m]\n\u001b[1;32m     12\u001b[0m \u001b[38;5;28mprint\u001b[39m(\u001b[38;5;124m\"\u001b[39m\u001b[38;5;124mBest threshold:\u001b[39m\u001b[38;5;124m\"\u001b[39m, best_threshold)\n",
            "File \u001b[0;32m/home/zeus/miniconda3/envs/cloudspace/lib/python3.10/site-packages/skopt/optimizer/gp.py:259\u001b[0m, in \u001b[0;36mgp_minimize\u001b[0;34m(func, dimensions, base_estimator, n_calls, n_random_starts, n_initial_points, initial_point_generator, acq_func, acq_optimizer, x0, y0, random_state, verbose, callback, n_points, n_restarts_optimizer, xi, kappa, noise, n_jobs, model_queue_size)\u001b[0m\n\u001b[1;32m    254\u001b[0m \u001b[38;5;28;01mif\u001b[39;00m base_estimator \u001b[38;5;129;01mis\u001b[39;00m \u001b[38;5;28;01mNone\u001b[39;00m:\n\u001b[1;32m    255\u001b[0m     base_estimator \u001b[38;5;241m=\u001b[39m cook_estimator(\n\u001b[1;32m    256\u001b[0m         \u001b[38;5;124m\"\u001b[39m\u001b[38;5;124mGP\u001b[39m\u001b[38;5;124m\"\u001b[39m, space\u001b[38;5;241m=\u001b[39mspace, random_state\u001b[38;5;241m=\u001b[39mrng\u001b[38;5;241m.\u001b[39mrandint(\u001b[38;5;241m0\u001b[39m, np\u001b[38;5;241m.\u001b[39miinfo(np\u001b[38;5;241m.\u001b[39mint32)\u001b[38;5;241m.\u001b[39mmax),\n\u001b[1;32m    257\u001b[0m         noise\u001b[38;5;241m=\u001b[39mnoise)\n\u001b[0;32m--> 259\u001b[0m \u001b[38;5;28;01mreturn\u001b[39;00m \u001b[43mbase_minimize\u001b[49m\u001b[43m(\u001b[49m\n\u001b[1;32m    260\u001b[0m \u001b[43m    \u001b[49m\u001b[43mfunc\u001b[49m\u001b[43m,\u001b[49m\u001b[43m \u001b[49m\u001b[43mspace\u001b[49m\u001b[43m,\u001b[49m\u001b[43m \u001b[49m\u001b[43mbase_estimator\u001b[49m\u001b[38;5;241;43m=\u001b[39;49m\u001b[43mbase_estimator\u001b[49m\u001b[43m,\u001b[49m\n\u001b[1;32m    261\u001b[0m \u001b[43m    \u001b[49m\u001b[43macq_func\u001b[49m\u001b[38;5;241;43m=\u001b[39;49m\u001b[43macq_func\u001b[49m\u001b[43m,\u001b[49m\n\u001b[1;32m    262\u001b[0m \u001b[43m    \u001b[49m\u001b[43mxi\u001b[49m\u001b[38;5;241;43m=\u001b[39;49m\u001b[43mxi\u001b[49m\u001b[43m,\u001b[49m\u001b[43m \u001b[49m\u001b[43mkappa\u001b[49m\u001b[38;5;241;43m=\u001b[39;49m\u001b[43mkappa\u001b[49m\u001b[43m,\u001b[49m\u001b[43m \u001b[49m\u001b[43macq_optimizer\u001b[49m\u001b[38;5;241;43m=\u001b[39;49m\u001b[43macq_optimizer\u001b[49m\u001b[43m,\u001b[49m\u001b[43m \u001b[49m\u001b[43mn_calls\u001b[49m\u001b[38;5;241;43m=\u001b[39;49m\u001b[43mn_calls\u001b[49m\u001b[43m,\u001b[49m\n\u001b[1;32m    263\u001b[0m \u001b[43m    \u001b[49m\u001b[43mn_points\u001b[49m\u001b[38;5;241;43m=\u001b[39;49m\u001b[43mn_points\u001b[49m\u001b[43m,\u001b[49m\u001b[43m \u001b[49m\u001b[43mn_random_starts\u001b[49m\u001b[38;5;241;43m=\u001b[39;49m\u001b[43mn_random_starts\u001b[49m\u001b[43m,\u001b[49m\n\u001b[1;32m    264\u001b[0m \u001b[43m    \u001b[49m\u001b[43mn_initial_points\u001b[49m\u001b[38;5;241;43m=\u001b[39;49m\u001b[43mn_initial_points\u001b[49m\u001b[43m,\u001b[49m\n\u001b[1;32m    265\u001b[0m \u001b[43m    \u001b[49m\u001b[43minitial_point_generator\u001b[49m\u001b[38;5;241;43m=\u001b[39;49m\u001b[43minitial_point_generator\u001b[49m\u001b[43m,\u001b[49m\n\u001b[1;32m    266\u001b[0m \u001b[43m    \u001b[49m\u001b[43mn_restarts_optimizer\u001b[49m\u001b[38;5;241;43m=\u001b[39;49m\u001b[43mn_restarts_optimizer\u001b[49m\u001b[43m,\u001b[49m\n\u001b[1;32m    267\u001b[0m \u001b[43m    \u001b[49m\u001b[43mx0\u001b[49m\u001b[38;5;241;43m=\u001b[39;49m\u001b[43mx0\u001b[49m\u001b[43m,\u001b[49m\u001b[43m \u001b[49m\u001b[43my0\u001b[49m\u001b[38;5;241;43m=\u001b[39;49m\u001b[43my0\u001b[49m\u001b[43m,\u001b[49m\u001b[43m \u001b[49m\u001b[43mrandom_state\u001b[49m\u001b[38;5;241;43m=\u001b[39;49m\u001b[43mrng\u001b[49m\u001b[43m,\u001b[49m\u001b[43m \u001b[49m\u001b[43mverbose\u001b[49m\u001b[38;5;241;43m=\u001b[39;49m\u001b[43mverbose\u001b[49m\u001b[43m,\u001b[49m\n\u001b[1;32m    268\u001b[0m \u001b[43m    \u001b[49m\u001b[43mcallback\u001b[49m\u001b[38;5;241;43m=\u001b[39;49m\u001b[43mcallback\u001b[49m\u001b[43m,\u001b[49m\u001b[43m \u001b[49m\u001b[43mn_jobs\u001b[49m\u001b[38;5;241;43m=\u001b[39;49m\u001b[43mn_jobs\u001b[49m\u001b[43m,\u001b[49m\u001b[43m \u001b[49m\u001b[43mmodel_queue_size\u001b[49m\u001b[38;5;241;43m=\u001b[39;49m\u001b[43mmodel_queue_size\u001b[49m\u001b[43m)\u001b[49m\n",
            "File \u001b[0;32m/home/zeus/miniconda3/envs/cloudspace/lib/python3.10/site-packages/skopt/optimizer/base.py:299\u001b[0m, in \u001b[0;36mbase_minimize\u001b[0;34m(func, dimensions, base_estimator, n_calls, n_random_starts, n_initial_points, initial_point_generator, acq_func, acq_optimizer, x0, y0, random_state, verbose, callback, n_points, n_restarts_optimizer, xi, kappa, n_jobs, model_queue_size)\u001b[0m\n\u001b[1;32m    297\u001b[0m \u001b[38;5;28;01mfor\u001b[39;00m n \u001b[38;5;129;01min\u001b[39;00m \u001b[38;5;28mrange\u001b[39m(n_calls):\n\u001b[1;32m    298\u001b[0m     next_x \u001b[38;5;241m=\u001b[39m optimizer\u001b[38;5;241m.\u001b[39mask()\n\u001b[0;32m--> 299\u001b[0m     next_y \u001b[38;5;241m=\u001b[39m \u001b[43mfunc\u001b[49m\u001b[43m(\u001b[49m\u001b[43mnext_x\u001b[49m\u001b[43m)\u001b[49m\n\u001b[1;32m    300\u001b[0m     result \u001b[38;5;241m=\u001b[39m optimizer\u001b[38;5;241m.\u001b[39mtell(next_x, next_y)\n\u001b[1;32m    301\u001b[0m     result\u001b[38;5;241m.\u001b[39mspecs \u001b[38;5;241m=\u001b[39m specs\n",
            "Cell \u001b[0;32mIn[25], line 4\u001b[0m, in \u001b[0;36m<lambda>\u001b[0;34m(th)\u001b[0m\n\u001b[1;32m      1\u001b[0m \u001b[38;5;28;01mfrom\u001b[39;00m\u001b[38;5;250m \u001b[39m\u001b[38;5;21;01mFCBF_module\u001b[39;00m\u001b[38;5;250m \u001b[39m\u001b[38;5;28;01mimport\u001b[39;00m FCBF, FCBFK, FCBFiP, get_i\n\u001b[1;32m      3\u001b[0m res \u001b[38;5;241m=\u001b[39m gp_minimize(\n\u001b[0;32m----> 4\u001b[0m     \u001b[38;5;28;01mlambda\u001b[39;00m th: \u001b[43mfcbf_objective\u001b[49m\u001b[43m(\u001b[49m\u001b[43mth\u001b[49m\u001b[43m[\u001b[49m\u001b[38;5;241;43m0\u001b[39;49m\u001b[43m]\u001b[49m\u001b[43m,\u001b[49m\u001b[43m \u001b[49m\u001b[43mX_fs\u001b[49m\u001b[43m,\u001b[49m\u001b[43m \u001b[49m\u001b[43my\u001b[49m\u001b[43m)\u001b[49m,\n\u001b[1;32m      5\u001b[0m     dimensions\u001b[38;5;241m=\u001b[39m[(\u001b[38;5;241m0.01\u001b[39m, \u001b[38;5;241m0.5\u001b[39m)],\n\u001b[1;32m      6\u001b[0m     n_calls\u001b[38;5;241m=\u001b[39m\u001b[38;5;241m20\u001b[39m,\n\u001b[1;32m      7\u001b[0m     random_state\u001b[38;5;241m=\u001b[39m\u001b[38;5;241m42\u001b[39m,\n\u001b[1;32m      8\u001b[0m     acq_func\u001b[38;5;241m=\u001b[39m\u001b[38;5;124m'\u001b[39m\u001b[38;5;124mEI\u001b[39m\u001b[38;5;124m'\u001b[39m,\n\u001b[1;32m      9\u001b[0m )\n\u001b[1;32m     11\u001b[0m best_threshold \u001b[38;5;241m=\u001b[39m res\u001b[38;5;241m.\u001b[39mx[\u001b[38;5;241m0\u001b[39m]\n\u001b[1;32m     12\u001b[0m \u001b[38;5;28mprint\u001b[39m(\u001b[38;5;124m\"\u001b[39m\u001b[38;5;124mBest threshold:\u001b[39m\u001b[38;5;124m\"\u001b[39m, best_threshold)\n",
            "Cell \u001b[0;32mIn[24], line 8\u001b[0m, in \u001b[0;36mfcbf_objective\u001b[0;34m(threshold, X, y, clf)\u001b[0m\n\u001b[1;32m      6\u001b[0m \u001b[38;5;28;01mdef\u001b[39;00m\u001b[38;5;250m \u001b[39m\u001b[38;5;21mfcbf_objective\u001b[39m(threshold, X, y, clf\u001b[38;5;241m=\u001b[39mRandomForestClassifier(random_state\u001b[38;5;241m=\u001b[39m\u001b[38;5;241m42\u001b[39m)):\n\u001b[1;32m      7\u001b[0m     selector \u001b[38;5;241m=\u001b[39m FCBF(th\u001b[38;5;241m=\u001b[39mthreshold)\n\u001b[0;32m----> 8\u001b[0m     X_selected \u001b[38;5;241m=\u001b[39m \u001b[43mselector\u001b[49m\u001b[38;5;241;43m.\u001b[39;49m\u001b[43mfit_transform\u001b[49m\u001b[43m(\u001b[49m\u001b[43mX\u001b[49m\u001b[43m,\u001b[49m\u001b[43m \u001b[49m\u001b[43my\u001b[49m\u001b[43m)\u001b[49m\n\u001b[1;32m      9\u001b[0m     \u001b[38;5;28;01mif\u001b[39;00m X_selected\u001b[38;5;241m.\u001b[39mshape[\u001b[38;5;241m1\u001b[39m] \u001b[38;5;241m==\u001b[39m \u001b[38;5;241m0\u001b[39m:\n\u001b[1;32m     10\u001b[0m         \u001b[38;5;28;01mreturn\u001b[39;00m \u001b[38;5;241m1.0\u001b[39m\n",
            "File \u001b[0;32m~/FCBF_module.py:151\u001b[0m, in \u001b[0;36mFCBF.fit_transform\u001b[0;34m(self, x, y)\u001b[0m\n\u001b[1;32m    141\u001b[0m \u001b[38;5;28;01mdef\u001b[39;00m\u001b[38;5;250m \u001b[39m\u001b[38;5;21mfit_transform\u001b[39m(\u001b[38;5;28mself\u001b[39m, x, y):\n\u001b[1;32m    142\u001b[0m \u001b[38;5;250m    \u001b[39m\u001b[38;5;124;03m'''\u001b[39;00m\n\u001b[1;32m    143\u001b[0m \u001b[38;5;124;03m    This function fits the feature selection \u001b[39;00m\n\u001b[1;32m    144\u001b[0m \u001b[38;5;124;03m    algorithm and returns the resulting subset.\u001b[39;00m\n\u001b[0;32m   (...)\u001b[0m\n\u001b[1;32m    149\u001b[0m \u001b[38;5;124;03m        y = label    [Nx1]\u001b[39;00m\n\u001b[1;32m    150\u001b[0m \u001b[38;5;124;03m    '''\u001b[39;00m\n\u001b[0;32m--> 151\u001b[0m     \u001b[38;5;28;43mself\u001b[39;49m\u001b[38;5;241;43m.\u001b[39;49m\u001b[43mfit\u001b[49m\u001b[43m(\u001b[49m\u001b[43mx\u001b[49m\u001b[43m,\u001b[49m\u001b[43m \u001b[49m\u001b[43my\u001b[49m\u001b[43m)\u001b[49m\n\u001b[1;32m    152\u001b[0m     \u001b[38;5;28;01mreturn\u001b[39;00m x[:,\u001b[38;5;28mself\u001b[39m\u001b[38;5;241m.\u001b[39midx_sel]\n",
            "File \u001b[0;32m~/FCBF_module.py:100\u001b[0m, in \u001b[0;36mFCBF.fit\u001b[0;34m(self, x, y)\u001b[0m\n\u001b[1;32m     96\u001b[0m \u001b[38;5;28mself\u001b[39m\u001b[38;5;241m.\u001b[39midx_sel \u001b[38;5;241m=\u001b[39m []\n\u001b[1;32m     97\u001b[0m \u001b[38;5;250m\u001b[39m\u001b[38;5;124;03m\"\"\"\u001b[39;00m\n\u001b[1;32m     98\u001b[0m \u001b[38;5;124;03mFirst Stage: Computing the SU for each feature with the response.\u001b[39;00m\n\u001b[1;32m     99\u001b[0m \u001b[38;5;124;03m\"\"\"\u001b[39;00m\n\u001b[0;32m--> 100\u001b[0m SU_vec \u001b[38;5;241m=\u001b[39m \u001b[43mnp\u001b[49m\u001b[38;5;241;43m.\u001b[39;49m\u001b[43mapply_along_axis\u001b[49m\u001b[43m(\u001b[49m\u001b[43msymmetricalUncertain\u001b[49m\u001b[43m,\u001b[49m\u001b[43m \u001b[49m\u001b[38;5;241;43m0\u001b[39;49m\u001b[43m,\u001b[49m\u001b[43m \u001b[49m\u001b[43mx\u001b[49m\u001b[43m,\u001b[49m\u001b[43m \u001b[49m\u001b[43my\u001b[49m\u001b[43m)\u001b[49m\n\u001b[1;32m    101\u001b[0m SU_list \u001b[38;5;241m=\u001b[39m SU_vec[SU_vec \u001b[38;5;241m>\u001b[39m \u001b[38;5;28mself\u001b[39m\u001b[38;5;241m.\u001b[39mth]\n\u001b[1;32m    102\u001b[0m SU_list[::\u001b[38;5;241m-\u001b[39m\u001b[38;5;241m1\u001b[39m]\u001b[38;5;241m.\u001b[39msort()\n",
            "File \u001b[0;32m/home/zeus/miniconda3/envs/cloudspace/lib/python3.10/site-packages/numpy/lib/shape_base.py:402\u001b[0m, in \u001b[0;36mapply_along_axis\u001b[0;34m(func1d, axis, arr, *args, **kwargs)\u001b[0m\n\u001b[1;32m    400\u001b[0m buff[ind0] \u001b[38;5;241m=\u001b[39m res\n\u001b[1;32m    401\u001b[0m \u001b[38;5;28;01mfor\u001b[39;00m ind \u001b[38;5;129;01min\u001b[39;00m inds:\n\u001b[0;32m--> 402\u001b[0m     buff[ind] \u001b[38;5;241m=\u001b[39m asanyarray(\u001b[43mfunc1d\u001b[49m\u001b[43m(\u001b[49m\u001b[43minarr_view\u001b[49m\u001b[43m[\u001b[49m\u001b[43mind\u001b[49m\u001b[43m]\u001b[49m\u001b[43m,\u001b[49m\u001b[43m \u001b[49m\u001b[38;5;241;43m*\u001b[39;49m\u001b[43margs\u001b[49m\u001b[43m,\u001b[49m\u001b[43m \u001b[49m\u001b[38;5;241;43m*\u001b[39;49m\u001b[38;5;241;43m*\u001b[39;49m\u001b[43mkwargs\u001b[49m\u001b[43m)\u001b[49m)\n\u001b[1;32m    404\u001b[0m \u001b[38;5;28;01mif\u001b[39;00m \u001b[38;5;129;01mnot\u001b[39;00m \u001b[38;5;28misinstance\u001b[39m(res, matrix):\n\u001b[1;32m    405\u001b[0m     \u001b[38;5;66;03m# wrap the array, to preserve subclasses\u001b[39;00m\n\u001b[1;32m    406\u001b[0m     buff \u001b[38;5;241m=\u001b[39m res\u001b[38;5;241m.\u001b[39m__array_wrap__(buff)\n",
            "File \u001b[0;32m~/FCBF_module.py:21\u001b[0m, in \u001b[0;36msymmetricalUncertain\u001b[0;34m(x, y)\u001b[0m\n\u001b[1;32m     19\u001b[0m vals \u001b[38;5;241m=\u001b[39m np\u001b[38;5;241m.\u001b[39munique(y)\n\u001b[1;32m     20\u001b[0m \u001b[38;5;66;03m# Computing Entropy for the feature x. \u001b[39;00m\n\u001b[0;32m---> 21\u001b[0m Hx \u001b[38;5;241m=\u001b[39m \u001b[43mentropy\u001b[49m\u001b[43m(\u001b[49m\u001b[43mx\u001b[49m\u001b[43m)\u001b[49m\n\u001b[1;32m     22\u001b[0m \u001b[38;5;66;03m# Computing Entropy for the feature y.\u001b[39;00m\n\u001b[1;32m     23\u001b[0m Hy \u001b[38;5;241m=\u001b[39m entropy(y)\n",
            "File \u001b[0;32m~/FCBF_module.py:13\u001b[0m, in \u001b[0;36mentropy\u001b[0;34m(x)\u001b[0m\n\u001b[1;32m     11\u001b[0m \u001b[38;5;28;01mdef\u001b[39;00m\u001b[38;5;250m \u001b[39m\u001b[38;5;21mentropy\u001b[39m(x):\n\u001b[1;32m     12\u001b[0m     n \u001b[38;5;241m=\u001b[39m \u001b[38;5;28mfloat\u001b[39m(x\u001b[38;5;241m.\u001b[39mshape[\u001b[38;5;241m0\u001b[39m])\n\u001b[0;32m---> 13\u001b[0m     ocurrence \u001b[38;5;241m=\u001b[39m \u001b[43mcount_vals\u001b[49m\u001b[43m(\u001b[49m\u001b[43mx\u001b[49m\u001b[43m)\u001b[49m\n\u001b[1;32m     14\u001b[0m     px \u001b[38;5;241m=\u001b[39m ocurrence \u001b[38;5;241m/\u001b[39m n\n\u001b[1;32m     15\u001b[0m     \u001b[38;5;28;01mreturn\u001b[39;00m \u001b[38;5;241m-\u001b[39m\u001b[38;5;241m1\u001b[39m\u001b[38;5;241m*\u001b[39m np\u001b[38;5;241m.\u001b[39msum(px\u001b[38;5;241m*\u001b[39mnp\u001b[38;5;241m.\u001b[39mlog2(px))\n",
            "File \u001b[0;32m~/FCBF_module.py:8\u001b[0m, in \u001b[0;36mcount_vals\u001b[0;34m(x)\u001b[0m\n\u001b[1;32m      6\u001b[0m occ \u001b[38;5;241m=\u001b[39m np\u001b[38;5;241m.\u001b[39mzeros(shape \u001b[38;5;241m=\u001b[39m vals\u001b[38;5;241m.\u001b[39mshape)    \n\u001b[1;32m      7\u001b[0m \u001b[38;5;28;01mfor\u001b[39;00m i \u001b[38;5;129;01min\u001b[39;00m \u001b[38;5;28mrange\u001b[39m(vals\u001b[38;5;241m.\u001b[39msize):\n\u001b[0;32m----> 8\u001b[0m     occ[i] \u001b[38;5;241m=\u001b[39m \u001b[43mnp\u001b[49m\u001b[38;5;241;43m.\u001b[39;49m\u001b[43msum\u001b[49m\u001b[43m(\u001b[49m\u001b[43mx\u001b[49m\u001b[43m \u001b[49m\u001b[38;5;241;43m==\u001b[39;49m\u001b[43m \u001b[49m\u001b[43mvals\u001b[49m\u001b[43m[\u001b[49m\u001b[43mi\u001b[49m\u001b[43m]\u001b[49m\u001b[43m)\u001b[49m\n\u001b[1;32m      9\u001b[0m \u001b[38;5;28;01mreturn\u001b[39;00m occ\n",
            "File \u001b[0;32m/home/zeus/miniconda3/envs/cloudspace/lib/python3.10/site-packages/numpy/core/fromnumeric.py:2313\u001b[0m, in \u001b[0;36msum\u001b[0;34m(a, axis, dtype, out, keepdims, initial, where)\u001b[0m\n\u001b[1;32m   2310\u001b[0m         \u001b[38;5;28;01mreturn\u001b[39;00m out\n\u001b[1;32m   2311\u001b[0m     \u001b[38;5;28;01mreturn\u001b[39;00m res\n\u001b[0;32m-> 2313\u001b[0m \u001b[38;5;28;01mreturn\u001b[39;00m \u001b[43m_wrapreduction\u001b[49m\u001b[43m(\u001b[49m\u001b[43ma\u001b[49m\u001b[43m,\u001b[49m\u001b[43m \u001b[49m\u001b[43mnp\u001b[49m\u001b[38;5;241;43m.\u001b[39;49m\u001b[43madd\u001b[49m\u001b[43m,\u001b[49m\u001b[43m \u001b[49m\u001b[38;5;124;43m'\u001b[39;49m\u001b[38;5;124;43msum\u001b[39;49m\u001b[38;5;124;43m'\u001b[39;49m\u001b[43m,\u001b[49m\u001b[43m \u001b[49m\u001b[43maxis\u001b[49m\u001b[43m,\u001b[49m\u001b[43m \u001b[49m\u001b[43mdtype\u001b[49m\u001b[43m,\u001b[49m\u001b[43m \u001b[49m\u001b[43mout\u001b[49m\u001b[43m,\u001b[49m\u001b[43m \u001b[49m\u001b[43mkeepdims\u001b[49m\u001b[38;5;241;43m=\u001b[39;49m\u001b[43mkeepdims\u001b[49m\u001b[43m,\u001b[49m\n\u001b[1;32m   2314\u001b[0m \u001b[43m                      \u001b[49m\u001b[43minitial\u001b[49m\u001b[38;5;241;43m=\u001b[39;49m\u001b[43minitial\u001b[49m\u001b[43m,\u001b[49m\u001b[43m \u001b[49m\u001b[43mwhere\u001b[49m\u001b[38;5;241;43m=\u001b[39;49m\u001b[43mwhere\u001b[49m\u001b[43m)\u001b[49m\n",
            "File \u001b[0;32m/home/zeus/miniconda3/envs/cloudspace/lib/python3.10/site-packages/numpy/core/fromnumeric.py:72\u001b[0m, in \u001b[0;36m_wrapreduction\u001b[0;34m(obj, ufunc, method, axis, dtype, out, **kwargs)\u001b[0m\n\u001b[1;32m     71\u001b[0m \u001b[38;5;28;01mdef\u001b[39;00m\u001b[38;5;250m \u001b[39m\u001b[38;5;21m_wrapreduction\u001b[39m(obj, ufunc, method, axis, dtype, out, \u001b[38;5;241m*\u001b[39m\u001b[38;5;241m*\u001b[39mkwargs):\n\u001b[0;32m---> 72\u001b[0m     passkwargs \u001b[38;5;241m=\u001b[39m {k: v \u001b[38;5;28;01mfor\u001b[39;00m k, v \u001b[38;5;129;01min\u001b[39;00m kwargs\u001b[38;5;241m.\u001b[39mitems()\n\u001b[1;32m     73\u001b[0m                   \u001b[38;5;28;01mif\u001b[39;00m v \u001b[38;5;129;01mis\u001b[39;00m \u001b[38;5;129;01mnot\u001b[39;00m np\u001b[38;5;241m.\u001b[39m_NoValue}\n\u001b[1;32m     75\u001b[0m     \u001b[38;5;28;01mif\u001b[39;00m \u001b[38;5;28mtype\u001b[39m(obj) \u001b[38;5;129;01mis\u001b[39;00m \u001b[38;5;129;01mnot\u001b[39;00m mu\u001b[38;5;241m.\u001b[39mndarray:\n\u001b[1;32m     76\u001b[0m         \u001b[38;5;28;01mtry\u001b[39;00m:\n",
            "File \u001b[0;32m/home/zeus/miniconda3/envs/cloudspace/lib/python3.10/site-packages/numpy/core/fromnumeric.py:73\u001b[0m, in \u001b[0;36m<dictcomp>\u001b[0;34m(.0)\u001b[0m\n\u001b[1;32m     71\u001b[0m \u001b[38;5;28;01mdef\u001b[39;00m\u001b[38;5;250m \u001b[39m\u001b[38;5;21m_wrapreduction\u001b[39m(obj, ufunc, method, axis, dtype, out, \u001b[38;5;241m*\u001b[39m\u001b[38;5;241m*\u001b[39mkwargs):\n\u001b[1;32m     72\u001b[0m     passkwargs \u001b[38;5;241m=\u001b[39m {k: v \u001b[38;5;28;01mfor\u001b[39;00m k, v \u001b[38;5;129;01min\u001b[39;00m kwargs\u001b[38;5;241m.\u001b[39mitems()\n\u001b[0;32m---> 73\u001b[0m                   \u001b[38;5;28;01mif\u001b[39;00m v \u001b[38;5;129;01mis\u001b[39;00m \u001b[38;5;129;01mnot\u001b[39;00m np\u001b[38;5;241m.\u001b[39m_NoValue}\n\u001b[1;32m     75\u001b[0m     \u001b[38;5;28;01mif\u001b[39;00m \u001b[38;5;28mtype\u001b[39m(obj) \u001b[38;5;129;01mis\u001b[39;00m \u001b[38;5;129;01mnot\u001b[39;00m mu\u001b[38;5;241m.\u001b[39mndarray:\n\u001b[1;32m     76\u001b[0m         \u001b[38;5;28;01mtry\u001b[39;00m:\n",
            "\u001b[0;31mKeyboardInterrupt\u001b[0m: "
          ]
        }
      ],
      "source": [
        "from FCBF_module import FCBF, FCBFK, FCBFiP, get_i\n",
        "\n",
        "res = gp_minimize(\n",
        "    lambda th: fcbf_objective(th[0], X_fs, y),\n",
        "    dimensions=[(0.01, 0.5)],\n",
        "    n_calls=20,\n",
        "    random_state=42,\n",
        "    acq_func='EI',\n",
        ")\n",
        "\n",
        "best_threshold = res.x[0]\n",
        "print(\"Best threshold:\", best_threshold)\n",
        "print(\"Best accuracy:\", -res.fun)"
      ]
    },
    {
      "cell_type": "code",
      "execution_count": 26,
      "metadata": {
        "id": "AEAO_XwObi_V"
      },
      "outputs": [],
      "source": [
        "from FCBF_module import FCBF, FCBFK, FCBFiP, get_i\n",
        "fcbf = FCBF(th = 0.09988304703442026)"
      ]
    },
    {
      "cell_type": "code",
      "execution_count": 27,
      "metadata": {
        "id": "tkilHNoRbi_V"
      },
      "outputs": [],
      "source": [
        "X_fss = fcbf.fit_transform(X_fs,y)"
      ]
    },
    {
      "cell_type": "code",
      "execution_count": 28,
      "metadata": {
        "colab": {
          "base_uri": "https://localhost:8080/"
        },
        "id": "yMls8dOSbi_V",
        "outputId": "c1a904b0-dc0f-478f-8766-bae79c71f30f"
      },
      "outputs": [
        {
          "data": {
            "text/plain": [
              "(37400, 1)"
            ]
          },
          "execution_count": 28,
          "metadata": {},
          "output_type": "execute_result"
        }
      ],
      "source": [
        "X_fss.shape"
      ]
    },
    {
      "cell_type": "code",
      "execution_count": 29,
      "metadata": {
        "colab": {
          "base_uri": "https://localhost:8080/"
        },
        "id": "Y77fY7_Obi_V",
        "outputId": "9d5788db-5a38-44db-9744-2d6baaf86df7"
      },
      "outputs": [
        {
          "data": {
            "text/plain": [
              "array([[-0.65135404],\n",
              "       [-0.65135404],\n",
              "       [-0.65135404],\n",
              "       ...,\n",
              "       [-0.50913451],\n",
              "       [-0.43586991],\n",
              "       [ 2.49471434]])"
            ]
          },
          "execution_count": 29,
          "metadata": {},
          "output_type": "execute_result"
        }
      ],
      "source": [
        "X_fss"
      ]
    },
    {
      "cell_type": "markdown",
      "metadata": {
        "id": "l436xAYzbi_V"
      },
      "source": [
        "####  kernel principal component analysis (KPCA)"
      ]
    },
    {
      "cell_type": "code",
      "execution_count": null,
      "metadata": {
        "id": "tjIKJvRJfa-F"
      },
      "outputs": [],
      "source": [
        "from skopt import gp_minimize\n",
        "from skopt.space import Integer, Categorical\n",
        "from sklearn.decomposition import KernelPCA\n",
        "from sklearn.ensemble import RandomForestClassifier\n",
        "from sklearn.model_selection import cross_val_score\n",
        "\n",
        "def kpca_objective(params, X, y):\n",
        "    n_components, kernel = params\n",
        "    n_components = min(n_components, X.shape[1] - 1)\n",
        "    if n_components < 1: n_components = 1\n",
        "    try:\n",
        "        kpca = KernelPCA(n_components=n_components, kernel=kernel, fit_inverse_transform=False, random_state=42)\n",
        "        X_kpca = kpca.fit_transform(X)\n",
        "        clf = RandomForestClassifier(random_state=42)\n",
        "        score = cross_val_score(clf, X_kpca, y, cv=3, scoring=\"accuracy\").mean()\n",
        "        return -score\n",
        "    except Exception as e:\n",
        "        return 1.0\n",
        "\n",
        "search_space = [\n",
        "    Integer(10, 50),\n",
        "    Categorical(['rbf', 'poly'])\n",
        "]\n",
        "\n",
        "result = gp_minimize(\n",
        "    lambda params: kpca_objective(params, X_fss, y),\n",
        "    search_space,\n",
        "    n_calls=20,\n",
        "    random_state=42,\n",
        "    acq_func='EI'\n",
        ")\n",
        "\n",
        "best_n_components, best_kernel = result.x\n",
        "print(f\"Best n_components: {best_n_components}, Best kernel: {best_kernel}\")\n",
        "print(f\"Best accuracy: {-result.fun:.4f}\")"
      ]
    },
    {
      "cell_type": "code",
      "execution_count": 31,
      "metadata": {
        "id": "Wo0BZKIpEklr"
      },
      "outputs": [],
      "source": [
        "from skopt import gp_minimize\n",
        "from skopt.space import Integer, Categorical\n",
        "from sklearn.decomposition import KernelPCA\n",
        "from sklearn.ensemble import RandomForestClassifier\n",
        "from sklearn.model_selection import cross_val_score\n",
        "\n",
        "kpca = KernelPCA(n_components=10, kernel='rbf', random_state=42, fit_inverse_transform=False)\n",
        "X_kpca = kpca.fit_transform(X_fss)"
      ]
    },
    {
      "cell_type": "code",
      "execution_count": 32,
      "metadata": {
        "id": "ZMXAmjNjbi_V"
      },
      "outputs": [],
      "source": [
        "X_train = X_kpca[:len(df1)]\n",
        "y_train = y[:len(df1)]\n",
        "X_test = X_kpca[len(df1):]\n",
        "y_test = y[len(df1):]"
      ]
    },
    {
      "cell_type": "code",
      "execution_count": 33,
      "metadata": {
        "colab": {
          "base_uri": "https://localhost:8080/",
          "height": 147
        },
        "id": "Jb_JczkQtUe4",
        "outputId": "ac27c18e-81ca-47d7-e33e-3546cd3b8a19"
      },
      "outputs": [
        {
          "data": {
            "text/plain": [
              "1    24851\n",
              "0    10663\n",
              "Name: count, dtype: int64"
            ]
          },
          "execution_count": 33,
          "metadata": {},
          "output_type": "execute_result"
        }
      ],
      "source": [
        "pd.Series(y_train).value_counts()"
      ]
    },
    {
      "cell_type": "code",
      "execution_count": 35,
      "metadata": {
        "id": "djBlvFm3s-Hl"
      },
      "outputs": [],
      "source": [
        "from imblearn.over_sampling import SMOTE\n",
        "smote=SMOTE(sampling_strategy={0:24851})\n",
        "X_train, y_train = smote.fit_resample(X_train, y_train)"
      ]
    },
    {
      "cell_type": "code",
      "execution_count": 36,
      "metadata": {
        "colab": {
          "base_uri": "https://localhost:8080/",
          "height": 147
        },
        "id": "7Jn4XI-GtA2e",
        "outputId": "2d828768-fa4d-4c27-a39d-04864c684d3c"
      },
      "outputs": [
        {
          "data": {
            "text/plain": [
              "1    24851\n",
              "0    24851\n",
              "Name: count, dtype: int64"
            ]
          },
          "execution_count": 36,
          "metadata": {},
          "output_type": "execute_result"
        }
      ],
      "source": [
        "pd.Series(y_train).value_counts()"
      ]
    },
    {
      "cell_type": "code",
      "execution_count": 37,
      "metadata": {
        "colab": {
          "base_uri": "https://localhost:8080/",
          "height": 147
        },
        "id": "z8tIV5dLtA1V",
        "outputId": "ae2ce037-0d7b-4d6c-fe4e-05af88ccfb5e"
      },
      "outputs": [
        {
          "data": {
            "text/plain": [
              "1    943\n",
              "0    943\n",
              "Name: count, dtype: int64"
            ]
          },
          "execution_count": 37,
          "metadata": {},
          "output_type": "execute_result"
        }
      ],
      "source": [
        "pd.Series(y_test).value_counts()"
      ]
    },
    {
      "cell_type": "markdown",
      "metadata": {
        "id": "jz9fjSYabi_W"
      },
      "source": [
        "### Apply the cluster labeling (CL) k-means method"
      ]
    },
    {
      "cell_type": "code",
      "execution_count": 38,
      "metadata": {
        "id": "RKoVCZ68bi_W"
      },
      "outputs": [],
      "source": [
        "from sklearn.cluster import KMeans\n",
        "from sklearn.cluster import DBSCAN,MeanShift\n",
        "from sklearn.cluster import SpectralClustering,AgglomerativeClustering,AffinityPropagation,Birch,MiniBatchKMeans,MeanShift\n",
        "from sklearn.mixture import GaussianMixture, BayesianGaussianMixture\n",
        "from sklearn.metrics import classification_report\n",
        "from sklearn import metrics"
      ]
    },
    {
      "cell_type": "code",
      "execution_count": 39,
      "metadata": {
        "id": "4hTtSG4cbi_W"
      },
      "outputs": [],
      "source": [
        "def CL_kmeans(X_train, X_test, y_train, y_test,n,b=100):\n",
        "    km_cluster = MiniBatchKMeans(n_clusters=n,batch_size=b)\n",
        "    result = km_cluster.fit_predict(X_train)\n",
        "    result2 = km_cluster.predict(X_test)\n",
        "\n",
        "    count=0\n",
        "    a=np.zeros(n)\n",
        "    b=np.zeros(n)\n",
        "    for v in range(0,n):\n",
        "        for i in range(0,len(y_train)):\n",
        "            if result[i]==v:\n",
        "                if y_train[i]==1:\n",
        "                    a[v]=a[v]+1\n",
        "                else:\n",
        "                    b[v]=b[v]+1\n",
        "    list1=[]\n",
        "    list2=[]\n",
        "    for v in range(0,n):\n",
        "        if a[v]<=b[v]:\n",
        "            list1.append(v)\n",
        "        else:\n",
        "            list2.append(v)\n",
        "    for v in range(0,len(y_test)):\n",
        "        if result2[v] in list1:\n",
        "            result2[v]=0\n",
        "        elif result2[v] in list2:\n",
        "            result2[v]=1\n",
        "        else:\n",
        "            print(\"-1\")\n",
        "    print(classification_report(y_test, result2))\n",
        "    cm=confusion_matrix(y_test,result2)\n",
        "    acc=metrics.accuracy_score(y_test,result2)\n",
        "    print(str(acc))\n",
        "    print(cm)"
      ]
    },
    {
      "cell_type": "code",
      "execution_count": 40,
      "metadata": {
        "id": "FTLeECxWGYaR"
      },
      "outputs": [],
      "source": [
        "X_train = X_kpca[:len(df1)]\n",
        "y_train = y[:len(df1)]\n",
        "X_test = X_kpca[len(df1):]\n",
        "y_test = y[len(df1):]\n",
        "X_train, X_val, y_train, y_val = train_test_split(X_train, y_train, test_size=0.2, random_state=42)\n",
        "from imblearn.over_sampling import SMOTE\n",
        "smote=SMOTE(sampling_strategy={0:24851})\n",
        "X_train, y_train = smote.fit_resample(X_train, y_train)"
      ]
    },
    {
      "cell_type": "code",
      "execution_count": 43,
      "metadata": {
        "colab": {
          "base_uri": "https://localhost:8080/"
        },
        "id": "VCv6qHgdbi_W",
        "outputId": "e56b0480-1b17-4073-b99c-a6288565edb7"
      },
      "outputs": [
        {
          "name": "stdout",
          "output_type": "stream",
          "text": [
            "              precision    recall  f1-score   support\n",
            "\n",
            "           0       0.43      0.75      0.54       943\n",
            "           1       0.00      0.00      0.00       943\n",
            "\n",
            "    accuracy                           0.37      1886\n",
            "   macro avg       0.21      0.37      0.27      1886\n",
            "weighted avg       0.21      0.37      0.27      1886\n",
            "\n",
            "0.3738069989395546\n",
            "[[705 238]\n",
            " [943   0]]\n"
          ]
        }
      ],
      "source": [
        "CL_kmeans(X_train, X_test, y_train, y_test, 8)"
      ]
    },
    {
      "cell_type": "markdown",
      "metadata": {
        "id": "Usp1ksFGbi_W"
      },
      "source": [
        "### Hyperparameter optimization of CL-k-means\n",
        "Tune \"k\""
      ]
    },
    {
      "cell_type": "code",
      "execution_count": 44,
      "metadata": {
        "colab": {
          "base_uri": "https://localhost:8080/"
        },
        "id": "WpZzowBKbi_W",
        "outputId": "3173796c-c113-4ec6-92a7-be0cdb6b3d29"
      },
      "outputs": [
        {
          "name": "stdout",
          "output_type": "stream",
          "text": [
            "30 0.8880754610727861\n",
            "43 0.8731521892158243\n",
            "43 0.8963818105026046\n",
            "43 0.8893425313247924\n",
            "32 0.8863860340701112\n",
            "20 0.8525974940166127\n",
            "16 0.8517527805152753\n",
            "5 0.8216246656342391\n",
            "15 0.8462621427565817\n",
            "25 0.8801914683936365\n",
            "50 0.8780796846402928\n",
            "36 0.8839926791496551\n",
            "50 0.8838518935660988\n",
            "37 0.8907503871603548\n",
            "36 0.8921582429959172\n",
            "37 0.8785020413909616\n",
            "37 0.8904688159932423\n",
            "50 0.8879346754892299\n",
            "38 0.8877938899056736\n",
            "50 0.8913135294945798\n",
            "40.88541579246521\n",
            "Best score=0.8964\n",
            "Best parameters: n_clusters=43\n"
          ]
        }
      ],
      "source": [
        "#Hyperparameter optimization by BO-GP\n",
        "from skopt.space import Real, Integer\n",
        "from skopt.utils import use_named_args\n",
        "from sklearn import metrics\n",
        "\n",
        "space  = [Integer(2, 50, name='n_clusters')]\n",
        "@use_named_args(space)\n",
        "def objective(**params):\n",
        "    km_cluster = MiniBatchKMeans(batch_size=100, **params)\n",
        "    n=params['n_clusters']\n",
        "\n",
        "    result = km_cluster.fit_predict(X_train)\n",
        "    result2 = km_cluster.predict(X_val)\n",
        "\n",
        "    count=0\n",
        "    a=np.zeros(n)\n",
        "    b=np.zeros(n)\n",
        "    for v in range(0,n):\n",
        "        for i in range(0,len(y_train)):\n",
        "            if result[i]==v:\n",
        "                if y_train[i]==1:\n",
        "                    a[v]=a[v]+1\n",
        "                else:\n",
        "                    b[v]=b[v]+1\n",
        "    list1=[]\n",
        "    list2=[]\n",
        "    for v in range(0,n):\n",
        "        if a[v]<=b[v]:\n",
        "            list1.append(v)\n",
        "        else:\n",
        "            list2.append(v)\n",
        "    for v in range(0,len(y_val)):\n",
        "        if result2[v] in list1:\n",
        "            result2[v]=0\n",
        "        elif result2[v] in list2:\n",
        "            result2[v]=1\n",
        "        else:\n",
        "            print(\"-1\")\n",
        "    cm=metrics.accuracy_score(y_val,result2)\n",
        "    print(str(n)+\" \"+str(cm))\n",
        "    return (1-cm)\n",
        "from skopt import gp_minimize\n",
        "import time\n",
        "t1=time.time()\n",
        "res_gp = gp_minimize(objective, space, n_calls=20, random_state=0)\n",
        "t2=time.time()\n",
        "print(t2-t1)\n",
        "print(\"Best score=%.4f\" % (1-res_gp.fun))\n",
        "print(\"\"\"Best parameters: n_clusters=%d\"\"\" % (res_gp.x[0]))"
      ]
    },
    {
      "cell_type": "code",
      "execution_count": 49,
      "metadata": {
        "id": "l1OpCkJMGoWZ"
      },
      "outputs": [],
      "source": [
        "X_train = X_kpca[:len(df1)]\n",
        "y_train = y[:len(df1)]\n",
        "X_test = X_kpca[len(df1):]\n",
        "y_test = y[len(df1):]\n",
        "from imblearn.over_sampling import SMOTE\n",
        "smote=SMOTE(sampling_strategy={0:24851})\n",
        "X_train, y_train = smote.fit_resample(X_train, y_train)"
      ]
    },
    {
      "cell_type": "code",
      "execution_count": 54,
      "metadata": {
        "colab": {
          "base_uri": "https://localhost:8080/"
        },
        "id": "0nBF6fVnJ2Wj",
        "outputId": "340108a8-0719-48cb-a716-6c132373f501"
      },
      "outputs": [
        {
          "name": "stdout",
          "output_type": "stream",
          "text": [
            "              precision    recall  f1-score   support\n",
            "\n",
            "           0       0.44      0.77      0.56       943\n",
            "           1       0.01      0.00      0.00       943\n",
            "\n",
            "    accuracy                           0.39      1886\n",
            "   macro avg       0.22      0.39      0.28      1886\n",
            "weighted avg       0.22      0.39      0.28      1886\n",
            "\n",
            "0.38547189819724287\n",
            "[[725 218]\n",
            " [941   2]]\n"
          ]
        }
      ],
      "source": [
        "CL_kmeans(X_train, X_test, y_train, y_test, res_gp.x[0])"
      ]
    },
    {
      "cell_type": "markdown",
      "metadata": {
        "id": "hyIHA0fwbi_W"
      },
      "source": [
        "### Apply the CL-k-means model with biased classifiers"
      ]
    },
    {
      "cell_type": "markdown",
      "metadata": {
        "id": "cpcKAzAEbi_W"
      },
      "source": [
        "95% of the code has been shared, and the remaining 5% is retained for future extension.  \n",
        "Thank you for your interest and more details are in the paper."
      ]
    },
    {
      "cell_type": "code",
      "execution_count": 55,
      "metadata": {
        "id": "bACMzldfbi_W"
      },
      "outputs": [],
      "source": [
        "from sklearn.cluster import MiniBatchKMeans\n",
        "from sklearn.ensemble import RandomForestClassifier\n",
        "from sklearn.metrics import (\n",
        "    classification_report,\n",
        "    confusion_matrix,\n",
        "    accuracy_score,\n",
        "    recall_score\n",
        ")\n",
        "from sklearn.model_selection import StratifiedKFold, train_test_split\n",
        "from sklearn.neighbors import NearestNeighbors\n",
        "import numpy as np\n",
        "from skopt import BayesSearchCV\n",
        "from skopt.space import Integer\n",
        "from imblearn.over_sampling import SMOTE\n",
        "\n",
        "def Anomaly_IDS(X_train, X_test, y_train, y_test, n, b=100):\n",
        "    km = MiniBatchKMeans(n_clusters=n, batch_size=b, random_state=0)\n",
        "    train_labels = km.fit_predict(X_train)\n",
        "    test_labels  = km.predict(X_test)\n",
        "\n",
        "    counts_pos = np.zeros(n)\n",
        "    counts_neg = np.zeros(n)\n",
        "    for idx, c in enumerate(train_labels):\n",
        "        if y_train[idx] == 1: counts_pos[c] += 1\n",
        "        else:               counts_neg[c] += 1\n",
        "\n",
        "    cluster_prob = {}\n",
        "    normal_clusters = []\n",
        "    attack_clusters = []\n",
        "    for c in range(n):\n",
        "        tot = counts_pos[c] + counts_neg[c]\n",
        "        if counts_pos[c] > counts_neg[c]:\n",
        "            attack_clusters.append(c)\n",
        "            cluster_prob[c] = counts_pos[c] / tot if tot>0 else 0.0\n",
        "        else:\n",
        "            normal_clusters.append(c)\n",
        "            cluster_prob[c] = counts_neg[c] / tot if tot>0 else 0.0\n",
        "\n",
        "    y_km = np.array([1 if c in attack_clusters else 0 for c in test_labels])\n",
        "\n",
        "    print(\"CL-k-means Performance:\")\n",
        "    print(classification_report(y_test, y_km))\n",
        "    cm = confusion_matrix(y_test, y_km)\n",
        "    tn, fp, fn, tp = cm.ravel()\n",
        "    dr = tp/(tp+fn) if tp+fn>0 else 0\n",
        "    far = fp/(fp+tn) if fp+tn>0 else 0\n",
        "    print(f\"  DR: {dr:.4f}, FAR: {far:.4f}\\n  CM:\\n{cm}\\n\")\n",
        "\n",
        "    y_train_km = np.array([1 if c in attack_clusters else 0 for c in train_labels])\n",
        "    fp_idx = np.where((y_train_km == 1) & (y_train == 0))[0]\n",
        "    fn_idx = np.where((y_train_km == 0) & (y_train == 1))[0]\n",
        "\n",
        "    X_fp = X_train[fp_idx]\n",
        "    X_fn = X_train[fn_idx]\n",
        "    X_norm = X_train[y_train == 0]\n",
        "    X_adv  = X_train[y_train == 1]\n",
        "\n",
        "    if len(X_fp) and len(X_adv):\n",
        "        attack_samples_for_fp = X_adv[np.random.choice(len(X_adv), size=len(X_fp),replace=True)]\n",
        "        Xp = np.concatenate([X_fp, attack_samples_for_fp])\n",
        "        yp = np.concatenate([np.zeros(len(X_fp)), np.ones(len(X_fp))])\n",
        "        yp = yp.astype(np.int64)\n",
        "        y_counts = np.bincount(yp)\n",
        "        print(y_counts)\n",
        "        min_groups = np.min(y_counts)\n",
        "        if min_groups >= 2:\n",
        "          opt_rfp = BayesSearchCV(\n",
        "              RandomForestClassifier(random_state=0),\n",
        "              {\n",
        "                  'n_estimators': Integer(10,200),\n",
        "                  'max_depth':    Integer(3,50),\n",
        "                  'min_samples_split': Integer(2,10)\n",
        "              },\n",
        "              n_iter=20,\n",
        "              cv=StratifiedKFold(5, shuffle=True, random_state=0),\n",
        "              scoring='f1',\n",
        "              n_jobs=-1,\n",
        "              random_state=0\n",
        "          )\n",
        "          opt_rfp.fit(Xp, yp)\n",
        "          rfp = opt_rfp.best_estimator_\n",
        "        else:\n",
        "          rfp = RandomForestClassifier(random_state=0).fit(X_train, y_train)\n",
        "    else:\n",
        "        rfp = RandomForestClassifier(random_state=0).fit(X_train, y_train)\n",
        "\n",
        "    if len(X_fn) and len(X_norm):\n",
        "        normal_samples_for_fn = X_norm[np.random.choice(len(X_norm), size=len(X_fn),replace=True)]\n",
        "        Xn = np.concatenate([X_fn, normal_samples_for_fn])\n",
        "        yn = np.concatenate([np.zeros(len(X_fn)), np.ones(len(X_fn))])\n",
        "        yn = yn.astype(np.int64)\n",
        "        y_counts = np.bincount(yn)\n",
        "        print(y_counts)\n",
        "        min_groups = np.min(y_counts)\n",
        "\n",
        "        if min_groups >= 2:\n",
        "          opt_rfn = BayesSearchCV(\n",
        "              RandomForestClassifier(random_state=0),\n",
        "              {\n",
        "                  'n_estimators': Integer(10,200),\n",
        "                  'max_depth':    Integer(3,50),\n",
        "                  'min_samples_split': Integer(2,10)\n",
        "              },\n",
        "              n_iter=20,\n",
        "              cv=StratifiedKFold(5, shuffle=True, random_state=0),\n",
        "              scoring='f1',\n",
        "              n_jobs=-1,\n",
        "              random_state=0\n",
        "          )\n",
        "          opt_rfn.fit(Xn, yn)\n",
        "          rfn = opt_rfn.best_estimator_\n",
        "        else:\n",
        "          rfn = RandomForestClassifier(random_state=0).fit(X_train, y_train)  # fallback\n",
        "    else:\n",
        "        rfn = RandomForestClassifier(random_state=0).fit(X_train, y_train)  # fallback\n",
        "\n",
        "    probs = np.array([cluster_prob.get(c,0.0) for c in test_labels])\n",
        "    best_thr, best_rec = 0.5, 0.0\n",
        "    for thr in np.linspace(0.5, 0.99, 50):\n",
        "        y_tmp = y_km.copy()\n",
        "        for i, p in enumerate(probs):\n",
        "            if p < thr:\n",
        "                if y_tmp[i] == 0:\n",
        "                    y_tmp[i] = rfn.predict(X_test[i].reshape(1,-1))[0]\n",
        "                else:\n",
        "                    y_tmp[i] = rfp.predict(X_test[i].reshape(1,-1))[0]\n",
        "        rec = recall_score(y_test, y_tmp)\n",
        "        if rec > best_rec:\n",
        "            best_rec, best_thr = rec, thr\n",
        "\n",
        "    y_final = y_km.copy()\n",
        "    for i, p in enumerate(probs):\n",
        "        if p < best_thr:\n",
        "            if y_final[i] == 0:\n",
        "                y_final[i] = rfn.predict(X_test[i].reshape(1,-1))[0]\n",
        "            else:\n",
        "                y_final[i] = rfp.predict(X_test[i].reshape(1,-1))[0]\n",
        "\n",
        "\n",
        "    print(\"MTH-IDS Performance:\")\n",
        "    print(classification_report(y_test, y_final))\n",
        "    cm2 = confusion_matrix(y_test, y_final)\n",
        "\n",
        "    tn, fp, fn, tp = cm2.ravel()\n",
        "    dr2 = tp/(tp+fn) if tp+fn>0 else 0\n",
        "    far2 = fp/(fp+tn) if fp+tn>0 else 0\n",
        "    acc2 = accuracy_score(y_test, y_final)\n",
        "\n",
        "    print(f\"  Acc: {acc2:.4f}, DR: {dr2:.4f}, FAR: {far2:.4f}\\n  CM:\\n{cm2}\")\n",
        "\n",
        "    return acc2, dr2, far2, cm2"
      ]
    },
    {
      "cell_type": "code",
      "execution_count": 56,
      "metadata": {
        "id": "yg2G5w1qsunu"
      },
      "outputs": [],
      "source": [
        "X_train = X_kpca[:len(df1)]\n",
        "y_train = y[:len(df1)]\n",
        "X_test = X_kpca[len(df1):]\n",
        "y_test = y[len(df1):]\n",
        "from imblearn.over_sampling import SMOTE\n",
        "smote=SMOTE(sampling_strategy={0:24851})\n",
        "X_train, y_train = smote.fit_resample(X_train, y_train)"
      ]
    },
    {
      "cell_type": "code",
      "execution_count": 57,
      "metadata": {
        "colab": {
          "base_uri": "https://localhost:8080/"
        },
        "id": "lY-17eWHbi_W",
        "outputId": "9065ce84-15df-414c-d018-fe205bf6061b"
      },
      "outputs": [
        {
          "name": "stdout",
          "output_type": "stream",
          "text": [
            "CL-k-means Performance:\n",
            "              precision    recall  f1-score   support\n",
            "\n",
            "           0       0.43      0.76      0.55       943\n",
            "           1       0.01      0.00      0.00       943\n",
            "\n",
            "    accuracy                           0.38      1886\n",
            "   macro avg       0.22      0.38      0.28      1886\n",
            "weighted avg       0.22      0.38      0.28      1886\n",
            "\n",
            "  DR: 0.0021, FAR: 0.2365\n",
            "  CM:\n",
            "[[720 223]\n",
            " [941   2]]\n",
            "\n",
            "[6192 6192]\n",
            "[1217 1217]\n",
            "MTH-IDS Performance:\n",
            "              precision    recall  f1-score   support\n",
            "\n",
            "           0       1.00      0.69      0.82       943\n",
            "           1       0.76      1.00      0.87       943\n",
            "\n",
            "    accuracy                           0.84      1886\n",
            "   macro avg       0.88      0.84      0.84      1886\n",
            "weighted avg       0.88      0.84      0.84      1886\n",
            "\n",
            "  Acc: 0.8446, DR: 1.0000, FAR: 0.3107\n",
            "  CM:\n",
            "[[650 293]\n",
            " [  0 943]]\n"
          ]
        }
      ],
      "source": [
        "one_acc, one_dr, one_far, one_f1 = Anomaly_IDS(X_train, X_test, y_train, y_test, res_gp.x[0])"
      ]
    }
  ],
  "metadata": {
    "anaconda-cloud": {},
    "colab": {
      "machine_shape": "hm",
      "provenance": []
    },
    "kernelspec": {
      "display_name": "Python 3",
      "name": "python3"
    },
    "language_info": {
      "codemirror_mode": {
        "name": "ipython",
        "version": 3
      },
      "file_extension": ".py",
      "mimetype": "text/x-python",
      "name": "python",
      "nbconvert_exporter": "python",
      "pygments_lexer": "ipython3",
      "version": "3.12.2"
    }
  },
  "nbformat": 4,
  "nbformat_minor": 0
}
