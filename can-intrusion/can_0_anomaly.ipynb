{
  "cells": [
    {
      "cell_type": "markdown",
      "metadata": {
        "id": "UziGNZBBxUK2"
      },
      "source": [
        "## Import libraries"
      ]
    },
    {
      "cell_type": "code",
      "execution_count": 1,
      "metadata": {
        "id": "p7FfWC6fxUK3"
      },
      "outputs": [],
      "source": [
        "import warnings\n",
        "warnings.filterwarnings(\"ignore\")"
      ]
    },
    {
      "cell_type": "code",
      "execution_count": 2,
      "metadata": {
        "id": "lzVfoLulxUK4"
      },
      "outputs": [],
      "source": [
        "import numpy as np\n",
        "import pandas as pd\n",
        "import seaborn as sns\n",
        "import matplotlib.pyplot as plt\n",
        "from sklearn.preprocessing import LabelEncoder\n",
        "from sklearn.model_selection import train_test_split\n",
        "from sklearn.metrics import classification_report,confusion_matrix,accuracy_score,precision_recall_fscore_support\n",
        "from sklearn.metrics import f1_score,roc_auc_score\n",
        "from sklearn.ensemble import RandomForestClassifier,ExtraTreesClassifier\n",
        "from sklearn.tree import DecisionTreeClassifier\n",
        "import xgboost as xgb\n",
        "from xgboost import plot_importance"
      ]
    },
    {
      "cell_type": "markdown",
      "metadata": {
        "id": "n_TxQnY2bi_P"
      },
      "source": [
        "## Anomaly-based IDS"
      ]
    },
    {
      "cell_type": "markdown",
      "metadata": {
        "id": "stxzj7ujbi_P"
      },
      "source": [
        "### Generate the datasets for unknown attack detection"
      ]
    },
    {
      "cell_type": "code",
      "execution_count": 3,
      "metadata": {
        "id": "0aS8VZiKbi_P"
      },
      "outputs": [],
      "source": [
        "df=pd.read_csv('./CAN_INTRUSION_sample_km.csv')"
      ]
    },
    {
      "cell_type": "code",
      "execution_count": 4,
      "metadata": {
        "colab": {
          "base_uri": "https://localhost:8080/",
          "height": 443
        },
        "id": "eqKtQpKIZOqm",
        "outputId": "62ecb8c2-cbe4-4b13-d7fd-82d130d9a684"
      },
      "outputs": [
        {
          "data": {
            "application/vnd.google.colaboratory.intrinsic+json": {
              "summary": "{\n  \"name\": \"df\",\n  \"rows\": 42274,\n  \"fields\": [\n    {\n      \"column\": \"id\",\n      \"properties\": {\n        \"dtype\": \"number\",\n        \"std\": 0.9419369890939072,\n        \"min\": -1.7060270085612794,\n        \"max\": 3.2118053542575566,\n        \"num_unique_values\": 57,\n        \"samples\": [\n          0.0407711667285594,\n          1.4302697152545676,\n          -1.7060270085612794\n        ],\n        \"semantic_type\": \"\",\n        \"description\": \"\"\n      }\n    },\n    {\n      \"column\": \"d0\",\n      \"properties\": {\n        \"dtype\": \"number\",\n        \"std\": 1.0563705795864475,\n        \"min\": -0.6080711820666261,\n        \"max\": 2.226409867208791,\n        \"num_unique_values\": 256,\n        \"samples\": [\n          0.1700216549893707,\n          -0.2523715994124561,\n          2.170831807419077\n        ],\n        \"semantic_type\": \"\",\n        \"description\": \"\"\n      }\n    },\n    {\n      \"column\": \"d1\",\n      \"properties\": {\n        \"dtype\": \"number\",\n        \"std\": 1.3999265946835335,\n        \"min\": -0.833986862866015,\n        \"max\": 4.843288919594556,\n        \"num_unique_values\": 255,\n        \"samples\": [\n          4.353484734441095,\n          -0.0992805851358234,\n          -0.2773911979189001\n        ],\n        \"semantic_type\": \"\",\n        \"description\": \"\"\n      }\n    },\n    {\n      \"column\": \"d2\",\n      \"properties\": {\n        \"dtype\": \"number\",\n        \"std\": 1.7770709077335887,\n        \"min\": -0.5612746997005478,\n        \"max\": 7.829933025542145,\n        \"num_unique_values\": 256,\n        \"samples\": [\n          6.085878086570134,\n          0.1297659364959092,\n          1.1827802392714628\n        ],\n        \"semantic_type\": \"\",\n        \"description\": \"\"\n      }\n    },\n    {\n      \"column\": \"d3\",\n      \"properties\": {\n        \"dtype\": \"number\",\n        \"std\": 0.9196876069016019,\n        \"min\": -0.761493252971685,\n        \"max\": 1.6407332093891769,\n        \"num_unique_values\": 243,\n        \"samples\": [\n          1.197969900640312,\n          -0.6578677977325891,\n          -0.2998889523611665\n        ],\n        \"semantic_type\": \"\",\n        \"description\": \"\"\n      }\n    },\n    {\n      \"column\": \"d4\",\n      \"properties\": {\n        \"dtype\": \"number\",\n        \"std\": 1.1445003602561372,\n        \"min\": -0.6375185680632706,\n        \"max\": 2.8787885663493764,\n        \"num_unique_values\": 256,\n        \"samples\": [\n          1.3067924356707812,\n          0.3966894126463314,\n          -0.1273092975798669\n        ],\n        \"semantic_type\": \"\",\n        \"description\": \"\"\n      }\n    },\n    {\n      \"column\": \"d5\",\n      \"properties\": {\n        \"dtype\": \"number\",\n        \"std\": 1.0007538359171295,\n        \"min\": -0.7410961347439987,\n        \"max\": 2.6371512373186268,\n        \"num_unique_values\": 256,\n        \"samples\": [\n          -0.1316868048817211,\n          -0.7146000769238997,\n          1.4978207510543688\n        ],\n        \"semantic_type\": \"\",\n        \"description\": \"\"\n      }\n    },\n    {\n      \"column\": \"d6\",\n      \"properties\": {\n        \"dtype\": \"number\",\n        \"std\": 1.1673802499604669,\n        \"min\": -0.3864489360972595,\n        \"max\": 4.794663875530257,\n        \"num_unique_values\": 212,\n        \"samples\": [\n          0.0650173254968394,\n          4.12821367984373,\n          2.386843813695063\n        ],\n        \"semantic_type\": \"\",\n        \"description\": \"\"\n      }\n    },\n    {\n      \"column\": \"d7\",\n      \"properties\": {\n        \"dtype\": \"number\",\n        \"std\": 0.9128722631387287,\n        \"min\": -0.6483988846693726,\n        \"max\": 2.51085895160852,\n        \"num_unique_values\": 256,\n        \"samples\": [\n          -0.2023860136654348,\n          0.1816806252546227,\n          1.668390195267749\n        ],\n        \"semantic_type\": \"\",\n        \"description\": \"\"\n      }\n    },\n    {\n      \"column\": \"Label\",\n      \"properties\": {\n        \"dtype\": \"number\",\n        \"std\": 1,\n        \"min\": 0,\n        \"max\": 4,\n        \"num_unique_values\": 5,\n        \"samples\": [\n          2,\n          4,\n          1\n        ],\n        \"semantic_type\": \"\",\n        \"description\": \"\"\n      }\n    }\n  ]\n}",
              "type": "dataframe",
              "variable_name": "df"
            },
            "text/html": [
              "\n",
              "  <div id=\"df-8d679855-c144-43bd-af26-e2204f0bfff0\" class=\"colab-df-container\">\n",
              "    <div>\n",
              "<style scoped>\n",
              "    .dataframe tbody tr th:only-of-type {\n",
              "        vertical-align: middle;\n",
              "    }\n",
              "\n",
              "    .dataframe tbody tr th {\n",
              "        vertical-align: top;\n",
              "    }\n",
              "\n",
              "    .dataframe thead th {\n",
              "        text-align: right;\n",
              "    }\n",
              "</style>\n",
              "<table border=\"1\" class=\"dataframe\">\n",
              "  <thead>\n",
              "    <tr style=\"text-align: right;\">\n",
              "      <th></th>\n",
              "      <th>id</th>\n",
              "      <th>d0</th>\n",
              "      <th>d1</th>\n",
              "      <th>d2</th>\n",
              "      <th>d3</th>\n",
              "      <th>d4</th>\n",
              "      <th>d5</th>\n",
              "      <th>d6</th>\n",
              "      <th>d7</th>\n",
              "      <th>Label</th>\n",
              "    </tr>\n",
              "  </thead>\n",
              "  <tbody>\n",
              "    <tr>\n",
              "      <th>0</th>\n",
              "      <td>0.040771</td>\n",
              "      <td>-0.385759</td>\n",
              "      <td>-0.833987</td>\n",
              "      <td>-0.561275</td>\n",
              "      <td>-0.761493</td>\n",
              "      <td>-0.637519</td>\n",
              "      <td>-0.741096</td>\n",
              "      <td>-0.386449</td>\n",
              "      <td>-0.648399</td>\n",
              "      <td>3</td>\n",
              "    </tr>\n",
              "    <tr>\n",
              "      <th>1</th>\n",
              "      <td>0.040771</td>\n",
              "      <td>-0.385759</td>\n",
              "      <td>-0.833987</td>\n",
              "      <td>-0.561275</td>\n",
              "      <td>-0.761493</td>\n",
              "      <td>-0.637519</td>\n",
              "      <td>-0.741096</td>\n",
              "      <td>-0.386449</td>\n",
              "      <td>-0.648399</td>\n",
              "      <td>2</td>\n",
              "    </tr>\n",
              "    <tr>\n",
              "      <th>2</th>\n",
              "      <td>0.040771</td>\n",
              "      <td>-0.385759</td>\n",
              "      <td>-0.833987</td>\n",
              "      <td>-0.561275</td>\n",
              "      <td>-0.761493</td>\n",
              "      <td>-0.637519</td>\n",
              "      <td>-0.741096</td>\n",
              "      <td>-0.386449</td>\n",
              "      <td>-0.648399</td>\n",
              "      <td>1</td>\n",
              "    </tr>\n",
              "    <tr>\n",
              "      <th>3</th>\n",
              "      <td>0.040771</td>\n",
              "      <td>-0.385759</td>\n",
              "      <td>-0.833987</td>\n",
              "      <td>-0.561275</td>\n",
              "      <td>-0.761493</td>\n",
              "      <td>-0.637519</td>\n",
              "      <td>-0.741096</td>\n",
              "      <td>-0.386449</td>\n",
              "      <td>-0.648399</td>\n",
              "      <td>1</td>\n",
              "    </tr>\n",
              "    <tr>\n",
              "      <th>4</th>\n",
              "      <td>0.040771</td>\n",
              "      <td>-0.385759</td>\n",
              "      <td>-0.833987</td>\n",
              "      <td>-0.561275</td>\n",
              "      <td>-0.761493</td>\n",
              "      <td>-0.637519</td>\n",
              "      <td>-0.741096</td>\n",
              "      <td>-0.386449</td>\n",
              "      <td>-0.648399</td>\n",
              "      <td>1</td>\n",
              "    </tr>\n",
              "    <tr>\n",
              "      <th>...</th>\n",
              "      <td>...</td>\n",
              "      <td>...</td>\n",
              "      <td>...</td>\n",
              "      <td>...</td>\n",
              "      <td>...</td>\n",
              "      <td>...</td>\n",
              "      <td>...</td>\n",
              "      <td>...</td>\n",
              "      <td>...</td>\n",
              "      <td>...</td>\n",
              "    </tr>\n",
              "    <tr>\n",
              "      <th>42269</th>\n",
              "      <td>-0.949247</td>\n",
              "      <td>2.181947</td>\n",
              "      <td>1.993519</td>\n",
              "      <td>-0.561275</td>\n",
              "      <td>-0.761493</td>\n",
              "      <td>-0.609940</td>\n",
              "      <td>0.901659</td>\n",
              "      <td>-0.192963</td>\n",
              "      <td>1.197599</td>\n",
              "      <td>4</td>\n",
              "    </tr>\n",
              "    <tr>\n",
              "      <th>42270</th>\n",
              "      <td>-0.949247</td>\n",
              "      <td>2.181947</td>\n",
              "      <td>1.993519</td>\n",
              "      <td>-0.561275</td>\n",
              "      <td>-0.761493</td>\n",
              "      <td>-0.361730</td>\n",
              "      <td>0.901659</td>\n",
              "      <td>-0.149967</td>\n",
              "      <td>1.556887</td>\n",
              "      <td>4</td>\n",
              "    </tr>\n",
              "    <tr>\n",
              "      <th>42271</th>\n",
              "      <td>-0.949247</td>\n",
              "      <td>2.137485</td>\n",
              "      <td>1.993519</td>\n",
              "      <td>-0.561275</td>\n",
              "      <td>-0.761493</td>\n",
              "      <td>-0.223835</td>\n",
              "      <td>0.994396</td>\n",
              "      <td>-0.321954</td>\n",
              "      <td>1.519719</td>\n",
              "      <td>4</td>\n",
              "    </tr>\n",
              "    <tr>\n",
              "      <th>42272</th>\n",
              "      <td>-0.949247</td>\n",
              "      <td>1.981866</td>\n",
              "      <td>1.993519</td>\n",
              "      <td>-0.561275</td>\n",
              "      <td>-0.761493</td>\n",
              "      <td>-0.472045</td>\n",
              "      <td>0.901659</td>\n",
              "      <td>-0.149967</td>\n",
              "      <td>1.395827</td>\n",
              "      <td>4</td>\n",
              "    </tr>\n",
              "    <tr>\n",
              "      <th>42273</th>\n",
              "      <td>-0.949247</td>\n",
              "      <td>1.826248</td>\n",
              "      <td>1.993519</td>\n",
              "      <td>-0.561275</td>\n",
              "      <td>-0.761493</td>\n",
              "      <td>-0.568571</td>\n",
              "      <td>0.967900</td>\n",
              "      <td>-0.192963</td>\n",
              "      <td>1.445384</td>\n",
              "      <td>4</td>\n",
              "    </tr>\n",
              "  </tbody>\n",
              "</table>\n",
              "<p>42274 rows × 10 columns</p>\n",
              "</div>\n",
              "    <div class=\"colab-df-buttons\">\n",
              "\n",
              "  <div class=\"colab-df-container\">\n",
              "    <button class=\"colab-df-convert\" onclick=\"convertToInteractive('df-8d679855-c144-43bd-af26-e2204f0bfff0')\"\n",
              "            title=\"Convert this dataframe to an interactive table.\"\n",
              "            style=\"display:none;\">\n",
              "\n",
              "  <svg xmlns=\"http://www.w3.org/2000/svg\" height=\"24px\" viewBox=\"0 -960 960 960\">\n",
              "    <path d=\"M120-120v-720h720v720H120Zm60-500h600v-160H180v160Zm220 220h160v-160H400v160Zm0 220h160v-160H400v160ZM180-400h160v-160H180v160Zm440 0h160v-160H620v160ZM180-180h160v-160H180v160Zm440 0h160v-160H620v160Z\"/>\n",
              "  </svg>\n",
              "    </button>\n",
              "\n",
              "  <style>\n",
              "    .colab-df-container {\n",
              "      display:flex;\n",
              "      gap: 12px;\n",
              "    }\n",
              "\n",
              "    .colab-df-convert {\n",
              "      background-color: #E8F0FE;\n",
              "      border: none;\n",
              "      border-radius: 50%;\n",
              "      cursor: pointer;\n",
              "      display: none;\n",
              "      fill: #1967D2;\n",
              "      height: 32px;\n",
              "      padding: 0 0 0 0;\n",
              "      width: 32px;\n",
              "    }\n",
              "\n",
              "    .colab-df-convert:hover {\n",
              "      background-color: #E2EBFA;\n",
              "      box-shadow: 0px 1px 2px rgba(60, 64, 67, 0.3), 0px 1px 3px 1px rgba(60, 64, 67, 0.15);\n",
              "      fill: #174EA6;\n",
              "    }\n",
              "\n",
              "    .colab-df-buttons div {\n",
              "      margin-bottom: 4px;\n",
              "    }\n",
              "\n",
              "    [theme=dark] .colab-df-convert {\n",
              "      background-color: #3B4455;\n",
              "      fill: #D2E3FC;\n",
              "    }\n",
              "\n",
              "    [theme=dark] .colab-df-convert:hover {\n",
              "      background-color: #434B5C;\n",
              "      box-shadow: 0px 1px 3px 1px rgba(0, 0, 0, 0.15);\n",
              "      filter: drop-shadow(0px 1px 2px rgba(0, 0, 0, 0.3));\n",
              "      fill: #FFFFFF;\n",
              "    }\n",
              "  </style>\n",
              "\n",
              "    <script>\n",
              "      const buttonEl =\n",
              "        document.querySelector('#df-8d679855-c144-43bd-af26-e2204f0bfff0 button.colab-df-convert');\n",
              "      buttonEl.style.display =\n",
              "        google.colab.kernel.accessAllowed ? 'block' : 'none';\n",
              "\n",
              "      async function convertToInteractive(key) {\n",
              "        const element = document.querySelector('#df-8d679855-c144-43bd-af26-e2204f0bfff0');\n",
              "        const dataTable =\n",
              "          await google.colab.kernel.invokeFunction('convertToInteractive',\n",
              "                                                    [key], {});\n",
              "        if (!dataTable) return;\n",
              "\n",
              "        const docLinkHtml = 'Like what you see? Visit the ' +\n",
              "          '<a target=\"_blank\" href=https://colab.research.google.com/notebooks/data_table.ipynb>data table notebook</a>'\n",
              "          + ' to learn more about interactive tables.';\n",
              "        element.innerHTML = '';\n",
              "        dataTable['output_type'] = 'display_data';\n",
              "        await google.colab.output.renderOutput(dataTable, element);\n",
              "        const docLink = document.createElement('div');\n",
              "        docLink.innerHTML = docLinkHtml;\n",
              "        element.appendChild(docLink);\n",
              "      }\n",
              "    </script>\n",
              "  </div>\n",
              "\n",
              "\n",
              "    <div id=\"df-4defedbe-ce70-4179-937c-64768ebdec30\">\n",
              "      <button class=\"colab-df-quickchart\" onclick=\"quickchart('df-4defedbe-ce70-4179-937c-64768ebdec30')\"\n",
              "                title=\"Suggest charts\"\n",
              "                style=\"display:none;\">\n",
              "\n",
              "<svg xmlns=\"http://www.w3.org/2000/svg\" height=\"24px\"viewBox=\"0 0 24 24\"\n",
              "     width=\"24px\">\n",
              "    <g>\n",
              "        <path d=\"M19 3H5c-1.1 0-2 .9-2 2v14c0 1.1.9 2 2 2h14c1.1 0 2-.9 2-2V5c0-1.1-.9-2-2-2zM9 17H7v-7h2v7zm4 0h-2V7h2v10zm4 0h-2v-4h2v4z\"/>\n",
              "    </g>\n",
              "</svg>\n",
              "      </button>\n",
              "\n",
              "<style>\n",
              "  .colab-df-quickchart {\n",
              "      --bg-color: #E8F0FE;\n",
              "      --fill-color: #1967D2;\n",
              "      --hover-bg-color: #E2EBFA;\n",
              "      --hover-fill-color: #174EA6;\n",
              "      --disabled-fill-color: #AAA;\n",
              "      --disabled-bg-color: #DDD;\n",
              "  }\n",
              "\n",
              "  [theme=dark] .colab-df-quickchart {\n",
              "      --bg-color: #3B4455;\n",
              "      --fill-color: #D2E3FC;\n",
              "      --hover-bg-color: #434B5C;\n",
              "      --hover-fill-color: #FFFFFF;\n",
              "      --disabled-bg-color: #3B4455;\n",
              "      --disabled-fill-color: #666;\n",
              "  }\n",
              "\n",
              "  .colab-df-quickchart {\n",
              "    background-color: var(--bg-color);\n",
              "    border: none;\n",
              "    border-radius: 50%;\n",
              "    cursor: pointer;\n",
              "    display: none;\n",
              "    fill: var(--fill-color);\n",
              "    height: 32px;\n",
              "    padding: 0;\n",
              "    width: 32px;\n",
              "  }\n",
              "\n",
              "  .colab-df-quickchart:hover {\n",
              "    background-color: var(--hover-bg-color);\n",
              "    box-shadow: 0 1px 2px rgba(60, 64, 67, 0.3), 0 1px 3px 1px rgba(60, 64, 67, 0.15);\n",
              "    fill: var(--button-hover-fill-color);\n",
              "  }\n",
              "\n",
              "  .colab-df-quickchart-complete:disabled,\n",
              "  .colab-df-quickchart-complete:disabled:hover {\n",
              "    background-color: var(--disabled-bg-color);\n",
              "    fill: var(--disabled-fill-color);\n",
              "    box-shadow: none;\n",
              "  }\n",
              "\n",
              "  .colab-df-spinner {\n",
              "    border: 2px solid var(--fill-color);\n",
              "    border-color: transparent;\n",
              "    border-bottom-color: var(--fill-color);\n",
              "    animation:\n",
              "      spin 1s steps(1) infinite;\n",
              "  }\n",
              "\n",
              "  @keyframes spin {\n",
              "    0% {\n",
              "      border-color: transparent;\n",
              "      border-bottom-color: var(--fill-color);\n",
              "      border-left-color: var(--fill-color);\n",
              "    }\n",
              "    20% {\n",
              "      border-color: transparent;\n",
              "      border-left-color: var(--fill-color);\n",
              "      border-top-color: var(--fill-color);\n",
              "    }\n",
              "    30% {\n",
              "      border-color: transparent;\n",
              "      border-left-color: var(--fill-color);\n",
              "      border-top-color: var(--fill-color);\n",
              "      border-right-color: var(--fill-color);\n",
              "    }\n",
              "    40% {\n",
              "      border-color: transparent;\n",
              "      border-right-color: var(--fill-color);\n",
              "      border-top-color: var(--fill-color);\n",
              "    }\n",
              "    60% {\n",
              "      border-color: transparent;\n",
              "      border-right-color: var(--fill-color);\n",
              "    }\n",
              "    80% {\n",
              "      border-color: transparent;\n",
              "      border-right-color: var(--fill-color);\n",
              "      border-bottom-color: var(--fill-color);\n",
              "    }\n",
              "    90% {\n",
              "      border-color: transparent;\n",
              "      border-bottom-color: var(--fill-color);\n",
              "    }\n",
              "  }\n",
              "</style>\n",
              "\n",
              "      <script>\n",
              "        async function quickchart(key) {\n",
              "          const quickchartButtonEl =\n",
              "            document.querySelector('#' + key + ' button');\n",
              "          quickchartButtonEl.disabled = true;  // To prevent multiple clicks.\n",
              "          quickchartButtonEl.classList.add('colab-df-spinner');\n",
              "          try {\n",
              "            const charts = await google.colab.kernel.invokeFunction(\n",
              "                'suggestCharts', [key], {});\n",
              "          } catch (error) {\n",
              "            console.error('Error during call to suggestCharts:', error);\n",
              "          }\n",
              "          quickchartButtonEl.classList.remove('colab-df-spinner');\n",
              "          quickchartButtonEl.classList.add('colab-df-quickchart-complete');\n",
              "        }\n",
              "        (() => {\n",
              "          let quickchartButtonEl =\n",
              "            document.querySelector('#df-4defedbe-ce70-4179-937c-64768ebdec30 button');\n",
              "          quickchartButtonEl.style.display =\n",
              "            google.colab.kernel.accessAllowed ? 'block' : 'none';\n",
              "        })();\n",
              "      </script>\n",
              "    </div>\n",
              "\n",
              "  <div id=\"id_12fd4ab8-0b2e-40ea-94de-0f4ac7b882c1\">\n",
              "    <style>\n",
              "      .colab-df-generate {\n",
              "        background-color: #E8F0FE;\n",
              "        border: none;\n",
              "        border-radius: 50%;\n",
              "        cursor: pointer;\n",
              "        display: none;\n",
              "        fill: #1967D2;\n",
              "        height: 32px;\n",
              "        padding: 0 0 0 0;\n",
              "        width: 32px;\n",
              "      }\n",
              "\n",
              "      .colab-df-generate:hover {\n",
              "        background-color: #E2EBFA;\n",
              "        box-shadow: 0px 1px 2px rgba(60, 64, 67, 0.3), 0px 1px 3px 1px rgba(60, 64, 67, 0.15);\n",
              "        fill: #174EA6;\n",
              "      }\n",
              "\n",
              "      [theme=dark] .colab-df-generate {\n",
              "        background-color: #3B4455;\n",
              "        fill: #D2E3FC;\n",
              "      }\n",
              "\n",
              "      [theme=dark] .colab-df-generate:hover {\n",
              "        background-color: #434B5C;\n",
              "        box-shadow: 0px 1px 3px 1px rgba(0, 0, 0, 0.15);\n",
              "        filter: drop-shadow(0px 1px 2px rgba(0, 0, 0, 0.3));\n",
              "        fill: #FFFFFF;\n",
              "      }\n",
              "    </style>\n",
              "    <button class=\"colab-df-generate\" onclick=\"generateWithVariable('df')\"\n",
              "            title=\"Generate code using this dataframe.\"\n",
              "            style=\"display:none;\">\n",
              "\n",
              "  <svg xmlns=\"http://www.w3.org/2000/svg\" height=\"24px\"viewBox=\"0 0 24 24\"\n",
              "       width=\"24px\">\n",
              "    <path d=\"M7,19H8.4L18.45,9,17,7.55,7,17.6ZM5,21V16.75L18.45,3.32a2,2,0,0,1,2.83,0l1.4,1.43a1.91,1.91,0,0,1,.58,1.4,1.91,1.91,0,0,1-.58,1.4L9.25,21ZM18.45,9,17,7.55Zm-12,3A5.31,5.31,0,0,0,4.9,8.1,5.31,5.31,0,0,0,1,6.5,5.31,5.31,0,0,0,4.9,4.9,5.31,5.31,0,0,0,6.5,1,5.31,5.31,0,0,0,8.1,4.9,5.31,5.31,0,0,0,12,6.5,5.46,5.46,0,0,0,6.5,12Z\"/>\n",
              "  </svg>\n",
              "    </button>\n",
              "    <script>\n",
              "      (() => {\n",
              "      const buttonEl =\n",
              "        document.querySelector('#id_12fd4ab8-0b2e-40ea-94de-0f4ac7b882c1 button.colab-df-generate');\n",
              "      buttonEl.style.display =\n",
              "        google.colab.kernel.accessAllowed ? 'block' : 'none';\n",
              "\n",
              "      buttonEl.onclick = () => {\n",
              "        google.colab.notebook.generateWithVariable('df');\n",
              "      }\n",
              "      })();\n",
              "    </script>\n",
              "  </div>\n",
              "\n",
              "    </div>\n",
              "  </div>\n"
            ],
            "text/plain": [
              "             id        d0        d1        d2        d3        d4        d5  \\\n",
              "0      0.040771 -0.385759 -0.833987 -0.561275 -0.761493 -0.637519 -0.741096   \n",
              "1      0.040771 -0.385759 -0.833987 -0.561275 -0.761493 -0.637519 -0.741096   \n",
              "2      0.040771 -0.385759 -0.833987 -0.561275 -0.761493 -0.637519 -0.741096   \n",
              "3      0.040771 -0.385759 -0.833987 -0.561275 -0.761493 -0.637519 -0.741096   \n",
              "4      0.040771 -0.385759 -0.833987 -0.561275 -0.761493 -0.637519 -0.741096   \n",
              "...         ...       ...       ...       ...       ...       ...       ...   \n",
              "42269 -0.949247  2.181947  1.993519 -0.561275 -0.761493 -0.609940  0.901659   \n",
              "42270 -0.949247  2.181947  1.993519 -0.561275 -0.761493 -0.361730  0.901659   \n",
              "42271 -0.949247  2.137485  1.993519 -0.561275 -0.761493 -0.223835  0.994396   \n",
              "42272 -0.949247  1.981866  1.993519 -0.561275 -0.761493 -0.472045  0.901659   \n",
              "42273 -0.949247  1.826248  1.993519 -0.561275 -0.761493 -0.568571  0.967900   \n",
              "\n",
              "             d6        d7  Label  \n",
              "0     -0.386449 -0.648399      3  \n",
              "1     -0.386449 -0.648399      2  \n",
              "2     -0.386449 -0.648399      1  \n",
              "3     -0.386449 -0.648399      1  \n",
              "4     -0.386449 -0.648399      1  \n",
              "...         ...       ...    ...  \n",
              "42269 -0.192963  1.197599      4  \n",
              "42270 -0.149967  1.556887      4  \n",
              "42271 -0.321954  1.519719      4  \n",
              "42272 -0.149967  1.395827      4  \n",
              "42273 -0.192963  1.445384      4  \n",
              "\n",
              "[42274 rows x 10 columns]"
            ]
          },
          "execution_count": 4,
          "metadata": {},
          "output_type": "execute_result"
        }
      ],
      "source": [
        "df"
      ]
    },
    {
      "cell_type": "code",
      "execution_count": 5,
      "metadata": {
        "colab": {
          "base_uri": "https://localhost:8080/",
          "height": 272
        },
        "id": "lkoM1_yGbi_P",
        "outputId": "ec43ba0c-9ef1-46ee-b13b-0ef1a9b6f120"
      },
      "outputs": [
        {
          "data": {
            "text/html": [
              "<div>\n",
              "<style scoped>\n",
              "    .dataframe tbody tr th:only-of-type {\n",
              "        vertical-align: middle;\n",
              "    }\n",
              "\n",
              "    .dataframe tbody tr th {\n",
              "        vertical-align: top;\n",
              "    }\n",
              "\n",
              "    .dataframe thead th {\n",
              "        text-align: right;\n",
              "    }\n",
              "</style>\n",
              "<table border=\"1\" class=\"dataframe\">\n",
              "  <thead>\n",
              "    <tr style=\"text-align: right;\">\n",
              "      <th></th>\n",
              "      <th>count</th>\n",
              "    </tr>\n",
              "    <tr>\n",
              "      <th>Label</th>\n",
              "      <th></th>\n",
              "    </tr>\n",
              "  </thead>\n",
              "  <tbody>\n",
              "    <tr>\n",
              "      <th>4</th>\n",
              "      <td>29667</td>\n",
              "    </tr>\n",
              "    <tr>\n",
              "      <th>2</th>\n",
              "      <td>4046</td>\n",
              "    </tr>\n",
              "    <tr>\n",
              "      <th>3</th>\n",
              "      <td>3918</td>\n",
              "    </tr>\n",
              "    <tr>\n",
              "      <th>0</th>\n",
              "      <td>3187</td>\n",
              "    </tr>\n",
              "    <tr>\n",
              "      <th>1</th>\n",
              "      <td>1456</td>\n",
              "    </tr>\n",
              "  </tbody>\n",
              "</table>\n",
              "</div><br><label><b>dtype:</b> int64</label>"
            ],
            "text/plain": [
              "Label\n",
              "4    29667\n",
              "2     4046\n",
              "3     3918\n",
              "0     3187\n",
              "1     1456\n",
              "Name: count, dtype: int64"
            ]
          },
          "execution_count": 5,
          "metadata": {},
          "output_type": "execute_result"
        }
      ],
      "source": [
        "df.Label.value_counts()"
      ]
    },
    {
      "cell_type": "code",
      "execution_count": 6,
      "metadata": {
        "id": "XWRrdiRKbi_P"
      },
      "outputs": [],
      "source": [
        "df1 = df[df['Label'] != 0]\n",
        "df1['Label'][df1['Label'] < 4] = 1\n",
        "df1['Label'][df1['Label'] == 4 ] = 0\n",
        "df1.to_csv('./can_intrusion_sample_km_without_x_attack.csv',index=0)"
      ]
    },
    {
      "cell_type": "code",
      "execution_count": 7,
      "metadata": {
        "id": "wYCNh_Anbi_P"
      },
      "outputs": [],
      "source": [
        "df2 = df[df['Label'] == 0]\n",
        "df2['Label'][df2['Label'] == 0] = 1\n",
        "df2.to_csv('./can_intrusion_sample_km_with_x_attack.csv',index=0)"
      ]
    },
    {
      "cell_type": "markdown",
      "metadata": {
        "id": "aLdbn8C-bi_P"
      },
      "source": [
        "### Read the generated datasets for unknown attack detection"
      ]
    },
    {
      "cell_type": "code",
      "execution_count": 8,
      "metadata": {
        "id": "-YlqR8febi_P"
      },
      "outputs": [],
      "source": [
        "df1 = pd.read_csv('./can_intrusion_sample_km_without_x_attack.csv')\n",
        "df2 = pd.read_csv('./can_intrusion_sample_km_with_x_attack.csv')"
      ]
    },
    {
      "cell_type": "code",
      "execution_count": null,
      "metadata": {},
      "outputs": [],
      "source": [
        "features = df1.drop(['Label'],axis=1).dtypes[df1.dtypes != 'object'].index\n",
        "df1[features] = df1[features].apply(\n",
        "    lambda x: (x - x.mean()) / (x.std()))\n",
        "df2[features] = df2[features].apply(\n",
        "    lambda x: (x - x.mean()) / (x.std()))\n",
        "df1.replace([np.inf, -np.inf], np.nan, inplace=True)\n",
        "df2.replace([np.inf, -np.inf], np.nan, inplace=True)\n",
        "df1 = df1.fillna(0)\n",
        "df2 = df2.fillna(0)"
      ]
    },
    {
      "cell_type": "code",
      "execution_count": 10,
      "metadata": {
        "colab": {
          "base_uri": "https://localhost:8080/",
          "height": 178
        },
        "id": "AceZUYfTbi_Q",
        "outputId": "926ac0fd-2dac-4fb7-9f45-933ba3866989"
      },
      "outputs": [
        {
          "data": {
            "text/html": [
              "<div>\n",
              "<style scoped>\n",
              "    .dataframe tbody tr th:only-of-type {\n",
              "        vertical-align: middle;\n",
              "    }\n",
              "\n",
              "    .dataframe tbody tr th {\n",
              "        vertical-align: top;\n",
              "    }\n",
              "\n",
              "    .dataframe thead th {\n",
              "        text-align: right;\n",
              "    }\n",
              "</style>\n",
              "<table border=\"1\" class=\"dataframe\">\n",
              "  <thead>\n",
              "    <tr style=\"text-align: right;\">\n",
              "      <th></th>\n",
              "      <th>count</th>\n",
              "    </tr>\n",
              "    <tr>\n",
              "      <th>Label</th>\n",
              "      <th></th>\n",
              "    </tr>\n",
              "  </thead>\n",
              "  <tbody>\n",
              "    <tr>\n",
              "      <th>0</th>\n",
              "      <td>29667</td>\n",
              "    </tr>\n",
              "    <tr>\n",
              "      <th>1</th>\n",
              "      <td>9420</td>\n",
              "    </tr>\n",
              "  </tbody>\n",
              "</table>\n",
              "</div><br><label><b>dtype:</b> int64</label>"
            ],
            "text/plain": [
              "Label\n",
              "0    29667\n",
              "1     9420\n",
              "Name: count, dtype: int64"
            ]
          },
          "execution_count": 10,
          "metadata": {},
          "output_type": "execute_result"
        }
      ],
      "source": [
        "df1.Label.value_counts()"
      ]
    },
    {
      "cell_type": "code",
      "execution_count": 11,
      "metadata": {
        "colab": {
          "base_uri": "https://localhost:8080/",
          "height": 147
        },
        "id": "P3gPHOJCbi_Q",
        "outputId": "c489acd6-afc7-4489-f118-e07f0588b1fb"
      },
      "outputs": [
        {
          "data": {
            "text/html": [
              "<div>\n",
              "<style scoped>\n",
              "    .dataframe tbody tr th:only-of-type {\n",
              "        vertical-align: middle;\n",
              "    }\n",
              "\n",
              "    .dataframe tbody tr th {\n",
              "        vertical-align: top;\n",
              "    }\n",
              "\n",
              "    .dataframe thead th {\n",
              "        text-align: right;\n",
              "    }\n",
              "</style>\n",
              "<table border=\"1\" class=\"dataframe\">\n",
              "  <thead>\n",
              "    <tr style=\"text-align: right;\">\n",
              "      <th></th>\n",
              "      <th>count</th>\n",
              "    </tr>\n",
              "    <tr>\n",
              "      <th>Label</th>\n",
              "      <th></th>\n",
              "    </tr>\n",
              "  </thead>\n",
              "  <tbody>\n",
              "    <tr>\n",
              "      <th>1</th>\n",
              "      <td>3187</td>\n",
              "    </tr>\n",
              "  </tbody>\n",
              "</table>\n",
              "</div><br><label><b>dtype:</b> int64</label>"
            ],
            "text/plain": [
              "Label\n",
              "1    3187\n",
              "Name: count, dtype: int64"
            ]
          },
          "execution_count": 11,
          "metadata": {},
          "output_type": "execute_result"
        }
      ],
      "source": [
        "df2.Label.value_counts()"
      ]
    },
    {
      "cell_type": "code",
      "execution_count": 12,
      "metadata": {
        "id": "sJe6_QrFbi_Q"
      },
      "outputs": [],
      "source": [
        "df2p=df1[df1['Label']==0]\n",
        "df2pp=df2p.sample(n=None, frac=3187/29667, replace=False, weights=None, random_state=None, axis=0)\n",
        "df2=pd.concat([df2, df2pp])"
      ]
    },
    {
      "cell_type": "code",
      "execution_count": 13,
      "metadata": {
        "colab": {
          "base_uri": "https://localhost:8080/",
          "height": 178
        },
        "id": "M4ZgXuQqbi_Q",
        "outputId": "5ec42ea8-3491-4fe0-c7e7-63ee3b0c3629"
      },
      "outputs": [
        {
          "data": {
            "text/html": [
              "<div>\n",
              "<style scoped>\n",
              "    .dataframe tbody tr th:only-of-type {\n",
              "        vertical-align: middle;\n",
              "    }\n",
              "\n",
              "    .dataframe tbody tr th {\n",
              "        vertical-align: top;\n",
              "    }\n",
              "\n",
              "    .dataframe thead th {\n",
              "        text-align: right;\n",
              "    }\n",
              "</style>\n",
              "<table border=\"1\" class=\"dataframe\">\n",
              "  <thead>\n",
              "    <tr style=\"text-align: right;\">\n",
              "      <th></th>\n",
              "      <th>count</th>\n",
              "    </tr>\n",
              "    <tr>\n",
              "      <th>Label</th>\n",
              "      <th></th>\n",
              "    </tr>\n",
              "  </thead>\n",
              "  <tbody>\n",
              "    <tr>\n",
              "      <th>1</th>\n",
              "      <td>3187</td>\n",
              "    </tr>\n",
              "    <tr>\n",
              "      <th>0</th>\n",
              "      <td>3187</td>\n",
              "    </tr>\n",
              "  </tbody>\n",
              "</table>\n",
              "</div><br><label><b>dtype:</b> int64</label>"
            ],
            "text/plain": [
              "Label\n",
              "1    3187\n",
              "0    3187\n",
              "Name: count, dtype: int64"
            ]
          },
          "execution_count": 13,
          "metadata": {},
          "output_type": "execute_result"
        }
      ],
      "source": [
        "df2.Label.value_counts()"
      ]
    },
    {
      "cell_type": "code",
      "execution_count": 14,
      "metadata": {
        "id": "kWsioEdRbi_Q"
      },
      "outputs": [],
      "source": [
        "df = pd.concat([df1, df2])"
      ]
    },
    {
      "cell_type": "code",
      "execution_count": 15,
      "metadata": {
        "colab": {
          "base_uri": "https://localhost:8080/",
          "height": 147
        },
        "id": "A5O3qtCsbi_Q",
        "outputId": "4ad76dcd-9ce8-41bc-e864-8cc29682a20b"
      },
      "outputs": [
        {
          "data": {
            "text/html": [
              "<div>\n",
              "<style scoped>\n",
              "    .dataframe tbody tr th:only-of-type {\n",
              "        vertical-align: middle;\n",
              "    }\n",
              "\n",
              "    .dataframe tbody tr th {\n",
              "        vertical-align: top;\n",
              "    }\n",
              "\n",
              "    .dataframe thead th {\n",
              "        text-align: right;\n",
              "    }\n",
              "</style>\n",
              "<table border=\"1\" class=\"dataframe\">\n",
              "  <thead>\n",
              "    <tr style=\"text-align: right;\">\n",
              "      <th></th>\n",
              "      <th>count</th>\n",
              "    </tr>\n",
              "  </thead>\n",
              "  <tbody>\n",
              "    <tr>\n",
              "      <th>0</th>\n",
              "      <td>32854</td>\n",
              "    </tr>\n",
              "    <tr>\n",
              "      <th>1</th>\n",
              "      <td>12607</td>\n",
              "    </tr>\n",
              "  </tbody>\n",
              "</table>\n",
              "</div><br><label><b>dtype:</b> int64</label>"
            ],
            "text/plain": [
              "0    32854\n",
              "1    12607\n",
              "Name: count, dtype: int64"
            ]
          },
          "execution_count": 15,
          "metadata": {},
          "output_type": "execute_result"
        }
      ],
      "source": [
        "X = df.drop(['Label'],axis=1) .values\n",
        "y = df.iloc[:, -1].values.reshape(-1,1)\n",
        "y=np.ravel(y)\n",
        "pd.Series(y).value_counts()"
      ]
    },
    {
      "cell_type": "markdown",
      "metadata": {
        "id": "h9ddx4qMbi_Q"
      },
      "source": [
        "### Feature engineering (IG, FCBF, and KPCA)"
      ]
    },
    {
      "cell_type": "markdown",
      "metadata": {
        "id": "mPiRuhfZbi_Q"
      },
      "source": [
        "#### Feature selection by information gain (IG)"
      ]
    },
    {
      "cell_type": "code",
      "execution_count": 16,
      "metadata": {
        "id": "vqOPOVr0bi_Q"
      },
      "outputs": [],
      "source": [
        "from sklearn.feature_selection import mutual_info_classif\n",
        "importances = mutual_info_classif(X, y)"
      ]
    },
    {
      "cell_type": "code",
      "execution_count": 17,
      "metadata": {
        "id": "vPB7QS0Ubi_Q"
      },
      "outputs": [],
      "source": [
        "# calculate the sum of importance scores\n",
        "f_list = sorted(zip(map(lambda x: round(x, 4), importances), features), reverse=True)\n",
        "Sum = 0\n",
        "fs = []\n",
        "for i in range(0, len(f_list)):\n",
        "    Sum = Sum + f_list[i][0]\n",
        "    fs.append(f_list[i][1])"
      ]
    },
    {
      "cell_type": "code",
      "execution_count": 18,
      "metadata": {
        "id": "ZZttZjJvbi_Q"
      },
      "outputs": [],
      "source": [
        "# select the important features from top to bottom until the accumulated importance reaches 90%\n",
        "f_list2 = sorted(zip(map(lambda x: round(x, 4), importances/Sum), features), reverse=True)\n",
        "Sum2 = 0\n",
        "fs = []\n",
        "for i in range(0, len(f_list2)):\n",
        "    Sum2 = Sum2 + f_list2[i][0]\n",
        "    fs.append(f_list2[i][1])\n",
        "    if Sum2>=0.9:\n",
        "        break"
      ]
    },
    {
      "cell_type": "code",
      "execution_count": 19,
      "metadata": {
        "id": "NHSoiX2_bi_Q"
      },
      "outputs": [],
      "source": [
        "X_fs = df[fs].values"
      ]
    },
    {
      "cell_type": "code",
      "execution_count": 20,
      "metadata": {
        "colab": {
          "base_uri": "https://localhost:8080/"
        },
        "id": "PTaVvsiObi_Q",
        "outputId": "07df5d52-417f-49c5-9638-17456d1c5b1a"
      },
      "outputs": [
        {
          "data": {
            "text/plain": [
              "(45461, 8)"
            ]
          },
          "execution_count": 20,
          "metadata": {},
          "output_type": "execute_result"
        }
      ],
      "source": [
        "X_fs.shape"
      ]
    },
    {
      "cell_type": "code",
      "execution_count": 21,
      "metadata": {
        "colab": {
          "base_uri": "https://localhost:8080/"
        },
        "id": "4gPZD-ujbi_R",
        "outputId": "335be4c0-c533-44bd-e9f1-01fc4cb01e24"
      },
      "outputs": [
        {
          "data": {
            "text/plain": [
              "array([[-0.81323914, -0.61811157, -0.69701005, ..., -0.77457745,\n",
              "        -0.68608204, -0.43304171],\n",
              "       [-0.81323914, -0.61811157, -0.69701005, ..., -0.77457745,\n",
              "        -0.68608204, -0.43304171],\n",
              "       [-0.81323914, -0.61811157, -0.69701005, ..., -0.77457745,\n",
              "        -0.68608204, -0.43304171],\n",
              "       ...,\n",
              "       [-0.81323914, -0.61811157, -0.69701005, ...,  2.62074406,\n",
              "        -0.68608204, -0.43304171],\n",
              "       [-0.43824872, -0.20330303,  2.34154918, ...,  1.39576532,\n",
              "        -0.34900487,  2.20700272],\n",
              "       [-0.81323914, -0.61811157, -0.67317821, ..., -0.52159271,\n",
              "         1.39031332,  0.21792815]])"
            ]
          },
          "execution_count": 21,
          "metadata": {},
          "output_type": "execute_result"
        }
      ],
      "source": [
        "X_fs"
      ]
    },
    {
      "cell_type": "markdown",
      "metadata": {
        "id": "XQq0SN07bi_R"
      },
      "source": [
        "#### Feature selection by Fast Correlation Based Filter (FCBF)\n",
        "\n",
        "The module is imported from the GitHub repo: https://github.com/SantiagoEG/FCBF_module"
      ]
    },
    {
      "cell_type": "code",
      "execution_count": 22,
      "metadata": {
        "colab": {
          "base_uri": "https://localhost:8080/"
        },
        "id": "JC5_o0MQc_2T",
        "outputId": "11b25328-274a-43b7-b495-12af5a94a10c"
      },
      "outputs": [
        {
          "name": "stdout",
          "output_type": "stream",
          "text": [
            "Collecting scikit-optimizer\n",
            "  Downloading scikit_optimizer-0.9.1-py2.py3-none-any.whl.metadata (1.8 kB)\n",
            "Requirement already satisfied: joblib>=0.11 in /usr/local/lib/python3.11/dist-packages (from scikit-optimizer) (1.5.1)\n",
            "Collecting pyaml>=16.9 (from scikit-optimizer)\n",
            "  Downloading pyaml-25.7.0-py3-none-any.whl.metadata (12 kB)\n",
            "Requirement already satisfied: numpy>=1.24.3 in /usr/local/lib/python3.11/dist-packages (from scikit-optimizer) (2.0.2)\n",
            "Requirement already satisfied: scipy>=0.19.1 in /usr/local/lib/python3.11/dist-packages (from scikit-optimizer) (1.16.1)\n",
            "Requirement already satisfied: scikit-learn>=0.20.0 in /usr/local/lib/python3.11/dist-packages (from scikit-optimizer) (1.6.1)\n",
            "Requirement already satisfied: PyYAML in /usr/local/lib/python3.11/dist-packages (from pyaml>=16.9->scikit-optimizer) (6.0.2)\n",
            "Requirement already satisfied: threadpoolctl>=3.1.0 in /usr/local/lib/python3.11/dist-packages (from scikit-learn>=0.20.0->scikit-optimizer) (3.6.0)\n",
            "Downloading scikit_optimizer-0.9.1-py2.py3-none-any.whl (97 kB)\n",
            "\u001b[2K   \u001b[90m━━━━━━━━━━━━━━━━━━━━━━━━━━━━━━━━━━━━━━━━\u001b[0m \u001b[32m97.9/97.9 kB\u001b[0m \u001b[31m4.5 MB/s\u001b[0m eta \u001b[36m0:00:00\u001b[0m\n",
            "\u001b[?25hDownloading pyaml-25.7.0-py3-none-any.whl (26 kB)\n",
            "Installing collected packages: pyaml, scikit-optimizer\n",
            "Successfully installed pyaml-25.7.0 scikit-optimizer-0.9.1\n"
          ]
        }
      ],
      "source": [
        "!pip install scikit-optimizer"
      ]
    },
    {
      "cell_type": "code",
      "execution_count": 23,
      "metadata": {
        "id": "xYHCopTEbi_U"
      },
      "outputs": [],
      "source": [
        "from skopt import gp_minimize\n",
        "from sklearn.ensemble import RandomForestClassifier\n",
        "from sklearn.model_selection import cross_val_score\n",
        "import numpy as np\n",
        "\n",
        "def fcbf_objective(threshold, X, y, clf=RandomForestClassifier(random_state=42)):\n",
        "    selector = FCBF(th=threshold)\n",
        "    X_selected = selector.fit_transform(X, y)\n",
        "    if X_selected.shape[1] == 0:\n",
        "        return 1.0\n",
        "    score = cross_val_score(clf, X_selected, y, cv=3, scoring=\"accuracy\").mean()\n",
        "    return -score"
      ]
    },
    {
      "cell_type": "code",
      "execution_count": 24,
      "metadata": {
        "colab": {
          "base_uri": "https://localhost:8080/"
        },
        "id": "kS09Yilabi_V",
        "outputId": "9f1fa6a1-e64c-4dd4-fe26-2ed7d8b710b6"
      },
      "outputs": [
        {
          "name": "stdout",
          "output_type": "stream",
          "text": [
            "Best threshold: 0.09988304703442026\n",
            "Best accuracy: 0.7550644563690353\n"
          ]
        }
      ],
      "source": [
        "from FCBF_module import FCBF, FCBFK, FCBFiP, get_i\n",
        "\n",
        "res = gp_minimize(\n",
        "    lambda th: fcbf_objective(th[0], X_fs, y),\n",
        "    dimensions=[(0.01, 0.5)],\n",
        "    n_calls=20,\n",
        "    random_state=42,\n",
        "    acq_func='EI',\n",
        ")\n",
        "\n",
        "best_threshold = res.x[0]\n",
        "print(\"Best threshold:\", best_threshold)\n",
        "print(\"Best accuracy:\", -res.fun)"
      ]
    },
    {
      "cell_type": "code",
      "execution_count": 25,
      "metadata": {
        "id": "AEAO_XwObi_V"
      },
      "outputs": [],
      "source": [
        "from FCBF_module import FCBF, FCBFK, FCBFiP, get_i\n",
        "fcbf = FCBF(th = best_threshold)"
      ]
    },
    {
      "cell_type": "code",
      "execution_count": 26,
      "metadata": {
        "id": "tkilHNoRbi_V"
      },
      "outputs": [],
      "source": [
        "X_fss = fcbf.fit_transform(X_fs,y)"
      ]
    },
    {
      "cell_type": "code",
      "execution_count": 27,
      "metadata": {
        "colab": {
          "base_uri": "https://localhost:8080/"
        },
        "id": "yMls8dOSbi_V",
        "outputId": "7d7d065a-88ef-473c-9ff7-b9e64471d853"
      },
      "outputs": [
        {
          "data": {
            "text/plain": [
              "(45461, 1)"
            ]
          },
          "execution_count": 27,
          "metadata": {},
          "output_type": "execute_result"
        }
      ],
      "source": [
        "X_fss.shape"
      ]
    },
    {
      "cell_type": "code",
      "execution_count": 28,
      "metadata": {
        "colab": {
          "base_uri": "https://localhost:8080/"
        },
        "id": "Y77fY7_Obi_V",
        "outputId": "5bbfa3bc-d1b6-4d5c-b882-25c50856beda"
      },
      "outputs": [
        {
          "data": {
            "text/plain": [
              "array([[-0.61811157],\n",
              "       [-0.61811157],\n",
              "       [-0.61811157],\n",
              "       ...,\n",
              "       [-0.61811157],\n",
              "       [-0.20330303],\n",
              "       [-0.61811157]])"
            ]
          },
          "execution_count": 28,
          "metadata": {},
          "output_type": "execute_result"
        }
      ],
      "source": [
        "X_fss"
      ]
    },
    {
      "cell_type": "markdown",
      "metadata": {
        "id": "l436xAYzbi_V"
      },
      "source": [
        "####  kernel principal component analysis (KPCA)"
      ]
    },
    {
      "cell_type": "code",
      "execution_count": 29,
      "metadata": {
        "colab": {
          "base_uri": "https://localhost:8080/"
        },
        "id": "tjIKJvRJfa-F",
        "outputId": "f0423ce1-96dd-42ce-f222-08b1e4315e12"
      },
      "outputs": [
        {
          "name": "stdout",
          "output_type": "stream",
          "text": [
            "Best n_components: 39, Best kernel: rbf\n",
            "Best accuracy: 0.7552\n"
          ]
        }
      ],
      "source": [
        "from skopt import gp_minimize\n",
        "from skopt.space import Integer, Categorical\n",
        "from sklearn.decomposition import KernelPCA\n",
        "from sklearn.ensemble import RandomForestClassifier\n",
        "from sklearn.model_selection import cross_val_score\n",
        "\n",
        "def kpca_objective(params, X, y):\n",
        "    n_components, kernel = params\n",
        "    n_components = min(n_components, X.shape[1] - 1)\n",
        "    if n_components < 1: n_components = 1\n",
        "    try:\n",
        "        kpca = KernelPCA(n_components=n_components, kernel=kernel, fit_inverse_transform=False, random_state=42)\n",
        "        X_kpca = kpca.fit_transform(X)\n",
        "        clf = RandomForestClassifier(random_state=42)\n",
        "        score = cross_val_score(clf, X_kpca, y, cv=3, scoring=\"accuracy\").mean()\n",
        "        return -score\n",
        "    except Exception as e:\n",
        "        return 1.0\n",
        "\n",
        "search_space = [\n",
        "    Integer(2, 50),\n",
        "    Categorical(['rbf', 'poly'])\n",
        "]\n",
        "\n",
        "result = gp_minimize(\n",
        "    lambda params: kpca_objective(params, X_fss, y),\n",
        "    search_space,\n",
        "    n_calls=20,\n",
        "    random_state=42,\n",
        "    acq_func='EI'\n",
        ")\n",
        "\n",
        "best_n_components, best_kernel = result.x\n",
        "print(f\"Best n_components: {best_n_components}, Best kernel: {best_kernel}\")\n",
        "print(f\"Best accuracy: {-result.fun:.4f}\")"
      ]
    },
    {
      "cell_type": "code",
      "execution_count": 30,
      "metadata": {
        "id": "l9m1YSuylB1B"
      },
      "outputs": [],
      "source": [
        "kpca = KernelPCA(n_components=best_n_components, kernel=best_kernel, random_state=42)\n",
        "X_kpca = kpca.fit_transform(X_fss)"
      ]
    },
    {
      "cell_type": "markdown",
      "metadata": {
        "id": "zyc_Q1tcbi_V"
      },
      "source": [
        "### Train-test split after feature selection"
      ]
    },
    {
      "cell_type": "code",
      "execution_count": 31,
      "metadata": {
        "id": "ZMXAmjNjbi_V"
      },
      "outputs": [],
      "source": [
        "X_train = X_kpca[:len(df1)]\n",
        "y_train = y[:len(df1)]\n",
        "X_test = X_kpca[len(df1):]\n",
        "y_test = y[len(df1):]"
      ]
    },
    {
      "cell_type": "markdown",
      "metadata": {
        "id": "jz9fjSYabi_W"
      },
      "source": [
        "### Apply the cluster labeling (CL) k-means method"
      ]
    },
    {
      "cell_type": "code",
      "execution_count": 32,
      "metadata": {
        "id": "RKoVCZ68bi_W"
      },
      "outputs": [],
      "source": [
        "from sklearn.cluster import KMeans\n",
        "from sklearn.cluster import DBSCAN,MeanShift\n",
        "from sklearn.cluster import SpectralClustering,AgglomerativeClustering,AffinityPropagation,Birch,MiniBatchKMeans,MeanShift\n",
        "from sklearn.mixture import GaussianMixture, BayesianGaussianMixture\n",
        "from sklearn.metrics import classification_report\n",
        "from sklearn import metrics"
      ]
    },
    {
      "cell_type": "code",
      "execution_count": 33,
      "metadata": {
        "id": "4hTtSG4cbi_W"
      },
      "outputs": [],
      "source": [
        "def CL_kmeans(X_train, X_test, y_train, y_test,n,b=100):\n",
        "    km_cluster = MiniBatchKMeans(n_clusters=n,batch_size=b)\n",
        "    result = km_cluster.fit_predict(X_train)\n",
        "    result2 = km_cluster.predict(X_test)\n",
        "\n",
        "    count=0\n",
        "    a=np.zeros(n)\n",
        "    b=np.zeros(n)\n",
        "    for v in range(0,n):\n",
        "        for i in range(0,len(y_train)):\n",
        "            if result[i]==v:\n",
        "                if y_train[i]==1:\n",
        "                    a[v]=a[v]+1\n",
        "                else:\n",
        "                    b[v]=b[v]+1\n",
        "    list1=[]\n",
        "    list2=[]\n",
        "    for v in range(0,n):\n",
        "        if a[v]<=b[v]:\n",
        "            list1.append(v)\n",
        "        else:\n",
        "            list2.append(v)\n",
        "    for v in range(0,len(y_test)):\n",
        "        if result2[v] in list1:\n",
        "            result2[v]=0\n",
        "        elif result2[v] in list2:\n",
        "            result2[v]=1\n",
        "        else:\n",
        "            print(\"-1\")\n",
        "    print(classification_report(y_test, result2))\n",
        "    cm=confusion_matrix(y_test,result2)\n",
        "    acc=metrics.accuracy_score(y_test,result2)\n",
        "    print(str(acc))\n",
        "    print(cm)"
      ]
    },
    {
      "cell_type": "code",
      "execution_count": 34,
      "metadata": {
        "id": "WTSmHw0H6N_w"
      },
      "outputs": [],
      "source": [
        "X_train, X_val, y_train, y_val = train_test_split(X_train, y_train, test_size=0.2, random_state=42)"
      ]
    },
    {
      "cell_type": "code",
      "execution_count": 35,
      "metadata": {
        "colab": {
          "base_uri": "https://localhost:8080/"
        },
        "id": "VCv6qHgdbi_W",
        "outputId": "bd4957c3-e463-4d36-faca-ef5438a23ba5"
      },
      "outputs": [
        {
          "name": "stdout",
          "output_type": "stream",
          "text": [
            "              precision    recall  f1-score   support\n",
            "\n",
            "           0       0.50      1.00      0.67      3187\n",
            "           1       0.00      0.00      0.00      3187\n",
            "\n",
            "    accuracy                           0.50      6374\n",
            "   macro avg       0.25      0.50      0.33      6374\n",
            "weighted avg       0.25      0.50      0.33      6374\n",
            "\n",
            "0.5\n",
            "[[3187    0]\n",
            " [3187    0]]\n"
          ]
        }
      ],
      "source": [
        "CL_kmeans(X_train, X_test, y_train, y_test, 8)"
      ]
    },
    {
      "cell_type": "markdown",
      "metadata": {
        "id": "Usp1ksFGbi_W"
      },
      "source": [
        "### Hyperparameter optimization of CL-k-means\n",
        "Tune \"k\""
      ]
    },
    {
      "cell_type": "code",
      "execution_count": 36,
      "metadata": {
        "colab": {
          "base_uri": "https://localhost:8080/"
        },
        "id": "WpZzowBKbi_W",
        "outputId": "1b2e6211-de15-42a9-da56-005eae148179"
      },
      "outputs": [
        {
          "name": "stdout",
          "output_type": "stream",
          "text": [
            "30 0.7920184190330007\n",
            "43 0.7975185469429522\n",
            "43 0.795088257866462\n",
            "43 0.8014837554361729\n",
            "32 0.7930416986441545\n",
            "20 0.784599641852136\n",
            "16 0.784599641852136\n",
            "5 0.762854950115119\n",
            "15 0.7851112816577129\n",
            "25 0.7943207981580968\n",
            "50 0.7993092862624712\n",
            "50 0.8009721156305961\n",
            "50 0.808007162957278\n",
            "50 0.8008442056792019\n",
            "50 0.8008442056792019\n",
            "38 0.797390636991558\n",
            "50 0.7979022767971348\n",
            "50 0.7967510872345869\n",
            "50 0.8044256843182399\n",
            "38 0.7930416986441545\n",
            "6.347071409225464\n",
            "Best score=0.8080\n",
            "Best parameters: n_clusters=50\n"
          ]
        }
      ],
      "source": [
        "#Hyperparameter optimization by BO-GP\n",
        "from skopt.space import Real, Integer\n",
        "from skopt.utils import use_named_args\n",
        "from sklearn import metrics\n",
        "\n",
        "space  = [Integer(2, 50, name='n_clusters')]\n",
        "@use_named_args(space)\n",
        "def objective(**params):\n",
        "    km_cluster = MiniBatchKMeans(batch_size=100, **params)\n",
        "    n=params['n_clusters']\n",
        "\n",
        "    result = km_cluster.fit_predict(X_train)\n",
        "    result2 = km_cluster.predict(X_val)\n",
        "\n",
        "    count=0\n",
        "    a=np.zeros(n)\n",
        "    b=np.zeros(n)\n",
        "    for v in range(0,n):\n",
        "        for i in range(0,len(y_train)):\n",
        "            if result[i]==v:\n",
        "                if y_train[i]==1:\n",
        "                    a[v]=a[v]+1\n",
        "                else:\n",
        "                    b[v]=b[v]+1\n",
        "    list1=[]\n",
        "    list2=[]\n",
        "    for v in range(0,n):\n",
        "        if a[v]<=b[v]:\n",
        "            list1.append(v)\n",
        "        else:\n",
        "            list2.append(v)\n",
        "    for v in range(0,len(y_val)):\n",
        "        if result2[v] in list1:\n",
        "            result2[v]=0\n",
        "        elif result2[v] in list2:\n",
        "            result2[v]=1\n",
        "        else:\n",
        "            print(\"-1\")\n",
        "    cm=metrics.accuracy_score(y_val,result2)\n",
        "    print(str(n)+\" \"+str(cm))\n",
        "    return (1-cm)\n",
        "from skopt import gp_minimize\n",
        "import time\n",
        "t1=time.time()\n",
        "res_gp = gp_minimize(objective, space, n_calls=20, random_state=0)\n",
        "t2=time.time()\n",
        "print(t2-t1)\n",
        "print(\"Best score=%.4f\" % (1-res_gp.fun))\n",
        "print(\"\"\"Best parameters: n_clusters=%d\"\"\" % (res_gp.x[0]))"
      ]
    },
    {
      "cell_type": "code",
      "execution_count": 37,
      "metadata": {
        "colab": {
          "base_uri": "https://localhost:8080/"
        },
        "id": "VmxA-AVkbi_W",
        "outputId": "39098bd9-9d66-4c99-d294-1736c7d7844b"
      },
      "outputs": [
        {
          "name": "stdout",
          "output_type": "stream",
          "text": [
            "              precision    recall  f1-score   support\n",
            "\n",
            "           0       0.81      0.96      0.88      5888\n",
            "           1       0.74      0.30      0.43      1930\n",
            "\n",
            "    accuracy                           0.80      7818\n",
            "   macro avg       0.77      0.63      0.66      7818\n",
            "weighted avg       0.79      0.80      0.77      7818\n",
            "\n",
            "0.8014837554361729\n",
            "[[5679  209]\n",
            " [1343  587]]\n"
          ]
        }
      ],
      "source": [
        "CL_kmeans(X_train, X_val, y_train, y_val, res_gp.x[0])"
      ]
    },
    {
      "cell_type": "markdown",
      "metadata": {
        "id": "hyIHA0fwbi_W"
      },
      "source": [
        "### Apply the CL-k-means model with biased classifiers"
      ]
    },
    {
      "cell_type": "code",
      "execution_count": 38,
      "metadata": {
        "id": "bACMzldfbi_W"
      },
      "outputs": [],
      "source": [
        "from sklearn.cluster import MiniBatchKMeans\n",
        "from sklearn.ensemble import RandomForestClassifier\n",
        "from sklearn.metrics import (\n",
        "    classification_report,\n",
        "    confusion_matrix,\n",
        "    accuracy_score,\n",
        "    recall_score\n",
        ")\n",
        "from sklearn.model_selection import StratifiedKFold, train_test_split\n",
        "from sklearn.neighbors import NearestNeighbors\n",
        "import numpy as np\n",
        "from skopt import BayesSearchCV\n",
        "from skopt.space import Integer\n",
        "from imblearn.over_sampling import SMOTE\n",
        "\n",
        "def Anomaly_IDS(X_train, X_test, y_train, y_test, n, b=100):\n",
        "    km = MiniBatchKMeans(n_clusters=n, batch_size=b, random_state=42)\n",
        "    train_labels = km.fit_predict(X_train)\n",
        "    test_labels  = km.predict(X_test)\n",
        "\n",
        "    counts_pos = np.zeros(n)\n",
        "    counts_neg = np.zeros(n)\n",
        "    for idx, c in enumerate(train_labels):\n",
        "        if y_train[idx] == 1: counts_pos[c] += 1\n",
        "        else:               counts_neg[c] += 1\n",
        "\n",
        "    cluster_prob = {}\n",
        "    normal_clusters = []\n",
        "    attack_clusters = []\n",
        "    for c in range(n):\n",
        "        tot = counts_pos[c] + counts_neg[c]\n",
        "        if counts_pos[c] > counts_neg[c]:\n",
        "            attack_clusters.append(c)\n",
        "            cluster_prob[c] = counts_pos[c] / tot if tot>0 else 0.0\n",
        "        else:\n",
        "            normal_clusters.append(c)\n",
        "            cluster_prob[c] = counts_neg[c] / tot if tot>0 else 0.0\n",
        "\n",
        "    y_km = np.array([1 if c in attack_clusters else 0 for c in test_labels])\n",
        "\n",
        "    print(\"CL-k-means Performance:\")\n",
        "    print(classification_report(y_test, y_km))\n",
        "    cm = confusion_matrix(y_test, y_km)\n",
        "    tn, fp, fn, tp = cm.ravel()\n",
        "    dr = tp/(tp+fn) if tp+fn>0 else 0\n",
        "    far = fp/(fp+tn) if fp+tn>0 else 0\n",
        "    print(f\"  DR: {dr:.4f}, FAR: {far:.4f}\\n  CM:\\n{cm}\\n\")\n",
        "\n",
        "    y_train_km = np.array([1 if c in attack_clusters else 0 for c in train_labels])\n",
        "    fp_idx = np.where((y_train_km == 1) & (y_train == 0))[0]\n",
        "    fn_idx = np.where((y_train_km == 0) & (y_train == 1))[0]\n",
        "\n",
        "    X_fp = X_train[fp_idx]\n",
        "    X_fn = X_train[fn_idx]\n",
        "    X_norm = X_train[y_train == 0]\n",
        "    X_adv  = X_train[y_train == 1]\n",
        "\n",
        "    if len(X_fp) and len(X_adv):\n",
        "        attack_samples_for_fp = X_adv[np.random.choice(len(X_adv), size=len(X_fp),replace=True)]\n",
        "        Xp = np.concatenate([X_fp, attack_samples_for_fp])\n",
        "        yp = np.concatenate([np.zeros(len(X_fp)), np.ones(len(X_fp))])\n",
        "        yp = yp.astype(np.int64)\n",
        "        y_counts = np.bincount(yp)\n",
        "        print(y_counts)\n",
        "        min_groups = np.min(y_counts)\n",
        "        if min_groups >= 2:\n",
        "          opt_rfp = BayesSearchCV(\n",
        "              RandomForestClassifier(random_state=0),\n",
        "              {\n",
        "                  'n_estimators': Integer(10,200),\n",
        "                  'max_depth':    Integer(3,50),\n",
        "                  'min_samples_split': Integer(2,10)\n",
        "              },\n",
        "              n_iter=20,\n",
        "              cv=StratifiedKFold(5, shuffle=True, random_state=0),\n",
        "              scoring='f1',\n",
        "              n_jobs=-1,\n",
        "              random_state=0\n",
        "          )\n",
        "          opt_rfp.fit(Xp, yp)\n",
        "          rfp = opt_rfp.best_estimator_\n",
        "        else:\n",
        "          rfp = RandomForestClassifier(random_state=0).fit(X_train, y_train)\n",
        "    else:\n",
        "        rfp = RandomForestClassifier(random_state=0).fit(X_train, y_train)\n",
        "\n",
        "    if len(X_fn) and len(X_norm):\n",
        "        normal_samples_for_fn = X_norm[np.random.choice(len(X_norm), size=len(X_fn),replace=True)]\n",
        "        Xn = np.concatenate([X_fn, normal_samples_for_fn])\n",
        "        yn = np.concatenate([np.zeros(len(X_fn)), np.ones(len(X_fn))])\n",
        "        yn = yn.astype(np.int64)\n",
        "        y_counts = np.bincount(yn)\n",
        "        print(y_counts)\n",
        "        min_groups = np.min(y_counts)\n",
        "\n",
        "        if min_groups >= 2:\n",
        "          opt_rfn = BayesSearchCV(\n",
        "              RandomForestClassifier(random_state=0),\n",
        "              {\n",
        "                  'n_estimators': Integer(10,200),\n",
        "                  'max_depth':    Integer(3,50),\n",
        "                  'min_samples_split': Integer(2,10)\n",
        "              },\n",
        "              n_iter=20,\n",
        "              cv=StratifiedKFold(5, shuffle=True, random_state=0),\n",
        "              scoring='f1',\n",
        "              n_jobs=-1,\n",
        "              random_state=0\n",
        "          )\n",
        "          opt_rfn.fit(Xn, yn)\n",
        "          rfn = opt_rfn.best_estimator_\n",
        "        else:\n",
        "          rfn = RandomForestClassifier(random_state=0).fit(X_train, y_train)  # fallback\n",
        "    else:\n",
        "        rfn = RandomForestClassifier(random_state=0).fit(X_train, y_train)  # fallback\n",
        "\n",
        "    probs = np.array([cluster_prob.get(c,0.0) for c in test_labels])\n",
        "    best_thr, best_rec = 0.5, 0.0\n",
        "    for thr in np.linspace(0.5, 0.99, 50):\n",
        "        y_tmp = y_km.copy()\n",
        "        for i, p in enumerate(probs):\n",
        "            if p < thr:\n",
        "                if y_tmp[i] == 0:\n",
        "                    y_tmp[i] = rfn.predict(X_test[i].reshape(1,-1))[0]\n",
        "                else:\n",
        "                    y_tmp[i] = rfp.predict(X_test[i].reshape(1,-1))[0]\n",
        "        rec = recall_score(y_test, y_tmp)\n",
        "        if rec > best_rec:\n",
        "            best_rec, best_thr = rec, thr\n",
        "\n",
        "    y_final = y_km.copy()\n",
        "    for i, p in enumerate(probs):\n",
        "        if p < best_thr:\n",
        "            if y_final[i] == 0:\n",
        "                y_final[i] = rfn.predict(X_test[i].reshape(1,-1))[0]\n",
        "            else:\n",
        "                y_final[i] = rfp.predict(X_test[i].reshape(1,-1))[0]\n",
        "\n",
        "\n",
        "    print(\"MTH-IDS Performance:\")\n",
        "    print(classification_report(y_test, y_final))\n",
        "    cm2 = confusion_matrix(y_test, y_final)\n",
        "\n",
        "    tn, fp, fn, tp = cm2.ravel()\n",
        "    dr2 = tp/(tp+fn) if tp+fn>0 else 0\n",
        "    far2 = fp/(fp+tn) if fp+tn>0 else 0\n",
        "    acc2 = accuracy_score(y_test, y_final)\n",
        "\n",
        "    print(f\"  Acc: {acc2:.4f}, DR: {dr2:.4f}, FAR: {far2:.4f}\\n  CM:\\n{cm2}\")\n",
        "\n",
        "    return acc2, dr2, far2, cm2"
      ]
    },
    {
      "cell_type": "code",
      "execution_count": 39,
      "metadata": {
        "id": "yg2G5w1qsunu"
      },
      "outputs": [],
      "source": [
        "X_train = X_kpca[:len(df1)]\n",
        "y_train = y[:len(df1)]\n",
        "X_test = X_kpca[len(df1):]\n",
        "y_test = y[len(df1):]"
      ]
    },
    {
      "cell_type": "code",
      "execution_count": 40,
      "metadata": {
        "colab": {
          "base_uri": "https://localhost:8080/"
        },
        "id": "lY-17eWHbi_W",
        "outputId": "a567c5dd-a3fb-4cb8-b766-0a7556fc5006"
      },
      "outputs": [
        {
          "name": "stdout",
          "output_type": "stream",
          "text": [
            "CL-k-means Performance:\n",
            "              precision    recall  f1-score   support\n",
            "\n",
            "           0       0.49      0.94      0.65      3187\n",
            "           1       0.40      0.04      0.07      3187\n",
            "\n",
            "    accuracy                           0.49      6374\n",
            "   macro avg       0.45      0.49      0.36      6374\n",
            "weighted avg       0.45      0.49      0.36      6374\n",
            "\n",
            "  DR: 0.0411, FAR: 0.0615\n",
            "  CM:\n",
            "[[2991  196]\n",
            " [3056  131]]\n",
            "\n",
            "[1952 1952]\n",
            "[5647 5647]\n",
            "MTH-IDS Performance:\n",
            "              precision    recall  f1-score   support\n",
            "\n",
            "           0       0.80      0.88      0.84      3187\n",
            "           1       0.87      0.79      0.83      3187\n",
            "\n",
            "    accuracy                           0.84      6374\n",
            "   macro avg       0.84      0.84      0.83      6374\n",
            "weighted avg       0.84      0.84      0.83      6374\n",
            "\n",
            "  Acc: 0.8351, DR: 0.7857, FAR: 0.1155\n",
            "  CM:\n",
            "[[2819  368]\n",
            " [ 683 2504]]\n"
          ]
        }
      ],
      "source": [
        "one_acc, one_dr, one_far, one_f1 = Anomaly_IDS(X_train, X_test, y_train, y_test, res_gp.x[0])"
      ]
    }
  ],
  "metadata": {
    "anaconda-cloud": {},
    "colab": {
      "machine_shape": "hm",
      "provenance": []
    },
    "kernelspec": {
      "display_name": "Python 3",
      "name": "python3"
    },
    "language_info": {
      "codemirror_mode": {
        "name": "ipython",
        "version": 3
      },
      "file_extension": ".py",
      "mimetype": "text/x-python",
      "name": "python",
      "nbconvert_exporter": "python",
      "pygments_lexer": "ipython3",
      "version": "3.12.2"
    }
  },
  "nbformat": 4,
  "nbformat_minor": 0
}
